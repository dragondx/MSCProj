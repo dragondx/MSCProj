{
 "cells": [
  {
   "cell_type": "code",
   "execution_count": 1,
   "metadata": {},
   "outputs": [],
   "source": [
    "# This is the training script for fine-tuning bert on \n",
    "# unaltered GPT data and manually labelled data\n",
    "# For better performance/generalization, look for augmented dataset\n",
    "# Read README.md for comments and details."
   ]
  },
  {
   "cell_type": "code",
   "execution_count": 2,
   "metadata": {},
   "outputs": [],
   "source": [
    "# all classes\n",
    "\n",
    "classes = [\"banking\",\"valuation\",\"household\",\"real estate\",\"corporate\",\"external\",\"sovereign\",\"technology\", \"climate\", \"energy\", \"health\", \"eu\"]\n"
   ]
  },
  {
   "cell_type": "code",
   "execution_count": 3,
   "metadata": {},
   "outputs": [],
   "source": [
    "from transformers import AutoModelForSequenceClassification, AutoTokenizer, Trainer, TrainingArguments\n",
    "import torch\n",
    "import numpy as np\n",
    "from sklearn.metrics import accuracy_score, precision_recall_fscore_support,top_k_accuracy_score\n",
    "import math\n",
    "import pickle\n",
    "from datasets import Dataset"
   ]
  },
  {
   "cell_type": "code",
   "execution_count": 4,
   "metadata": {},
   "outputs": [
    {
     "name": "stderr",
     "output_type": "stream",
     "text": [
      "Some weights of the model checkpoint at bert-base-uncased were not used when initializing BertForSequenceClassification: ['cls.predictions.transform.LayerNorm.weight', 'cls.predictions.transform.dense.weight', 'cls.seq_relationship.bias', 'cls.predictions.bias', 'cls.predictions.transform.dense.bias', 'cls.predictions.decoder.weight', 'cls.predictions.transform.LayerNorm.bias', 'cls.seq_relationship.weight']\n",
      "- This IS expected if you are initializing BertForSequenceClassification from the checkpoint of a model trained on another task or with another architecture (e.g. initializing a BertForSequenceClassification model from a BertForPreTraining model).\n",
      "- This IS NOT expected if you are initializing BertForSequenceClassification from the checkpoint of a model that you expect to be exactly identical (initializing a BertForSequenceClassification model from a BertForSequenceClassification model).\n",
      "Some weights of BertForSequenceClassification were not initialized from the model checkpoint at bert-base-uncased and are newly initialized: ['classifier.weight', 'classifier.bias']\n",
      "You should probably TRAIN this model on a down-stream task to be able to use it for predictions and inference.\n"
     ]
    }
   ],
   "source": [
    "# load bert-based and finbert\n",
    "model = AutoModelForSequenceClassification.from_pretrained('bert-base-uncased', num_labels=len(classes))\n",
    "finbert = AutoModelForSequenceClassification.from_pretrained('ProsusAI/finbert')\n",
    "tokenizer = AutoTokenizer.from_pretrained('ProsusAI/finbert', use_fast =True)"
   ]
  },
  {
   "cell_type": "code",
   "execution_count": 5,
   "metadata": {},
   "outputs": [
    {
     "data": {
      "text/plain": [
       "<All keys matched successfully>"
      ]
     },
     "execution_count": 5,
     "metadata": {},
     "output_type": "execute_result"
    }
   ],
   "source": [
    "# weights transfer for encoder layers only \n",
    "finbert_weights = finbert.state_dict()\n",
    "model_weights = model.state_dict()\n",
    "del finbert_weights[\"bert.pooler.dense.weight\"]\n",
    "del finbert_weights[\"bert.pooler.dense.bias\"]\n",
    "del finbert_weights[\"classifier.weight\"]\n",
    "del finbert_weights[\"classifier.bias\"]\n",
    "finbert_weights[\"bert.pooler.dense.weight\"] = model_weights[\"bert.pooler.dense.weight\"]\n",
    "finbert_weights[\"bert.pooler.dense.bias\"] = model_weights[\"bert.pooler.dense.bias\"]\n",
    "finbert_weights[\"classifier.weight\"] = model_weights[\"classifier.weight\"]\n",
    "finbert_weights[\"classifier.bias\"] = model_weights[\"classifier.bias\"]\n",
    "\n",
    "model.load_state_dict(finbert_weights)\n"
   ]
  },
  {
   "cell_type": "code",
   "execution_count": 6,
   "metadata": {},
   "outputs": [],
   "source": [
    "# flatten to one list for all 3\n",
    "\n",
    "# manual labelled\n",
    "with open('train_data.pickle', 'rb') as file:\n",
    "    train = pickle.load(file)\n",
    "\n",
    "# gpt labelled p1\n",
    "with open('gpt.pickle', 'rb') as file:\n",
    "    gpt = pickle.load(file)\n",
    "\n",
    "# gpt labelled p2\n",
    "with open('gpt_p2.pickle', 'rb') as file:\n",
    "    gpt2 = pickle.load(file)\n",
    "    \n",
    "gpt = [item for sublist in gpt for item in sublist]\n",
    "gpt2 = [item for sublist in gpt2 for item in sublist]\n",
    "\n",
    "mixed = gpt + gpt2"
   ]
  },
  {
   "cell_type": "code",
   "execution_count": 7,
   "metadata": {},
   "outputs": [
    {
     "name": "stdout",
     "output_type": "stream",
     "text": [
      "2458\n"
     ]
    }
   ],
   "source": [
    "print(len(mixed))"
   ]
  },
  {
   "cell_type": "code",
   "execution_count": 8,
   "metadata": {},
   "outputs": [],
   "source": [
    "# change to sampling methods instead of argmax if treat GPT-3 data as probabilities.\n",
    "sample = 1\n",
    "\n",
    "text_max = [item[\"text\"] for i in range(sample) for item in train]\n",
    "label_max = [np.argmax(item[\"dist\"]) for i in range(sample) for item in train]\n",
    "\n",
    "text_max_mixed = [item[\"text\"] for i in range(sample) for item in mixed]\n",
    "label_max_mixed = [np.argmax(item[\"dist\"]) for i in range(sample) for item in mixed]\n",
    "\n",
    "comb_text = text_max + text_max_mixed\n",
    "comb_label = label_max + label_max_mixed"
   ]
  },
  {
   "cell_type": "code",
   "execution_count": 9,
   "metadata": {},
   "outputs": [],
   "source": [
    "assert len(comb_text) == len(comb_label)"
   ]
  },
  {
   "cell_type": "code",
   "execution_count": 10,
   "metadata": {},
   "outputs": [],
   "source": [
    "# random shuffle\n",
    "import random\n",
    "temp = list(zip(comb_text, comb_label))\n",
    "random.shuffle(temp)\n",
    "comb_text, comb_label = zip(*temp)"
   ]
  },
  {
   "cell_type": "code",
   "execution_count": 11,
   "metadata": {},
   "outputs": [
    {
     "name": "stdout",
     "output_type": "stream",
     "text": [
      "2719\n"
     ]
    }
   ],
   "source": [
    "print(len(comb_text))"
   ]
  },
  {
   "cell_type": "code",
   "execution_count": 12,
   "metadata": {},
   "outputs": [],
   "source": [
    "train_text, test_text = comb_text[:math.ceil(len(comb_text)*0.9)], comb_text[math.ceil(len(comb_text)*0.9):]\n",
    "train_label, test_label = comb_label[:math.ceil(len(comb_label)*0.9)], comb_label[math.ceil(len(comb_label)*0.9):]"
   ]
  },
  {
   "cell_type": "code",
   "execution_count": 13,
   "metadata": {},
   "outputs": [],
   "source": [
    "train_dataset = Dataset.from_dict({\"text\":train_text, \"label\":train_label})\n",
    "test_dataset = Dataset.from_dict({\"text\":test_text, \"label\":test_label})"
   ]
  },
  {
   "cell_type": "code",
   "execution_count": 14,
   "metadata": {},
   "outputs": [
    {
     "name": "stderr",
     "output_type": "stream",
     "text": [
      "100%|██████████| 1/1 [00:00<00:00,  7.41ba/s]\n",
      "100%|██████████| 1/1 [00:00<00:00, 62.49ba/s]\n"
     ]
    }
   ],
   "source": [
    "def tokenize(batch):\n",
    "    return tokenizer(batch['text'], padding=True, truncation=True)\n",
    "train_dataset = train_dataset.map(tokenize, batched=True, batch_size=len(train_dataset))\n",
    "test_dataset = test_dataset.map(tokenize, batched=True, batch_size=len(test_dataset))\n",
    "train_dataset.set_format('torch', columns=['input_ids', 'attention_mask', 'label'])\n",
    "test_dataset.set_format('torch', columns=['input_ids', 'attention_mask', 'label'])"
   ]
  },
  {
   "cell_type": "code",
   "execution_count": 15,
   "metadata": {},
   "outputs": [
    {
     "data": {
      "text/plain": [
       "tensor([[  101,  2445,  2008,  ...,     0,     0,     0],\n",
       "        [  101,  6847, 10665,  ...,     0,     0,     0],\n",
       "        [  101,  9308,  1010,  ...,     0,     0,     0],\n",
       "        ...,\n",
       "        [  101,  1998,  2117,  ...,     0,     0,     0],\n",
       "        [  101,  2021,  1045,  ...,     0,     0,     0],\n",
       "        [  101,  3098, 12629,  ...,     0,     0,     0]])"
      ]
     },
     "execution_count": 15,
     "metadata": {},
     "output_type": "execute_result"
    }
   ],
   "source": [
    "train_dataset[\"input_ids\"]"
   ]
  },
  {
   "cell_type": "code",
   "execution_count": 16,
   "metadata": {},
   "outputs": [],
   "source": [
    "def compute_metrics(pred):\n",
    "    labels = pred.label_ids\n",
    "    preds = pred.predictions.argmax(-1)\n",
    "    precision, recall, f1, _ = precision_recall_fscore_support(labels, preds, average='macro')\n",
    "    acc = accuracy_score(labels, preds)\n",
    "    top3 = top_k_accuracy_score(labels, pred.predictions,k=3)\n",
    "    top2 = top_k_accuracy_score(labels, pred.predictions,k=2)\n",
    "    return {\n",
    "        'accuracy': acc,\n",
    "        'f1': f1,\n",
    "        'precision': precision,\n",
    "        'recall': recall,\n",
    "        'top3': top3,\n",
    "         'top2': top2\n",
    "    }\n",
    "\n",
    "training_args = TrainingArguments(\n",
    "    \n",
    "    output_dir='./results',\n",
    "    learning_rate=2e-5,\n",
    "    num_train_epochs=20,\n",
    "    per_device_train_batch_size=16,\n",
    "    per_device_eval_batch_size=64,\n",
    "    warmup_steps=500,\n",
    "    weight_decay=0.01,\n",
    "    metric_for_best_model=\"accuracy\",\n",
    "    evaluation_strategy='epoch',\n",
    "    save_strategy = \"epoch\",\n",
    "    logging_dir='./logs',\n",
    "    save_total_limit = 1, # Only last 5 models are saved. Older ones are deleted.\n",
    "    load_best_model_at_end=True,\n",
    ")\n",
    "    \n",
    "trainer = Trainer(\n",
    "    model=model,\n",
    "    args=training_args,\n",
    "    compute_metrics=compute_metrics,\n",
    "    train_dataset=train_dataset,\n",
    "    eval_dataset=test_dataset\n",
    ")"
   ]
  },
  {
   "cell_type": "code",
   "execution_count": 17,
   "metadata": {},
   "outputs": [
    {
     "name": "stderr",
     "output_type": "stream",
     "text": [
      "The following columns in the training set  don't have a corresponding argument in `BertForSequenceClassification.forward` and have been ignored: text.\n",
      "***** Running training *****\n",
      "  Num examples = 2448\n",
      "  Num Epochs = 20\n",
      "  Instantaneous batch size per device = 16\n",
      "  Total train batch size (w. parallel, distributed & accumulation) = 16\n",
      "  Gradient Accumulation steps = 1\n",
      "  Total optimization steps = 3060\n",
      "  5%|▌         | 153/3060 [00:17<05:24,  8.95it/s]The following columns in the evaluation set  don't have a corresponding argument in `BertForSequenceClassification.forward` and have been ignored: text.\n",
      "***** Running Evaluation *****\n",
      "  Num examples = 271\n",
      "  Batch size = 64\n",
      "C:\\Users\\felix\\AppData\\Local\\Programs\\Python\\Python38\\lib\\site-packages\\sklearn\\metrics\\_classification.py:1308: UndefinedMetricWarning: Precision and F-score are ill-defined and being set to 0.0 in labels with no predicted samples. Use `zero_division` parameter to control this behavior.\n",
      "  _warn_prf(average, modifier, msg_start, len(result))\n",
      "\n",
      "  5%|▌         | 153/3060 [00:17<05:24,  8.95it/s]Saving model checkpoint to ./results\\checkpoint-153\n",
      "Configuration saved in ./results\\checkpoint-153\\config.json\n"
     ]
    },
    {
     "name": "stdout",
     "output_type": "stream",
     "text": [
      "{'eval_loss': 2.1546473503112793, 'eval_accuracy': 0.31365313653136534, 'eval_f1': 0.09809622869556318, 'eval_precision': 0.10405982905982906, 'eval_recall': 0.11748707771104683, 'eval_top3': 0.6273062730627307, 'eval_top2': 0.5129151291512916, 'eval_runtime': 0.3567, 'eval_samples_per_second': 759.785, 'eval_steps_per_second': 14.018, 'epoch': 1.0}\n"
     ]
    },
    {
     "name": "stderr",
     "output_type": "stream",
     "text": [
      "Model weights saved in ./results\\checkpoint-153\\pytorch_model.bin\n",
      "Deleting older checkpoint [results\\checkpoint-612] due to args.save_total_limit\n",
      " 10%|█         | 306/3060 [00:36<05:02,  9.10it/s]The following columns in the evaluation set  don't have a corresponding argument in `BertForSequenceClassification.forward` and have been ignored: text.\n",
      "***** Running Evaluation *****\n",
      "  Num examples = 271\n",
      "  Batch size = 64\n",
      "C:\\Users\\felix\\AppData\\Local\\Programs\\Python\\Python38\\lib\\site-packages\\sklearn\\metrics\\_classification.py:1308: UndefinedMetricWarning: Precision and F-score are ill-defined and being set to 0.0 in labels with no predicted samples. Use `zero_division` parameter to control this behavior.\n",
      "  _warn_prf(average, modifier, msg_start, len(result))\n",
      "\n",
      " 10%|█         | 306/3060 [00:36<05:02,  9.10it/s]Saving model checkpoint to ./results\\checkpoint-306\n",
      "Configuration saved in ./results\\checkpoint-306\\config.json\n"
     ]
    },
    {
     "name": "stdout",
     "output_type": "stream",
     "text": [
      "{'eval_loss': 1.6896413564682007, 'eval_accuracy': 0.4870848708487085, 'eval_f1': 0.1992874550961087, 'eval_precision': 0.18733516162912825, 'eval_recall': 0.2299918161652701, 'eval_top3': 0.7306273062730627, 'eval_top2': 0.6642066420664207, 'eval_runtime': 0.3191, 'eval_samples_per_second': 849.336, 'eval_steps_per_second': 15.67, 'epoch': 2.0}\n"
     ]
    },
    {
     "name": "stderr",
     "output_type": "stream",
     "text": [
      "Model weights saved in ./results\\checkpoint-306\\pytorch_model.bin\n",
      "Deleting older checkpoint [results\\checkpoint-765] due to args.save_total_limit\n",
      " 13%|█▎        | 397/3060 [00:48<04:35,  9.68it/s]"
     ]
    }
   ],
   "source": [
    "trainer.train()"
   ]
  },
  {
   "cell_type": "code",
   "execution_count": null,
   "metadata": {},
   "outputs": [
    {
     "name": "stderr",
     "output_type": "stream",
     "text": [
      "100%|██████████| 62/62 [00:09<00:00,  6.72it/s]\n"
     ]
    },
    {
     "data": {
      "text/plain": [
       "{'eval_loss': 1.0243563652038574,\n",
       " 'eval_accuracy': 0.5766404864454016,\n",
       " 'eval_f1': 0.5316538589564456,\n",
       " 'eval_precision': 0.546277783485254,\n",
       " 'eval_recall': 0.5233829825328863,\n",
       " 'eval_top3': 0.8826957182670383,\n",
       " 'eval_top2': 0.7907271345325564,\n",
       " 'eval_runtime': 9.3876,\n",
       " 'eval_samples_per_second': 420.447,\n",
       " 'epoch': 20.0}"
      ]
     },
     "execution_count": 19,
     "metadata": {},
     "output_type": "execute_result"
    }
   ],
   "source": [
    "trainer.evaluate()"
   ]
  }
 ],
 "metadata": {
  "interpreter": {
   "hash": "1b174d106187cf4c36b481e4f9775d9b6103c84ebc5bd0573d3cc5e86d067305"
  },
  "kernelspec": {
   "display_name": "Python 3.8.5 64-bit",
   "name": "python3"
  },
  "language_info": {
   "codemirror_mode": {
    "name": "ipython",
    "version": 3
   },
   "file_extension": ".py",
   "mimetype": "text/x-python",
   "name": "python",
   "nbconvert_exporter": "python",
   "pygments_lexer": "ipython3",
   "version": "3.8.5"
  },
  "orig_nbformat": 4
 },
 "nbformat": 4,
 "nbformat_minor": 2
}

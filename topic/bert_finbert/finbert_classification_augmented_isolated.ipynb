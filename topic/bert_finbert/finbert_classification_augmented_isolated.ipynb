{
 "cells": [
  {
   "cell_type": "code",
   "execution_count": 1,
   "metadata": {},
   "outputs": [],
   "source": [
    "# This is the training script for fine-tuning bert on \n",
    "# unaltered GPT data and manually labelled data\n",
    "# For better performance/generalization, look for augmented dataset\n",
    "# Read README.md for comments and details."
   ]
  },
  {
   "cell_type": "code",
   "execution_count": 2,
   "metadata": {},
   "outputs": [],
   "source": [
    "\n",
    "# all classes\n",
    "\n",
    "classes = [\"banking\",\"valuation\",\"household\",\"real estate\",\"corporate\",\"external\",\"sovereign\",\"technology\", \"climate\", \"energy\", \"health\", \"eu\"]\n"
   ]
  },
  {
   "cell_type": "code",
   "execution_count": 3,
   "metadata": {},
   "outputs": [],
   "source": [
    "from transformers import AutoModelForSequenceClassification, AutoTokenizer, Trainer, TrainingArguments\n",
    "import torch\n",
    "import numpy as np\n",
    "from sklearn.metrics import accuracy_score, precision_recall_fscore_support,top_k_accuracy_score\n",
    "import math\n",
    "import pickle\n",
    "from datasets import Dataset"
   ]
  },
  {
   "cell_type": "code",
   "execution_count": 4,
   "metadata": {},
   "outputs": [
    {
     "name": "stderr",
     "output_type": "stream",
     "text": [
      "Some weights of the model checkpoint at bert-base-uncased were not used when initializing BertForSequenceClassification: ['cls.predictions.transform.LayerNorm.bias', 'cls.predictions.transform.LayerNorm.weight', 'cls.seq_relationship.weight', 'cls.seq_relationship.bias', 'cls.predictions.transform.dense.bias', 'cls.predictions.bias', 'cls.predictions.transform.dense.weight', 'cls.predictions.decoder.weight']\n",
      "- This IS expected if you are initializing BertForSequenceClassification from the checkpoint of a model trained on another task or with another architecture (e.g. initializing a BertForSequenceClassification model from a BertForPreTraining model).\n",
      "- This IS NOT expected if you are initializing BertForSequenceClassification from the checkpoint of a model that you expect to be exactly identical (initializing a BertForSequenceClassification model from a BertForSequenceClassification model).\n",
      "Some weights of BertForSequenceClassification were not initialized from the model checkpoint at bert-base-uncased and are newly initialized: ['classifier.weight', 'classifier.bias']\n",
      "You should probably TRAIN this model on a down-stream task to be able to use it for predictions and inference.\n"
     ]
    }
   ],
   "source": [
    "# load bert-based and finbert\n",
    "model = AutoModelForSequenceClassification.from_pretrained('bert-base-uncased', num_labels=len(classes))\n",
    "finbert = AutoModelForSequenceClassification.from_pretrained('ProsusAI/finbert')\n",
    "tokenizer = AutoTokenizer.from_pretrained('ProsusAI/finbert', use_fast =True)"
   ]
  },
  {
   "cell_type": "code",
   "execution_count": 5,
   "metadata": {},
   "outputs": [
    {
     "data": {
      "text/plain": [
       "<All keys matched successfully>"
      ]
     },
     "execution_count": 5,
     "metadata": {},
     "output_type": "execute_result"
    }
   ],
   "source": [
    "# weights transfer for encoder layers only \n",
    "finbert_weights = finbert.state_dict()\n",
    "model_weights = model.state_dict()\n",
    "del finbert_weights[\"bert.pooler.dense.weight\"]\n",
    "del finbert_weights[\"bert.pooler.dense.bias\"]\n",
    "del finbert_weights[\"classifier.weight\"]\n",
    "del finbert_weights[\"classifier.bias\"]\n",
    "finbert_weights[\"bert.pooler.dense.weight\"] = model_weights[\"bert.pooler.dense.weight\"]\n",
    "finbert_weights[\"bert.pooler.dense.bias\"] = model_weights[\"bert.pooler.dense.bias\"]\n",
    "finbert_weights[\"classifier.weight\"] = model_weights[\"classifier.weight\"]\n",
    "finbert_weights[\"classifier.bias\"] = model_weights[\"classifier.bias\"]\n",
    "\n",
    "model.load_state_dict(finbert_weights)\n"
   ]
  },
  {
   "cell_type": "code",
   "execution_count": 6,
   "metadata": {},
   "outputs": [],
   "source": [
    "# flatten to one list for all 3\n",
    "\n",
    "# manual labelled\n",
    "with open('train_data.pickle', 'rb') as file:\n",
    "    train = pickle.load(file)\n",
    "\n",
    "# gpt labelled p1\n",
    "with open('gpt.pickle', 'rb') as file:\n",
    "    gpt = pickle.load(file)\n",
    "\n",
    "# gpt labelled p2\n",
    "with open('gpt_p2.pickle', 'rb') as file:\n",
    "    gpt2 = pickle.load(file)\n",
    "gpt = [item for sublist in gpt for item in sublist]\n",
    "gpt2 = [item for sublist in gpt2 for item in sublist]\n",
    "\n",
    "mixed = gpt + gpt2"
   ]
  },
  {
   "cell_type": "code",
   "execution_count": 7,
   "metadata": {},
   "outputs": [
    {
     "name": "stdout",
     "output_type": "stream",
     "text": [
      "2458\n"
     ]
    }
   ],
   "source": [
    "print(len(mixed))"
   ]
  },
  {
   "cell_type": "code",
   "execution_count": 8,
   "metadata": {},
   "outputs": [],
   "source": [
    "sample = 1\n",
    "\n",
    "additional_text = []\n",
    "additional_label = []\n",
    "\n",
    "for idx in range(1,len(mixed)-1):\n",
    "    sent1, sent2 = mixed[idx-1:idx+1]\n",
    "    for i in range(1):\n",
    "        additional_text.append(sent1[\"text\"]+' '+ sent2[\"text\"])\n",
    "        dist = (np.array(sent1[\"dist\"]) + np.array(sent2[\"dist\"]))/2\n",
    "        additional_label.append(np.argmax(dist))\n",
    "\n",
    "for idx in range(2,len(mixed)-1):\n",
    "    sent1, sent2, sent3 = mixed[idx-2:idx+1]\n",
    "    for i in range(1):\n",
    "        additional_text.append(sent1[\"text\"]+' '+ sent2[\"text\"]+' '+sent3[\"text\"])\n",
    "        dist = (np.array(sent1[\"dist\"]) + np.array(sent2[\"dist\"])+ np.array(sent3[\"dist\"]))/3\n",
    "        additional_label.append(np.argmax(dist))\n",
    "\n",
    "text_max = [item[\"text\"] for i in range(sample) for item in train]\n",
    "label_max = [np.argmax(item[\"dist\"]) for i in range(sample) for item in train]\n",
    "\n",
    "text_max_mixed = [item[\"text\"] for i in range(sample) for item in mixed]\n",
    "label_max_mixed = [np.argmax(item[\"dist\"]) for i in range(sample) for item in mixed]\n"
   ]
  },
  {
   "cell_type": "code",
   "execution_count": 9,
   "metadata": {},
   "outputs": [],
   "source": [
    "import random\n",
    "def randomize(text, label):\n",
    "    temp = list(zip(text, label))\n",
    "    random.shuffle(temp)\n",
    "    comb_text, comb_label =  zip(*temp)\n",
    "    return comb_text, comb_label\n",
    "\n",
    "# a1 = randomize(text_max, label_max)\n",
    "a2 = randomize(text_max_mixed, label_max_mixed)\n",
    "a3 = randomize(additional_text, additional_label)\n",
    "\n",
    "# test_text, train_text =  [*a1[0][math.ceil(len(a1[0])*0.8):],*a2[0][math.ceil(len(a2[0])*0.8):],*a3[0][math.ceil(len(a3[0])*0.8):] ], [*a1[0][:math.ceil(len(a1[0])*0.8)],*a2[0][:math.ceil(len(a2[0])*0.8)],*a3[0][:math.ceil(len(a3[0])*0.8)] ]\n",
    "# test_label, train_label = [*a1[1][math.ceil(len(a1[1])*0.8):],*a2[1][math.ceil(len(a2[1])*0.8):],*a3[1][math.ceil(len(a3[1])*0.8):] ],  [*a1[1][:math.ceil(len(a1[1])*0.8)],*a2[1][:math.ceil(len(a2[1])*0.8)],*a3[1][:math.ceil(len(a3[1])*0.8)] ]\n",
    "\n",
    "test_text, train_text =  [*a2[0][math.ceil(len(a2[0])*0.8):],*a3[0][math.ceil(len(a3[0])*0.8):] ], [*a2[0][:math.ceil(len(a2[0])*0.8)],*a3[0][:math.ceil(len(a3[0])*0.8)] ]\n",
    "test_label, train_label = [*a2[1][math.ceil(len(a2[1])*0.8):],*a3[1][math.ceil(len(a3[1])*0.8):] ],  [*a2[1][:math.ceil(len(a2[1])*0.8)],*a3[1][:math.ceil(len(a3[1])*0.8)] ]\n"
   ]
  },
  {
   "cell_type": "code",
   "execution_count": 10,
   "metadata": {},
   "outputs": [
    {
     "name": "stdout",
     "output_type": "stream",
     "text": [
      "5896\n",
      "1473\n"
     ]
    }
   ],
   "source": [
    "print(len(train_text))\n",
    "print(len(test_text))"
   ]
  },
  {
   "cell_type": "code",
   "execution_count": 11,
   "metadata": {},
   "outputs": [],
   "source": [
    "assert len(train_text) == len(train_label)\n",
    "assert len(test_text) == len(test_label)"
   ]
  },
  {
   "cell_type": "code",
   "execution_count": 12,
   "metadata": {},
   "outputs": [],
   "source": [
    "train_dataset = Dataset.from_dict({\"text\":train_text, \"label\":train_label})\n",
    "test_dataset = Dataset.from_dict({\"text\":test_text, \"label\":test_label})"
   ]
  },
  {
   "cell_type": "code",
   "execution_count": 13,
   "metadata": {},
   "outputs": [
    {
     "name": "stderr",
     "output_type": "stream",
     "text": [
      "100%|██████████| 1/1 [00:00<00:00,  1.72ba/s]\n",
      "100%|██████████| 1/1 [00:00<00:00,  8.73ba/s]\n"
     ]
    }
   ],
   "source": [
    "def tokenize(batch):\n",
    "    return tokenizer(batch['text'], padding=True, truncation=True)\n",
    "train_dataset = train_dataset.map(tokenize, batched=True, batch_size=len(train_dataset))\n",
    "test_dataset = test_dataset.map(tokenize, batched=True, batch_size=len(test_dataset))\n",
    "train_dataset.set_format('torch', columns=['input_ids', 'attention_mask', 'label'])\n",
    "test_dataset.set_format('torch', columns=['input_ids', 'attention_mask', 'label'])"
   ]
  },
  {
   "cell_type": "code",
   "execution_count": 14,
   "metadata": {},
   "outputs": [
    {
     "data": {
      "text/plain": [
       "tensor([[ 101, 2429, 2000,  ...,    0,    0,    0],\n",
       "        [ 101, 1998, 2057,  ...,    0,    0,    0],\n",
       "        [ 101, 2004, 1010,  ...,    0,    0,    0],\n",
       "        ...,\n",
       "        [ 101, 2004, 1045,  ...,    0,    0,    0],\n",
       "        [ 101, 1998, 2057,  ...,    0,    0,    0],\n",
       "        [ 101, 2144, 2978,  ...,    0,    0,    0]])"
      ]
     },
     "execution_count": 14,
     "metadata": {},
     "output_type": "execute_result"
    }
   ],
   "source": [
    "train_dataset[\"input_ids\"]"
   ]
  },
  {
   "cell_type": "code",
   "execution_count": 15,
   "metadata": {},
   "outputs": [],
   "source": [
    "def compute_metrics(pred):\n",
    "    labels = pred.label_ids\n",
    "    preds = pred.predictions.argmax(-1)\n",
    "    precision, recall, f1, _ = precision_recall_fscore_support(labels, preds, average='macro')\n",
    "    acc = accuracy_score(labels, preds)\n",
    "    top3 = top_k_accuracy_score(labels, pred.predictions,k=3)\n",
    "    top2 = top_k_accuracy_score(labels, pred.predictions,k=2)\n",
    "    return {\n",
    "        'accuracy': acc,\n",
    "        'f1': f1,\n",
    "        'precision': precision,\n",
    "        'recall': recall,\n",
    "        'top3': top3,\n",
    "        'top2': top2\n",
    "    }\n",
    "\n",
    "training_args = TrainingArguments(\n",
    "    \n",
    "    output_dir='./results',\n",
    "    learning_rate=2e-5,\n",
    "    num_train_epochs=20,\n",
    "    per_device_train_batch_size=16,\n",
    "    per_device_eval_batch_size=64,\n",
    "    warmup_steps=500,\n",
    "    weight_decay=0.01,\n",
    "    metric_for_best_model=\"accuracy\",\n",
    "    evaluation_strategy='epoch',\n",
    "    save_strategy = \"epoch\",\n",
    "    logging_dir='./logs',\n",
    "    save_total_limit = 1, # Only last 5 models are saved. Older ones are deleted.\n",
    "    load_best_model_at_end=True,\n",
    ")\n",
    "   \n",
    "trainer = Trainer(\n",
    "    model=model,\n",
    "    args=training_args,\n",
    "    compute_metrics=compute_metrics,\n",
    "    train_dataset=train_dataset,\n",
    "    eval_dataset=test_dataset\n",
    ")"
   ]
  },
  {
   "cell_type": "code",
   "execution_count": 16,
   "metadata": {},
   "outputs": [
    {
     "name": "stderr",
     "output_type": "stream",
     "text": [
      "The following columns in the training set  don't have a corresponding argument in `BertForSequenceClassification.forward` and have been ignored: text.\n",
      "***** Running training *****\n",
      "  Num examples = 5896\n",
      "  Num Epochs = 20\n",
      "  Instantaneous batch size per device = 16\n",
      "  Total train batch size (w. parallel, distributed & accumulation) = 16\n",
      "  Gradient Accumulation steps = 1\n",
      "  Total optimization steps = 7380\n",
      "  5%|▍         | 368/7380 [02:52<45:09,  2.59it/s]The following columns in the evaluation set  don't have a corresponding argument in `BertForSequenceClassification.forward` and have been ignored: text.\n",
      "***** Running Evaluation *****\n",
      "  Num examples = 1473\n",
      "  Batch size = 64\n",
      "C:\\Users\\felix\\AppData\\Local\\Programs\\Python\\Python38\\lib\\site-packages\\sklearn\\metrics\\_classification.py:1308: UndefinedMetricWarning: Precision and F-score are ill-defined and being set to 0.0 in labels with no predicted samples. Use `zero_division` parameter to control this behavior.\n",
      "  _warn_prf(average, modifier, msg_start, len(result))\n",
      "\n",
      "  5%|▌         | 369/7380 [03:02<45:08,  2.59it/s]Saving model checkpoint to ./results\\checkpoint-369\n",
      "Configuration saved in ./results\\checkpoint-369\\config.json\n"
     ]
    },
    {
     "name": "stdout",
     "output_type": "stream",
     "text": [
      "{'eval_loss': 1.2970434427261353, 'eval_accuracy': 0.603530210454854, 'eval_f1': 0.2705597875498683, 'eval_precision': 0.2994106020459237, 'eval_recall': 0.28403628556726984, 'eval_top3': 0.8553971486761711, 'eval_top2': 0.7834351663272233, 'eval_runtime': 10.1238, 'eval_samples_per_second': 145.498, 'eval_steps_per_second': 2.371, 'epoch': 1.0}\n"
     ]
    },
    {
     "name": "stderr",
     "output_type": "stream",
     "text": [
      "Model weights saved in ./results\\checkpoint-369\\pytorch_model.bin\n",
      "Deleting older checkpoint [results\\checkpoint-382] due to args.save_total_limit\n",
      "  7%|▋         | 501/7380 [04:11<37:23,  3.07it/s]"
     ]
    },
    {
     "name": "stdout",
     "output_type": "stream",
     "text": [
      "{'loss': 1.7254, 'learning_rate': 2e-05, 'epoch': 1.36}\n"
     ]
    },
    {
     "name": "stderr",
     "output_type": "stream",
     "text": [
      " 10%|▉         | 737/7380 [06:02<1:37:00,  1.14it/s]The following columns in the evaluation set  don't have a corresponding argument in `BertForSequenceClassification.forward` and have been ignored: text.\n",
      "***** Running Evaluation *****\n",
      "  Num examples = 1473\n",
      "  Batch size = 64\n",
      "C:\\Users\\felix\\AppData\\Local\\Programs\\Python\\Python38\\lib\\site-packages\\sklearn\\metrics\\_classification.py:1308: UndefinedMetricWarning: Precision and F-score are ill-defined and being set to 0.0 in labels with no predicted samples. Use `zero_division` parameter to control this behavior.\n",
      "  _warn_prf(average, modifier, msg_start, len(result))\n",
      "\n",
      " 10%|█         | 738/7380 [06:12<1:36:59,  1.14it/s]Saving model checkpoint to ./results\\checkpoint-738\n",
      "Configuration saved in ./results\\checkpoint-738\\config.json\n"
     ]
    },
    {
     "name": "stdout",
     "output_type": "stream",
     "text": [
      "{'eval_loss': 0.9000146985054016, 'eval_accuracy': 0.7243720298710116, 'eval_f1': 0.46941368213658524, 'eval_precision': 0.5037980791433768, 'eval_recall': 0.46083352596006066, 'eval_top3': 0.9171758316361168, 'eval_top2': 0.8594704684317719, 'eval_runtime': 9.7708, 'eval_samples_per_second': 150.756, 'eval_steps_per_second': 2.456, 'epoch': 2.0}\n"
     ]
    },
    {
     "name": "stderr",
     "output_type": "stream",
     "text": [
      "Model weights saved in ./results\\checkpoint-738\\pytorch_model.bin\n",
      "Deleting older checkpoint [results\\checkpoint-369] due to args.save_total_limit\n",
      " 14%|█▎        | 1001/7380 [08:19<34:09,  3.11it/s]"
     ]
    },
    {
     "name": "stdout",
     "output_type": "stream",
     "text": [
      "{'loss': 0.8419, 'learning_rate': 1.8546511627906977e-05, 'epoch': 2.71}\n"
     ]
    },
    {
     "name": "stderr",
     "output_type": "stream",
     "text": [
      " 15%|█▍        | 1106/7380 [09:08<41:13,  2.54it/s]The following columns in the evaluation set  don't have a corresponding argument in `BertForSequenceClassification.forward` and have been ignored: text.\n",
      "***** Running Evaluation *****\n",
      "  Num examples = 1473\n",
      "  Batch size = 64\n",
      "C:\\Users\\felix\\AppData\\Local\\Programs\\Python\\Python38\\lib\\site-packages\\sklearn\\metrics\\_classification.py:1308: UndefinedMetricWarning: Precision and F-score are ill-defined and being set to 0.0 in labels with no predicted samples. Use `zero_division` parameter to control this behavior.\n",
      "  _warn_prf(average, modifier, msg_start, len(result))\n",
      "\n",
      " 15%|█▌        | 1107/7380 [09:18<41:13,  2.54it/s]Saving model checkpoint to ./results\\checkpoint-1107\n",
      "Configuration saved in ./results\\checkpoint-1107\\config.json\n"
     ]
    },
    {
     "name": "stdout",
     "output_type": "stream",
     "text": [
      "{'eval_loss': 0.805374264717102, 'eval_accuracy': 0.7630685675492193, 'eval_f1': 0.5224675864407464, 'eval_precision': 0.5360791085672784, 'eval_recall': 0.5148936988505606, 'eval_top3': 0.9226069246435845, 'eval_top2': 0.8845892735913102, 'eval_runtime': 9.8084, 'eval_samples_per_second': 150.178, 'eval_steps_per_second': 2.447, 'epoch': 3.0}\n"
     ]
    },
    {
     "name": "stderr",
     "output_type": "stream",
     "text": [
      "Model weights saved in ./results\\checkpoint-1107\\pytorch_model.bin\n",
      "Deleting older checkpoint [results\\checkpoint-738] due to args.save_total_limit\n",
      " 20%|█▉        | 1475/7380 [12:14<22:30,  4.37it/s]The following columns in the evaluation set  don't have a corresponding argument in `BertForSequenceClassification.forward` and have been ignored: text.\n",
      "***** Running Evaluation *****\n",
      "  Num examples = 1473\n",
      "  Batch size = 64\n",
      "C:\\Users\\felix\\AppData\\Local\\Programs\\Python\\Python38\\lib\\site-packages\\sklearn\\metrics\\_classification.py:1308: UndefinedMetricWarning: Precision and F-score are ill-defined and being set to 0.0 in labels with no predicted samples. Use `zero_division` parameter to control this behavior.\n",
      "  _warn_prf(average, modifier, msg_start, len(result))\n",
      "\n",
      " 20%|██        | 1476/7380 [12:26<22:30,  4.37it/s]Saving model checkpoint to ./results\\checkpoint-1476\n",
      "Configuration saved in ./results\\checkpoint-1476\\config.json\n"
     ]
    },
    {
     "name": "stdout",
     "output_type": "stream",
     "text": [
      "{'eval_loss': 0.7937330007553101, 'eval_accuracy': 0.7739307535641547, 'eval_f1': 0.5676259392702135, 'eval_precision': 0.6124000320561994, 'eval_recall': 0.5618144435942385, 'eval_top3': 0.9260013577732519, 'eval_top2': 0.8852681602172437, 'eval_runtime': 12.0667, 'eval_samples_per_second': 122.072, 'eval_steps_per_second': 1.989, 'epoch': 4.0}\n"
     ]
    },
    {
     "name": "stderr",
     "output_type": "stream",
     "text": [
      "Model weights saved in ./results\\checkpoint-1476\\pytorch_model.bin\n",
      "Deleting older checkpoint [results\\checkpoint-1107] due to args.save_total_limit\n",
      " 20%|██        | 1501/7380 [12:43<38:37,  2.54it/s]"
     ]
    },
    {
     "name": "stdout",
     "output_type": "stream",
     "text": [
      "{'loss': 0.4722, 'learning_rate': 1.7093023255813955e-05, 'epoch': 4.07}\n"
     ]
    },
    {
     "name": "stderr",
     "output_type": "stream",
     "text": [
      " 25%|██▍       | 1844/7380 [15:23<39:53,  2.31it/s]The following columns in the evaluation set  don't have a corresponding argument in `BertForSequenceClassification.forward` and have been ignored: text.\n",
      "***** Running Evaluation *****\n",
      "  Num examples = 1473\n",
      "  Batch size = 64\n",
      "C:\\Users\\felix\\AppData\\Local\\Programs\\Python\\Python38\\lib\\site-packages\\sklearn\\metrics\\_classification.py:1308: UndefinedMetricWarning: Precision and F-score are ill-defined and being set to 0.0 in labels with no predicted samples. Use `zero_division` parameter to control this behavior.\n",
      "  _warn_prf(average, modifier, msg_start, len(result))\n",
      "\n",
      " 25%|██▌       | 1845/7380 [15:33<39:53,  2.31it/s]Saving model checkpoint to ./results\\checkpoint-1845\n",
      "Configuration saved in ./results\\checkpoint-1845\\config.json\n"
     ]
    },
    {
     "name": "stdout",
     "output_type": "stream",
     "text": [
      "{'eval_loss': 0.827519953250885, 'eval_accuracy': 0.7854718262050238, 'eval_f1': 0.5793114863120016, 'eval_precision': 0.6090723144677498, 'eval_recall': 0.5712545974008897, 'eval_top3': 0.9314324507807196, 'eval_top2': 0.8968092328581126, 'eval_runtime': 10.1449, 'eval_samples_per_second': 145.196, 'eval_steps_per_second': 2.366, 'epoch': 5.0}\n"
     ]
    },
    {
     "name": "stderr",
     "output_type": "stream",
     "text": [
      "Model weights saved in ./results\\checkpoint-1845\\pytorch_model.bin\n",
      "Deleting older checkpoint [results\\checkpoint-1910] due to args.save_total_limit\n",
      " 27%|██▋       | 2001/7380 [16:51<18:10,  4.93it/s]"
     ]
    },
    {
     "name": "stdout",
     "output_type": "stream",
     "text": [
      "{'loss': 0.2639, 'learning_rate': 1.563953488372093e-05, 'epoch': 5.42}\n"
     ]
    },
    {
     "name": "stderr",
     "output_type": "stream",
     "text": [
      " 30%|██▉       | 2213/7380 [17:37<12:28,  6.91it/s]The following columns in the evaluation set  don't have a corresponding argument in `BertForSequenceClassification.forward` and have been ignored: text.\n",
      "***** Running Evaluation *****\n",
      "  Num examples = 1473\n",
      "  Batch size = 64\n",
      "C:\\Users\\felix\\AppData\\Local\\Programs\\Python\\Python38\\lib\\site-packages\\sklearn\\metrics\\_classification.py:1308: UndefinedMetricWarning: Precision and F-score are ill-defined and being set to 0.0 in labels with no predicted samples. Use `zero_division` parameter to control this behavior.\n",
      "  _warn_prf(average, modifier, msg_start, len(result))\n",
      "\n",
      " 30%|███       | 2214/7380 [17:40<12:28,  6.91it/s]Saving model checkpoint to ./results\\checkpoint-2214\n",
      "Configuration saved in ./results\\checkpoint-2214\\config.json\n"
     ]
    },
    {
     "name": "stdout",
     "output_type": "stream",
     "text": [
      "{'eval_loss': 0.8960438966751099, 'eval_accuracy': 0.8071961982348947, 'eval_f1': 0.6010549802634916, 'eval_precision': 0.6246110612933947, 'eval_recall': 0.5849147813588608, 'eval_top3': 0.923285811269518, 'eval_top2': 0.8927359131025119, 'eval_runtime': 3.0997, 'eval_samples_per_second': 475.207, 'eval_steps_per_second': 7.743, 'epoch': 6.0}\n"
     ]
    },
    {
     "name": "stderr",
     "output_type": "stream",
     "text": [
      "Model weights saved in ./results\\checkpoint-2214\\pytorch_model.bin\n",
      "Deleting older checkpoint [results\\checkpoint-2292] due to args.save_total_limit\n",
      "Deleting older checkpoint [results\\checkpoint-1845] due to args.save_total_limit\n",
      " 34%|███▍      | 2501/7380 [18:24<11:49,  6.87it/s]"
     ]
    },
    {
     "name": "stdout",
     "output_type": "stream",
     "text": [
      "{'loss': 0.1615, 'learning_rate': 1.4186046511627909e-05, 'epoch': 6.78}\n"
     ]
    },
    {
     "name": "stderr",
     "output_type": "stream",
     "text": [
      " 35%|███▍      | 2582/7380 [18:35<11:24,  7.01it/s]The following columns in the evaluation set  don't have a corresponding argument in `BertForSequenceClassification.forward` and have been ignored: text.\n",
      "***** Running Evaluation *****\n",
      "  Num examples = 1473\n",
      "  Batch size = 64\n",
      "\n",
      " 35%|███▌      | 2583/7380 [18:38<11:24,  7.01it/s]Saving model checkpoint to ./results\\checkpoint-2583\n",
      "Configuration saved in ./results\\checkpoint-2583\\config.json\n"
     ]
    },
    {
     "name": "stdout",
     "output_type": "stream",
     "text": [
      "{'eval_loss': 1.0031014680862427, 'eval_accuracy': 0.7990495587236931, 'eval_f1': 0.6229980289615343, 'eval_precision': 0.6367184591314436, 'eval_recall': 0.621056243823727, 'eval_top3': 0.9287169042769857, 'eval_top2': 0.8961303462321792, 'eval_runtime': 3.1037, 'eval_samples_per_second': 474.595, 'eval_steps_per_second': 7.733, 'epoch': 7.0}\n"
     ]
    },
    {
     "name": "stderr",
     "output_type": "stream",
     "text": [
      "Model weights saved in ./results\\checkpoint-2583\\pytorch_model.bin\n",
      "Deleting older checkpoint [results\\checkpoint-2674] due to args.save_total_limit\n",
      " 40%|███▉      | 2951/7380 [19:33<10:32,  7.01it/s]The following columns in the evaluation set  don't have a corresponding argument in `BertForSequenceClassification.forward` and have been ignored: text.\n",
      "***** Running Evaluation *****\n",
      "  Num examples = 1473\n",
      "  Batch size = 64\n",
      "\n",
      " 40%|████      | 2952/7380 [19:36<10:32,  7.01it/s]Saving model checkpoint to ./results\\checkpoint-2952\n",
      "Configuration saved in ./results\\checkpoint-2952\\config.json\n"
     ]
    },
    {
     "name": "stdout",
     "output_type": "stream",
     "text": [
      "{'eval_loss': 1.0508781671524048, 'eval_accuracy': 0.8038017651052274, 'eval_f1': 0.6235422515427115, 'eval_precision': 0.6533158267875823, 'eval_recall': 0.6195103013962246, 'eval_top3': 0.9293957909029192, 'eval_top2': 0.902919212491514, 'eval_runtime': 3.1017, 'eval_samples_per_second': 474.901, 'eval_steps_per_second': 7.738, 'epoch': 8.0}\n"
     ]
    },
    {
     "name": "stderr",
     "output_type": "stream",
     "text": [
      "Model weights saved in ./results\\checkpoint-2952\\pytorch_model.bin\n",
      "Deleting older checkpoint [results\\checkpoint-2583] due to args.save_total_limit\n",
      " 41%|████      | 3001/7380 [19:45<10:32,  6.92it/s]"
     ]
    },
    {
     "name": "stdout",
     "output_type": "stream",
     "text": [
      "{'loss': 0.0878, 'learning_rate': 1.2732558139534886e-05, 'epoch': 8.13}\n"
     ]
    },
    {
     "name": "stderr",
     "output_type": "stream",
     "text": [
      " 45%|████▍     | 3320/7380 [20:30<09:38,  7.01it/s]The following columns in the evaluation set  don't have a corresponding argument in `BertForSequenceClassification.forward` and have been ignored: text.\n",
      "***** Running Evaluation *****\n",
      "  Num examples = 1473\n",
      "  Batch size = 64\n",
      "\n",
      " 45%|████▌     | 3321/7380 [20:33<09:38,  7.01it/s]Saving model checkpoint to ./results\\checkpoint-3321\n",
      "Configuration saved in ./results\\checkpoint-3321\\config.json\n"
     ]
    },
    {
     "name": "stdout",
     "output_type": "stream",
     "text": [
      "{'eval_loss': 1.121734857559204, 'eval_accuracy': 0.8105906313645621, 'eval_f1': 0.6263476136631098, 'eval_precision': 0.6433834131773356, 'eval_recall': 0.6258786282296911, 'eval_top3': 0.924643584521385, 'eval_top2': 0.8974881194840462, 'eval_runtime': 3.1011, 'eval_samples_per_second': 474.987, 'eval_steps_per_second': 7.739, 'epoch': 9.0}\n"
     ]
    },
    {
     "name": "stderr",
     "output_type": "stream",
     "text": [
      "Model weights saved in ./results\\checkpoint-3321\\pytorch_model.bin\n",
      "Deleting older checkpoint [results\\checkpoint-2214] due to args.save_total_limit\n",
      " 47%|████▋     | 3501/7380 [21:01<09:17,  6.96it/s]"
     ]
    },
    {
     "name": "stdout",
     "output_type": "stream",
     "text": [
      "{'loss': 0.0526, 'learning_rate': 1.1279069767441861e-05, 'epoch': 9.49}\n"
     ]
    },
    {
     "name": "stderr",
     "output_type": "stream",
     "text": [
      " 50%|████▉     | 3689/7380 [21:27<08:43,  7.06it/s]The following columns in the evaluation set  don't have a corresponding argument in `BertForSequenceClassification.forward` and have been ignored: text.\n",
      "***** Running Evaluation *****\n",
      "  Num examples = 1473\n",
      "  Batch size = 64\n",
      "\n",
      " 50%|█████     | 3690/7380 [21:31<08:43,  7.06it/s]Saving model checkpoint to ./results\\checkpoint-3690\n",
      "Configuration saved in ./results\\checkpoint-3690\\config.json\n"
     ]
    },
    {
     "name": "stdout",
     "output_type": "stream",
     "text": [
      "{'eval_loss': 1.1838783025741577, 'eval_accuracy': 0.7997284453496266, 'eval_f1': 0.6418393559438037, 'eval_precision': 0.6545013532477529, 'eval_recall': 0.6419070853790207, 'eval_top3': 0.9260013577732519, 'eval_top2': 0.8995247793618466, 'eval_runtime': 3.0978, 'eval_samples_per_second': 475.502, 'eval_steps_per_second': 7.747, 'epoch': 10.0}\n"
     ]
    },
    {
     "name": "stderr",
     "output_type": "stream",
     "text": [
      "Model weights saved in ./results\\checkpoint-3690\\pytorch_model.bin\n",
      "Deleting older checkpoint [results\\checkpoint-2952] due to args.save_total_limit\n",
      " 54%|█████▍    | 4001/7380 [22:17<08:11,  6.87it/s]"
     ]
    },
    {
     "name": "stdout",
     "output_type": "stream",
     "text": [
      "{'loss': 0.0259, 'learning_rate': 9.825581395348838e-06, 'epoch': 10.84}\n"
     ]
    },
    {
     "name": "stderr",
     "output_type": "stream",
     "text": [
      " 55%|█████▍    | 4058/7380 [22:25<07:47,  7.10it/s]The following columns in the evaluation set  don't have a corresponding argument in `BertForSequenceClassification.forward` and have been ignored: text.\n",
      "***** Running Evaluation *****\n",
      "  Num examples = 1473\n",
      "  Batch size = 64\n",
      "\n",
      " 55%|█████▌    | 4059/7380 [22:28<07:47,  7.10it/s]Saving model checkpoint to ./results\\checkpoint-4059\n",
      "Configuration saved in ./results\\checkpoint-4059\\config.json\n"
     ]
    },
    {
     "name": "stdout",
     "output_type": "stream",
     "text": [
      "{'eval_loss': 1.1953911781311035, 'eval_accuracy': 0.8194161575016972, 'eval_f1': 0.6611845014083525, 'eval_precision': 0.6647863367726922, 'eval_recall': 0.6648780821314514, 'eval_top3': 0.9260013577732519, 'eval_top2': 0.8988458927359131, 'eval_runtime': 3.1042, 'eval_samples_per_second': 474.514, 'eval_steps_per_second': 7.731, 'epoch': 11.0}\n"
     ]
    },
    {
     "name": "stderr",
     "output_type": "stream",
     "text": [
      "Model weights saved in ./results\\checkpoint-4059\\pytorch_model.bin\n",
      "Deleting older checkpoint [results\\checkpoint-3321] due to args.save_total_limit\n",
      " 60%|█████▉    | 4427/7380 [23:22<06:59,  7.04it/s]The following columns in the evaluation set  don't have a corresponding argument in `BertForSequenceClassification.forward` and have been ignored: text.\n",
      "***** Running Evaluation *****\n",
      "  Num examples = 1473\n",
      "  Batch size = 64\n",
      "\n",
      " 60%|██████    | 4428/7380 [23:25<06:59,  7.04it/s]Saving model checkpoint to ./results\\checkpoint-4428\n",
      "Configuration saved in ./results\\checkpoint-4428\\config.json\n"
     ]
    },
    {
     "name": "stdout",
     "output_type": "stream",
     "text": [
      "{'eval_loss': 1.2821881771087646, 'eval_accuracy': 0.8092328581126952, 'eval_f1': 0.6719456007985052, 'eval_precision': 0.6997316247137024, 'eval_recall': 0.6540304323233775, 'eval_top3': 0.9280380176510523, 'eval_top2': 0.8995247793618466, 'eval_runtime': 3.1007, 'eval_samples_per_second': 475.053, 'eval_steps_per_second': 7.74, 'epoch': 12.0}\n"
     ]
    },
    {
     "name": "stderr",
     "output_type": "stream",
     "text": [
      "Model weights saved in ./results\\checkpoint-4428\\pytorch_model.bin\n",
      "Deleting older checkpoint [results\\checkpoint-3690] due to args.save_total_limit\n",
      " 61%|██████    | 4501/7380 [23:38<06:55,  6.94it/s]"
     ]
    },
    {
     "name": "stdout",
     "output_type": "stream",
     "text": [
      "{'loss': 0.0156, 'learning_rate': 8.372093023255815e-06, 'epoch': 12.2}\n"
     ]
    },
    {
     "name": "stderr",
     "output_type": "stream",
     "text": [
      " 65%|██████▍   | 4796/7380 [24:19<06:06,  7.05it/s]The following columns in the evaluation set  don't have a corresponding argument in `BertForSequenceClassification.forward` and have been ignored: text.\n",
      "***** Running Evaluation *****\n",
      "  Num examples = 1473\n",
      "  Batch size = 64\n",
      "\n",
      " 65%|██████▌   | 4797/7380 [24:22<06:06,  7.05it/s]Saving model checkpoint to ./results\\checkpoint-4797\n",
      "Configuration saved in ./results\\checkpoint-4797\\config.json\n"
     ]
    },
    {
     "name": "stdout",
     "output_type": "stream",
     "text": [
      "{'eval_loss': 1.2633464336395264, 'eval_accuracy': 0.814663951120163, 'eval_f1': 0.6670144451448684, 'eval_precision': 0.6679676886205207, 'eval_recall': 0.6717567883119197, 'eval_top3': 0.921928038017651, 'eval_top2': 0.8974881194840462, 'eval_runtime': 3.1031, 'eval_samples_per_second': 474.692, 'eval_steps_per_second': 7.734, 'epoch': 13.0}\n"
     ]
    },
    {
     "name": "stderr",
     "output_type": "stream",
     "text": [
      "Model weights saved in ./results\\checkpoint-4797\\pytorch_model.bin\n",
      "Deleting older checkpoint [results\\checkpoint-4428] due to args.save_total_limit\n",
      " 68%|██████▊   | 5001/7380 [24:53<05:43,  6.93it/s]"
     ]
    },
    {
     "name": "stdout",
     "output_type": "stream",
     "text": [
      "{'loss': 0.0084, 'learning_rate': 6.9186046511627914e-06, 'epoch': 13.55}\n"
     ]
    },
    {
     "name": "stderr",
     "output_type": "stream",
     "text": [
      " 70%|██████▉   | 5165/7380 [25:17<05:14,  7.05it/s]The following columns in the evaluation set  don't have a corresponding argument in `BertForSequenceClassification.forward` and have been ignored: text.\n",
      "***** Running Evaluation *****\n",
      "  Num examples = 1473\n",
      "  Batch size = 64\n",
      "\n",
      " 70%|███████   | 5166/7380 [25:20<05:14,  7.05it/s]Saving model checkpoint to ./results\\checkpoint-5166\n",
      "Configuration saved in ./results\\checkpoint-5166\\config.json\n"
     ]
    },
    {
     "name": "stdout",
     "output_type": "stream",
     "text": [
      "{'eval_loss': 1.3064407110214233, 'eval_accuracy': 0.8160217243720299, 'eval_f1': 0.6708437538365631, 'eval_precision': 0.6756169812106204, 'eval_recall': 0.6698149216711348, 'eval_top3': 0.9239646978954514, 'eval_top2': 0.8961303462321792, 'eval_runtime': 3.0985, 'eval_samples_per_second': 475.387, 'eval_steps_per_second': 7.746, 'epoch': 14.0}\n"
     ]
    },
    {
     "name": "stderr",
     "output_type": "stream",
     "text": [
      "Model weights saved in ./results\\checkpoint-5166\\pytorch_model.bin\n",
      "Deleting older checkpoint [results\\checkpoint-4797] due to args.save_total_limit\n",
      " 75%|███████▍  | 5501/7380 [26:09<04:26,  7.05it/s]"
     ]
    },
    {
     "name": "stdout",
     "output_type": "stream",
     "text": [
      "{'loss': 0.0082, 'learning_rate': 5.465116279069767e-06, 'epoch': 14.91}\n"
     ]
    },
    {
     "name": "stderr",
     "output_type": "stream",
     "text": [
      " 75%|███████▍  | 5534/7380 [26:14<04:20,  7.10it/s]The following columns in the evaluation set  don't have a corresponding argument in `BertForSequenceClassification.forward` and have been ignored: text.\n",
      "***** Running Evaluation *****\n",
      "  Num examples = 1473\n",
      "  Batch size = 64\n",
      "\n",
      " 75%|███████▌  | 5535/7380 [26:17<04:19,  7.10it/s]Saving model checkpoint to ./results\\checkpoint-5535\n",
      "Configuration saved in ./results\\checkpoint-5535\\config.json\n"
     ]
    },
    {
     "name": "stdout",
     "output_type": "stream",
     "text": [
      "{'eval_loss': 1.329183578491211, 'eval_accuracy': 0.8187372708757638, 'eval_f1': 0.6851255719353944, 'eval_precision': 0.6849285445886583, 'eval_recall': 0.6877562268119216, 'eval_top3': 0.9253224711473184, 'eval_top2': 0.9015614392396469, 'eval_runtime': 3.0987, 'eval_samples_per_second': 475.361, 'eval_steps_per_second': 7.745, 'epoch': 15.0}\n"
     ]
    },
    {
     "name": "stderr",
     "output_type": "stream",
     "text": [
      "Model weights saved in ./results\\checkpoint-5535\\pytorch_model.bin\n",
      "Deleting older checkpoint [results\\checkpoint-5166] due to args.save_total_limit\n",
      " 80%|███████▉  | 5903/7380 [27:11<03:30,  7.03it/s]The following columns in the evaluation set  don't have a corresponding argument in `BertForSequenceClassification.forward` and have been ignored: text.\n",
      "***** Running Evaluation *****\n",
      "  Num examples = 1473\n",
      "  Batch size = 64\n",
      "\n",
      " 80%|████████  | 5904/7380 [27:14<03:30,  7.03it/s]Saving model checkpoint to ./results\\checkpoint-5904\n",
      "Configuration saved in ./results\\checkpoint-5904\\config.json\n"
     ]
    },
    {
     "name": "stdout",
     "output_type": "stream",
     "text": [
      "{'eval_loss': 1.3517611026763916, 'eval_accuracy': 0.813306177868296, 'eval_f1': 0.6759649173666844, 'eval_precision': 0.669620602135808, 'eval_recall': 0.6850611465928781, 'eval_top3': 0.924643584521385, 'eval_top2': 0.8947725729803123, 'eval_runtime': 3.1113, 'eval_samples_per_second': 473.43, 'eval_steps_per_second': 7.714, 'epoch': 16.0}\n"
     ]
    },
    {
     "name": "stderr",
     "output_type": "stream",
     "text": [
      "Model weights saved in ./results\\checkpoint-5904\\pytorch_model.bin\n",
      "Deleting older checkpoint [results\\checkpoint-5535] due to args.save_total_limit\n",
      " 81%|████████▏ | 6001/7380 [27:30<03:17,  6.98it/s]"
     ]
    },
    {
     "name": "stdout",
     "output_type": "stream",
     "text": [
      "{'loss': 0.0032, 'learning_rate': 4.011627906976744e-06, 'epoch': 16.26}\n"
     ]
    },
    {
     "name": "stderr",
     "output_type": "stream",
     "text": [
      " 85%|████████▍ | 6272/7380 [28:08<02:36,  7.09it/s]The following columns in the evaluation set  don't have a corresponding argument in `BertForSequenceClassification.forward` and have been ignored: text.\n",
      "***** Running Evaluation *****\n",
      "  Num examples = 1473\n",
      "  Batch size = 64\n",
      "\n",
      " 85%|████████▌ | 6273/7380 [28:11<02:36,  7.09it/s]Saving model checkpoint to ./results\\checkpoint-6273\n",
      "Configuration saved in ./results\\checkpoint-6273\\config.json\n"
     ]
    },
    {
     "name": "stdout",
     "output_type": "stream",
     "text": [
      "{'eval_loss': 1.3694286346435547, 'eval_accuracy': 0.8187372708757638, 'eval_f1': 0.68142211374471, 'eval_precision': 0.685083327135641, 'eval_recall': 0.6794565481420408, 'eval_top3': 0.9239646978954514, 'eval_top2': 0.9022403258655805, 'eval_runtime': 3.1091, 'eval_samples_per_second': 473.773, 'eval_steps_per_second': 7.719, 'epoch': 17.0}\n"
     ]
    },
    {
     "name": "stderr",
     "output_type": "stream",
     "text": [
      "Model weights saved in ./results\\checkpoint-6273\\pytorch_model.bin\n",
      "Deleting older checkpoint [results\\checkpoint-5904] due to args.save_total_limit\n",
      " 88%|████████▊ | 6501/7380 [28:45<02:05,  7.02it/s]"
     ]
    },
    {
     "name": "stdout",
     "output_type": "stream",
     "text": [
      "{'loss': 0.0026, 'learning_rate': 2.558139534883721e-06, 'epoch': 17.62}\n"
     ]
    },
    {
     "name": "stderr",
     "output_type": "stream",
     "text": [
      " 90%|████████▉ | 6641/7380 [29:05<01:44,  7.04it/s]The following columns in the evaluation set  don't have a corresponding argument in `BertForSequenceClassification.forward` and have been ignored: text.\n",
      "***** Running Evaluation *****\n",
      "  Num examples = 1473\n",
      "  Batch size = 64\n",
      "\n",
      " 90%|█████████ | 6642/7380 [29:08<01:44,  7.04it/s]Saving model checkpoint to ./results\\checkpoint-6642\n",
      "Configuration saved in ./results\\checkpoint-6642\\config.json\n"
     ]
    },
    {
     "name": "stdout",
     "output_type": "stream",
     "text": [
      "{'eval_loss': 1.3708412647247314, 'eval_accuracy': 0.8187372708757638, 'eval_f1': 0.6873441890126513, 'eval_precision': 0.6922377530243468, 'eval_recall': 0.6878696447842843, 'eval_top3': 0.923285811269518, 'eval_top2': 0.8954514596062457, 'eval_runtime': 3.1072, 'eval_samples_per_second': 474.057, 'eval_steps_per_second': 7.724, 'epoch': 18.0}\n"
     ]
    },
    {
     "name": "stderr",
     "output_type": "stream",
     "text": [
      "Model weights saved in ./results\\checkpoint-6642\\pytorch_model.bin\n",
      "Deleting older checkpoint [results\\checkpoint-6273] due to args.save_total_limit\n",
      " 95%|█████████▍| 7001/7380 [30:01<00:53,  7.05it/s]"
     ]
    },
    {
     "name": "stdout",
     "output_type": "stream",
     "text": [
      "{'loss': 0.0019, 'learning_rate': 1.1046511627906977e-06, 'epoch': 18.97}\n"
     ]
    },
    {
     "name": "stderr",
     "output_type": "stream",
     "text": [
      " 95%|█████████▍| 7010/7380 [30:02<00:52,  7.06it/s]The following columns in the evaluation set  don't have a corresponding argument in `BertForSequenceClassification.forward` and have been ignored: text.\n",
      "***** Running Evaluation *****\n",
      "  Num examples = 1473\n",
      "  Batch size = 64\n",
      "\n",
      " 95%|█████████▌| 7011/7380 [30:06<00:52,  7.06it/s]Saving model checkpoint to ./results\\checkpoint-7011\n",
      "Configuration saved in ./results\\checkpoint-7011\\config.json\n"
     ]
    },
    {
     "name": "stdout",
     "output_type": "stream",
     "text": [
      "{'eval_loss': 1.3877242803573608, 'eval_accuracy': 0.8167006109979633, 'eval_f1': 0.6841622947839355, 'eval_precision': 0.6842264854934359, 'eval_recall': 0.689169983527749, 'eval_top3': 0.9205702647657841, 'eval_top2': 0.8961303462321792, 'eval_runtime': 3.1057, 'eval_samples_per_second': 474.289, 'eval_steps_per_second': 7.728, 'epoch': 19.0}\n"
     ]
    },
    {
     "name": "stderr",
     "output_type": "stream",
     "text": [
      "Model weights saved in ./results\\checkpoint-7011\\pytorch_model.bin\n",
      "Deleting older checkpoint [results\\checkpoint-6642] due to args.save_total_limit\n",
      "100%|█████████▉| 7379/7380 [31:00<00:00,  7.11it/s]The following columns in the evaluation set  don't have a corresponding argument in `BertForSequenceClassification.forward` and have been ignored: text.\n",
      "***** Running Evaluation *****\n",
      "  Num examples = 1473\n",
      "  Batch size = 64\n",
      "\n",
      "100%|██████████| 7380/7380 [31:03<00:00,  7.11it/s]Saving model checkpoint to ./results\\checkpoint-7380\n",
      "Configuration saved in ./results\\checkpoint-7380\\config.json\n"
     ]
    },
    {
     "name": "stdout",
     "output_type": "stream",
     "text": [
      "{'eval_loss': 1.3936309814453125, 'eval_accuracy': 0.8173794976238968, 'eval_f1': 0.6840348388474689, 'eval_precision': 0.6842618838537003, 'eval_recall': 0.6890858084435739, 'eval_top3': 0.9205702647657841, 'eval_top2': 0.8968092328581126, 'eval_runtime': 3.1057, 'eval_samples_per_second': 474.289, 'eval_steps_per_second': 7.728, 'epoch': 20.0}\n"
     ]
    },
    {
     "name": "stderr",
     "output_type": "stream",
     "text": [
      "Model weights saved in ./results\\checkpoint-7380\\pytorch_model.bin\n",
      "Deleting older checkpoint [results\\checkpoint-7011] due to args.save_total_limit\n",
      "\n",
      "\n",
      "Training completed. Do not forget to share your model on huggingface.co/models =)\n",
      "\n",
      "\n",
      "Loading best model from ./results\\checkpoint-4059 (score: 0.8194161575016972).\n",
      "100%|██████████| 7380/7380 [31:05<00:00,  3.96it/s]"
     ]
    },
    {
     "name": "stdout",
     "output_type": "stream",
     "text": [
      "{'train_runtime': 1865.3098, 'train_samples_per_second': 63.217, 'train_steps_per_second': 3.956, 'train_loss': 0.248817716664092, 'epoch': 20.0}\n"
     ]
    },
    {
     "name": "stderr",
     "output_type": "stream",
     "text": [
      "\n"
     ]
    },
    {
     "data": {
      "text/plain": [
       "TrainOutput(global_step=7380, training_loss=0.248817716664092, metrics={'train_runtime': 1865.3098, 'train_samples_per_second': 63.217, 'train_steps_per_second': 3.956, 'train_loss': 0.248817716664092, 'epoch': 20.0})"
      ]
     },
     "execution_count": 16,
     "metadata": {},
     "output_type": "execute_result"
    }
   ],
   "source": [
    "trainer.train()"
   ]
  },
  {
   "cell_type": "code",
   "execution_count": 17,
   "metadata": {},
   "outputs": [
    {
     "name": "stderr",
     "output_type": "stream",
     "text": [
      "The following columns in the evaluation set  don't have a corresponding argument in `BertForSequenceClassification.forward` and have been ignored: text.\n",
      "***** Running Evaluation *****\n",
      "  Num examples = 1473\n",
      "  Batch size = 64\n",
      "100%|██████████| 24/24 [00:02<00:00,  8.09it/s]\n"
     ]
    },
    {
     "data": {
      "text/plain": [
       "{'eval_loss': 1.1953911781311035,\n",
       " 'eval_accuracy': 0.8194161575016972,\n",
       " 'eval_f1': 0.6611845014083525,\n",
       " 'eval_precision': 0.6647863367726922,\n",
       " 'eval_recall': 0.6648780821314514,\n",
       " 'eval_top3': 0.9260013577732519,\n",
       " 'eval_top2': 0.8988458927359131,\n",
       " 'eval_runtime': 3.0967,\n",
       " 'eval_samples_per_second': 475.668,\n",
       " 'eval_steps_per_second': 7.75,\n",
       " 'epoch': 20.0}"
      ]
     },
     "execution_count": 17,
     "metadata": {},
     "output_type": "execute_result"
    }
   ],
   "source": [
    "trainer.evaluate()"
   ]
  },
  {
   "cell_type": "code",
   "execution_count": 18,
   "metadata": {},
   "outputs": [
    {
     "name": "stderr",
     "output_type": "stream",
     "text": [
      "100%|██████████| 1/1 [00:00<00:00, 499.86ba/s]\n",
      "The following columns in the test set  don't have a corresponding argument in `BertForSequenceClassification.forward` and have been ignored: text.\n",
      "***** Running Prediction *****\n",
      "  Num examples = 5\n",
      "  Batch size = 64\n",
      "  0%|          | 0/1 [00:00<?, ?it/s]"
     ]
    },
    {
     "data": {
      "text/plain": [
       "PredictionOutput(predictions=array([[ 0.08580349,  0.3426192 , -1.3598568 ,  1.052115  ,  6.6663265 ,\n",
       "        -0.5810849 , -1.6031407 , -1.384228  , -1.4713211 ,  0.7213736 ,\n",
       "        -0.4400661 , -0.30740368],\n",
       "       [-0.645603  , -0.08085273, -1.6559494 , -1.2694521 , -1.6604722 ,\n",
       "        -0.727355  ,  9.290436  , -1.5795223 , -0.2217362 , -2.9336421 ,\n",
       "        -1.8644572 , -0.713128  ],\n",
       "       [ 1.1604235 , -2.2036273 ,  6.8688965 ,  3.2814012 , -1.3509673 ,\n",
       "        -1.5115111 , -1.6118517 , -1.1785508 , -0.31068662, -1.4158335 ,\n",
       "        -1.3538754 , -1.7547491 ],\n",
       "       [ 0.07224072, -1.5954038 , -1.1340033 , -1.2084347 , -1.4745549 ,\n",
       "        -0.59224206,  9.260652  , -1.2765049 , -0.20540814, -3.1987143 ,\n",
       "        -1.6362734 , -1.3360586 ],\n",
       "       [ 9.143754  ,  1.0539382 , -0.69552696, -0.89807874, -1.3315082 ,\n",
       "        -1.131033  , -0.21255666, -0.88644826, -0.5899793 , -2.256294  ,\n",
       "        -1.883272  , -2.8046684 ]], dtype=float32), label_ids=None, metrics={'test_runtime': 0.017, 'test_samples_per_second': 294.044, 'test_steps_per_second': 58.809})"
      ]
     },
     "execution_count": 18,
     "metadata": {},
     "output_type": "execute_result"
    }
   ],
   "source": [
    "\n",
    "predict_dataset = Dataset.from_dict({\"text\":[\"In contrast to the radical forces buffeting valuations, for most companies, 2020 was a year of “strategy lockdown.\",\n",
    "\"Domestic policies thus tended to reinforce negative spillovers and exacerbate systemic risk across the euro area.\",\n",
    "\"Mortgage interest rate in selected European countries as of 4th quarter of 2019 and 2020 increased\",\n",
    "\"Accordingly, I shall spend most of my allotted time outlining the chosen monetary policy instruments and procedures of the ESCB and the considerations that have been raised relating to strategy.\",\n",
    "\"Credit card interest rate has gone up a lot.\"]})\n",
    "\n",
    "def tokenize(batch):\n",
    "    return tokenizer(batch['text'], padding=True, truncation=True)\n",
    "predict_dataset = predict_dataset.map(tokenize, batched=True, batch_size=len(train_dataset))\n",
    "\n",
    "trainer.predict(predict_dataset)"
   ]
  }
 ],
 "metadata": {
  "interpreter": {
   "hash": "1b174d106187cf4c36b481e4f9775d9b6103c84ebc5bd0573d3cc5e86d067305"
  },
  "kernelspec": {
   "display_name": "Python 3.8.5 64-bit",
   "name": "python3"
  },
  "language_info": {
   "codemirror_mode": {
    "name": "ipython",
    "version": 3
   },
   "file_extension": ".py",
   "mimetype": "text/x-python",
   "name": "python",
   "nbconvert_exporter": "python",
   "pygments_lexer": "ipython3",
   "version": "3.8.5"
  },
  "orig_nbformat": 4
 },
 "nbformat": 4,
 "nbformat_minor": 2
}

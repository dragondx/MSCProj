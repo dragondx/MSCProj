{
 "cells": [
  {
   "cell_type": "code",
   "execution_count": 1,
   "metadata": {},
   "outputs": [],
   "source": [
    "# This is the training script for fine-tuning bert on \n",
    "# unaltered GPT data and manually labelled data\n",
    "# For better performance/generalization, look for augmented dataset\n",
    "# Read README.md for comments and details."
   ]
  },
  {
   "cell_type": "code",
   "execution_count": 2,
   "metadata": {},
   "outputs": [],
   "source": [
    "\n",
    "# all classes\n",
    "\n",
    "classes = [\"banking\",\"valuation\",\"household\",\"real estate\",\"corporate\",\"external\",\"sovereign\",\"technology\", \"climate\", \"energy\", \"health\", \"eu\"]\n"
   ]
  },
  {
   "cell_type": "code",
   "execution_count": 3,
   "metadata": {},
   "outputs": [],
   "source": [
    "from transformers import AutoModelForSequenceClassification, AutoTokenizer, Trainer, TrainingArguments\n",
    "import torch\n",
    "import numpy as np\n",
    "from sklearn.metrics import accuracy_score, precision_recall_fscore_support,top_k_accuracy_score\n",
    "import math\n",
    "import pickle\n",
    "from datasets import Dataset"
   ]
  },
  {
   "cell_type": "code",
   "execution_count": 4,
   "metadata": {},
   "outputs": [
    {
     "name": "stderr",
     "output_type": "stream",
     "text": [
      "Some weights of the model checkpoint at bert-base-uncased were not used when initializing BertForSequenceClassification: ['cls.predictions.bias', 'cls.predictions.transform.dense.bias', 'cls.predictions.transform.LayerNorm.bias', 'cls.predictions.transform.LayerNorm.weight', 'cls.predictions.transform.dense.weight', 'cls.predictions.decoder.weight', 'cls.seq_relationship.bias', 'cls.seq_relationship.weight']\n",
      "- This IS expected if you are initializing BertForSequenceClassification from the checkpoint of a model trained on another task or with another architecture (e.g. initializing a BertForSequenceClassification model from a BertForPreTraining model).\n",
      "- This IS NOT expected if you are initializing BertForSequenceClassification from the checkpoint of a model that you expect to be exactly identical (initializing a BertForSequenceClassification model from a BertForSequenceClassification model).\n",
      "Some weights of BertForSequenceClassification were not initialized from the model checkpoint at bert-base-uncased and are newly initialized: ['classifier.weight', 'classifier.bias']\n",
      "You should probably TRAIN this model on a down-stream task to be able to use it for predictions and inference.\n"
     ]
    }
   ],
   "source": [
    "# load bert-based and finbert\n",
    "model = AutoModelForSequenceClassification.from_pretrained('bert-base-uncased', num_labels=len(classes))\n",
    "finbert = AutoModelForSequenceClassification.from_pretrained('ProsusAI/finbert')\n",
    "tokenizer = AutoTokenizer.from_pretrained('ProsusAI/finbert', use_fast =True)"
   ]
  },
  {
   "cell_type": "code",
   "execution_count": 5,
   "metadata": {},
   "outputs": [
    {
     "data": {
      "text/plain": [
       "<All keys matched successfully>"
      ]
     },
     "execution_count": 5,
     "metadata": {},
     "output_type": "execute_result"
    }
   ],
   "source": [
    "# weights transfer for encoder layers only \n",
    "finbert_weights = finbert.state_dict()\n",
    "model_weights = model.state_dict()\n",
    "del finbert_weights[\"bert.pooler.dense.weight\"]\n",
    "del finbert_weights[\"bert.pooler.dense.bias\"]\n",
    "del finbert_weights[\"classifier.weight\"]\n",
    "del finbert_weights[\"classifier.bias\"]\n",
    "finbert_weights[\"bert.pooler.dense.weight\"] = model_weights[\"bert.pooler.dense.weight\"]\n",
    "finbert_weights[\"bert.pooler.dense.bias\"] = model_weights[\"bert.pooler.dense.bias\"]\n",
    "finbert_weights[\"classifier.weight\"] = model_weights[\"classifier.weight\"]\n",
    "finbert_weights[\"classifier.bias\"] = model_weights[\"classifier.bias\"]\n",
    "\n",
    "model.load_state_dict(finbert_weights)\n"
   ]
  },
  {
   "cell_type": "code",
   "execution_count": 6,
   "metadata": {},
   "outputs": [],
   "source": [
    "# flatten to one list for all 3\n",
    "\n",
    "# manual labelled\n",
    "with open('train_data.pickle', 'rb') as file:\n",
    "    train = pickle.load(file)\n",
    "\n",
    "# gpt labelled p1\n",
    "with open('gpt.pickle', 'rb') as file:\n",
    "    gpt = pickle.load(file)\n",
    "\n",
    "# gpt labelled p2\n",
    "with open('gpt_p2.pickle', 'rb') as file:\n",
    "    gpt2 = pickle.load(file)\n",
    "gpt = [item for sublist in gpt for item in sublist]\n",
    "gpt2 = [item for sublist in gpt2 for item in sublist]\n",
    "\n",
    "mixed = gpt + gpt2"
   ]
  },
  {
   "cell_type": "code",
   "execution_count": 7,
   "metadata": {},
   "outputs": [
    {
     "name": "stdout",
     "output_type": "stream",
     "text": [
      "2458\n"
     ]
    }
   ],
   "source": [
    "print(len(mixed))"
   ]
  },
  {
   "cell_type": "code",
   "execution_count": 8,
   "metadata": {},
   "outputs": [],
   "source": [
    "sample = 1\n",
    "\n",
    "additional_text = []\n",
    "additional_label = []\n",
    "\n",
    "for idx in range(1,len(mixed)-1):\n",
    "    sent1, sent2 = mixed[idx-1:idx+1]\n",
    "    for i in range(1):\n",
    "        additional_text.append(sent1[\"text\"]+' '+ sent2[\"text\"])\n",
    "        dist = (np.array(sent1[\"dist\"]) + np.array(sent2[\"dist\"]))/2\n",
    "        additional_label.append(np.argmax(dist))\n",
    "\n",
    "for idx in range(2,len(mixed)-1):\n",
    "    sent1, sent2, sent3 = mixed[idx-2:idx+1]\n",
    "    for i in range(1):\n",
    "        additional_text.append(sent1[\"text\"]+' '+ sent2[\"text\"]+' '+sent3[\"text\"])\n",
    "        dist = (np.array(sent1[\"dist\"]) + np.array(sent2[\"dist\"])+ np.array(sent3[\"dist\"]))/3\n",
    "        additional_label.append(np.argmax(dist))\n",
    "\n",
    "text_max = [item[\"text\"] for i in range(sample) for item in train]\n",
    "label_max = [np.argmax(item[\"dist\"]) for i in range(sample) for item in train]\n",
    "\n",
    "text_max_mixed = [item[\"text\"] for i in range(sample) for item in mixed]\n",
    "label_max_mixed = [np.argmax(item[\"dist\"]) for i in range(sample) for item in mixed]\n"
   ]
  },
  {
   "cell_type": "code",
   "execution_count": 9,
   "metadata": {},
   "outputs": [],
   "source": [
    "import random\n",
    "def randomize(text, label):\n",
    "    temp = list(zip(text, label))\n",
    "    random.shuffle(temp)\n",
    "    comb_text, comb_label =  zip(*temp)\n",
    "    return comb_text, comb_label\n",
    "\n",
    "a1 = randomize(text_max, label_max)\n",
    "a2 = randomize(text_max_mixed, label_max_mixed)\n",
    "a3 = randomize(additional_text, additional_label)\n",
    "\n",
    "test_text, train_text =  [*a1[0][math.ceil(len(a1[0])*0.8):],*a2[0][math.ceil(len(a2[0])*0.8):],*a3[0][math.ceil(len(a3[0])*0.8):] ], [*a1[0][:math.ceil(len(a1[0])*0.8)],*a2[0][:math.ceil(len(a2[0])*0.8)],*a3[0][:math.ceil(len(a3[0])*0.8)] ]\n",
    "test_label, train_label = [*a1[1][math.ceil(len(a1[1])*0.8):],*a2[1][math.ceil(len(a2[1])*0.8):],*a3[1][math.ceil(len(a3[1])*0.8):] ],  [*a1[1][:math.ceil(len(a1[1])*0.8)],*a2[1][:math.ceil(len(a2[1])*0.8)],*a3[1][:math.ceil(len(a3[1])*0.8)] ]\n"
   ]
  },
  {
   "cell_type": "code",
   "execution_count": 10,
   "metadata": {},
   "outputs": [
    {
     "name": "stdout",
     "output_type": "stream",
     "text": [
      "6105\n",
      "1525\n"
     ]
    }
   ],
   "source": [
    "print(len(train_text))\n",
    "print(len(test_text))"
   ]
  },
  {
   "cell_type": "code",
   "execution_count": 11,
   "metadata": {},
   "outputs": [],
   "source": [
    "assert len(train_text) == len(train_label)\n",
    "assert len(test_text) == len(test_label)"
   ]
  },
  {
   "cell_type": "code",
   "execution_count": 12,
   "metadata": {},
   "outputs": [],
   "source": [
    "train_dataset = Dataset.from_dict({\"text\":train_text, \"label\":train_label})\n",
    "test_dataset = Dataset.from_dict({\"text\":test_text, \"label\":test_label})"
   ]
  },
  {
   "cell_type": "code",
   "execution_count": 13,
   "metadata": {},
   "outputs": [
    {
     "name": "stderr",
     "output_type": "stream",
     "text": [
      "100%|██████████| 1/1 [00:00<00:00,  1.71ba/s]\n",
      "100%|██████████| 1/1 [00:00<00:00,  8.85ba/s]\n"
     ]
    }
   ],
   "source": [
    "def tokenize(batch):\n",
    "    return tokenizer(batch['text'], padding=True, truncation=True)\n",
    "train_dataset = train_dataset.map(tokenize, batched=True, batch_size=len(train_dataset))\n",
    "test_dataset = test_dataset.map(tokenize, batched=True, batch_size=len(test_dataset))\n",
    "train_dataset.set_format('torch', columns=['input_ids', 'attention_mask', 'label'])\n",
    "test_dataset.set_format('torch', columns=['input_ids', 'attention_mask', 'label'])"
   ]
  },
  {
   "cell_type": "code",
   "execution_count": 14,
   "metadata": {},
   "outputs": [
    {
     "data": {
      "text/plain": [
       "tensor([[  101,  2152,  7016,  ...,     0,     0,     0],\n",
       "        [  101,  1996,  2204,  ...,     0,     0,     0],\n",
       "        [  101,  2000,  9585,  ...,     0,     0,     0],\n",
       "        ...,\n",
       "        [  101,  2339,  2106,  ...,     0,     0,     0],\n",
       "        [  101,  1998,  2023,  ...,     0,     0,     0],\n",
       "        [  101,  2005, 12194,  ...,     0,     0,     0]])"
      ]
     },
     "execution_count": 14,
     "metadata": {},
     "output_type": "execute_result"
    }
   ],
   "source": [
    "train_dataset[\"input_ids\"]"
   ]
  },
  {
   "cell_type": "code",
   "execution_count": 15,
   "metadata": {},
   "outputs": [],
   "source": [
    "def compute_metrics(pred):\n",
    "    labels = pred.label_ids\n",
    "    preds = pred.predictions.argmax(-1)\n",
    "    precision, recall, f1, _ = precision_recall_fscore_support(labels, preds, average='macro')\n",
    "    acc = accuracy_score(labels, preds)\n",
    "    top3 = top_k_accuracy_score(labels, pred.predictions,k=3)\n",
    "    top2 = top_k_accuracy_score(labels, pred.predictions,k=2)\n",
    "    return {\n",
    "        'accuracy': acc,\n",
    "        'f1': f1,\n",
    "        'precision': precision,\n",
    "        'recall': recall,\n",
    "        'top3': top3,\n",
    "        'top2': top2\n",
    "    }\n",
    "\n",
    "training_args = TrainingArguments(\n",
    "    \n",
    "    output_dir='./results',\n",
    "    learning_rate=2e-5,\n",
    "    num_train_epochs=20,\n",
    "    per_device_train_batch_size=16,\n",
    "    per_device_eval_batch_size=64,\n",
    "    warmup_steps=500,\n",
    "    weight_decay=0.01,\n",
    "    metric_for_best_model=\"accuracy\",\n",
    "    evaluation_strategy='epoch',\n",
    "    save_strategy = \"epoch\",\n",
    "    logging_dir='./logs',\n",
    "    save_total_limit = 1, # Only last 5 models are saved. Older ones are deleted.\n",
    "    load_best_model_at_end=True,\n",
    ")\n",
    "   \n",
    "trainer = Trainer(\n",
    "    model=model,\n",
    "    args=training_args,\n",
    "    compute_metrics=compute_metrics,\n",
    "    train_dataset=train_dataset,\n",
    "    eval_dataset=test_dataset\n",
    ")"
   ]
  },
  {
   "cell_type": "code",
   "execution_count": 16,
   "metadata": {},
   "outputs": [
    {
     "name": "stderr",
     "output_type": "stream",
     "text": [
      "The following columns in the training set  don't have a corresponding argument in `BertForSequenceClassification.forward` and have been ignored: text.\n",
      "***** Running training *****\n",
      "  Num examples = 6105\n",
      "  Num Epochs = 20\n",
      "  Instantaneous batch size per device = 16\n",
      "  Total train batch size (w. parallel, distributed & accumulation) = 16\n",
      "  Gradient Accumulation steps = 1\n",
      "  Total optimization steps = 7640\n",
      "  5%|▌         | 382/7640 [01:00<18:29,  6.54it/s]The following columns in the evaluation set  don't have a corresponding argument in `BertForSequenceClassification.forward` and have been ignored: text.\n",
      "***** Running Evaluation *****\n",
      "  Num examples = 1525\n",
      "  Batch size = 64\n",
      "C:\\Users\\felix\\AppData\\Local\\Programs\\Python\\Python38\\lib\\site-packages\\sklearn\\metrics\\_classification.py:1308: UndefinedMetricWarning: Precision and F-score are ill-defined and being set to 0.0 in labels with no predicted samples. Use `zero_division` parameter to control this behavior.\n",
      "  _warn_prf(average, modifier, msg_start, len(result))\n",
      "\n",
      "  5%|▌         | 382/7640 [01:04<18:29,  6.54it/s]Saving model checkpoint to ./results\\checkpoint-382\n",
      "Configuration saved in ./results\\checkpoint-382\\config.json\n"
     ]
    },
    {
     "name": "stdout",
     "output_type": "stream",
     "text": [
      "{'eval_loss': 1.3231501579284668, 'eval_accuracy': 0.6216393442622951, 'eval_f1': 0.2641283468775932, 'eval_precision': 0.24853064605410116, 'eval_recall': 0.2845097464096975, 'eval_top3': 0.838688524590164, 'eval_top2': 0.7704918032786885, 'eval_runtime': 3.7587, 'eval_samples_per_second': 405.724, 'eval_steps_per_second': 6.385, 'epoch': 1.0}\n"
     ]
    },
    {
     "name": "stderr",
     "output_type": "stream",
     "text": [
      "Model weights saved in ./results\\checkpoint-382\\pytorch_model.bin\n",
      "Deleting older checkpoint [results\\checkpoint-1] due to args.save_total_limit\n",
      "  7%|▋         | 501/7640 [01:27<17:59,  6.61it/s]"
     ]
    },
    {
     "name": "stdout",
     "output_type": "stream",
     "text": [
      "{'loss': 1.8285, 'learning_rate': 2e-05, 'epoch': 1.31}\n"
     ]
    },
    {
     "name": "stderr",
     "output_type": "stream",
     "text": [
      " 10%|█         | 764/7640 [02:09<15:31,  7.38it/s]The following columns in the evaluation set  don't have a corresponding argument in `BertForSequenceClassification.forward` and have been ignored: text.\n",
      "***** Running Evaluation *****\n",
      "  Num examples = 1525\n",
      "  Batch size = 64\n",
      "C:\\Users\\felix\\AppData\\Local\\Programs\\Python\\Python38\\lib\\site-packages\\sklearn\\metrics\\_classification.py:1308: UndefinedMetricWarning: Precision and F-score are ill-defined and being set to 0.0 in labels with no predicted samples. Use `zero_division` parameter to control this behavior.\n",
      "  _warn_prf(average, modifier, msg_start, len(result))\n",
      "\n",
      " 10%|█         | 764/7640 [02:12<15:31,  7.38it/s]Saving model checkpoint to ./results\\checkpoint-764\n",
      "Configuration saved in ./results\\checkpoint-764\\config.json\n"
     ]
    },
    {
     "name": "stdout",
     "output_type": "stream",
     "text": [
      "{'eval_loss': 0.9345628023147583, 'eval_accuracy': 0.7134426229508197, 'eval_f1': 0.48283670571727316, 'eval_precision': 0.5513118992814193, 'eval_recall': 0.47658011177435505, 'eval_top3': 0.9121311475409836, 'eval_top2': 0.8544262295081967, 'eval_runtime': 3.5088, 'eval_samples_per_second': 434.619, 'eval_steps_per_second': 6.84, 'epoch': 2.0}\n"
     ]
    },
    {
     "name": "stderr",
     "output_type": "stream",
     "text": [
      "Model weights saved in ./results\\checkpoint-764\\pytorch_model.bin\n",
      "Deleting older checkpoint [results\\checkpoint-2] due to args.save_total_limit\n",
      " 13%|█▎        | 1000/7640 [03:00<22:27,  4.93it/s]"
     ]
    },
    {
     "name": "stdout",
     "output_type": "stream",
     "text": [
      "{'loss': 0.8524, 'learning_rate': 1.8599439775910366e-05, 'epoch': 2.62}\n"
     ]
    },
    {
     "name": "stderr",
     "output_type": "stream",
     "text": [
      " 15%|█▌        | 1146/7640 [03:30<19:51,  5.45it/s]The following columns in the evaluation set  don't have a corresponding argument in `BertForSequenceClassification.forward` and have been ignored: text.\n",
      "***** Running Evaluation *****\n",
      "  Num examples = 1525\n",
      "  Batch size = 64\n",
      "C:\\Users\\felix\\AppData\\Local\\Programs\\Python\\Python38\\lib\\site-packages\\sklearn\\metrics\\_classification.py:1308: UndefinedMetricWarning: Precision and F-score are ill-defined and being set to 0.0 in labels with no predicted samples. Use `zero_division` parameter to control this behavior.\n",
      "  _warn_prf(average, modifier, msg_start, len(result))\n",
      "\n",
      " 15%|█▌        | 1146/7640 [03:34<19:51,  5.45it/s]Saving model checkpoint to ./results\\checkpoint-1146\n",
      "Configuration saved in ./results\\checkpoint-1146\\config.json\n"
     ]
    },
    {
     "name": "stdout",
     "output_type": "stream",
     "text": [
      "{'eval_loss': 0.8317504525184631, 'eval_accuracy': 0.7586885245901639, 'eval_f1': 0.5665392120509521, 'eval_precision': 0.65642689537675, 'eval_recall': 0.5560937077533173, 'eval_top3': 0.921311475409836, 'eval_top2': 0.8767213114754099, 'eval_runtime': 3.9623, 'eval_samples_per_second': 384.875, 'eval_steps_per_second': 6.057, 'epoch': 3.0}\n"
     ]
    },
    {
     "name": "stderr",
     "output_type": "stream",
     "text": [
      "Model weights saved in ./results\\checkpoint-1146\\pytorch_model.bin\n",
      "Deleting older checkpoint [results\\checkpoint-382] due to args.save_total_limit\n",
      " 20%|█▉        | 1501/7640 [04:47<15:20,  6.67it/s]"
     ]
    },
    {
     "name": "stdout",
     "output_type": "stream",
     "text": [
      "{'loss': 0.4911, 'learning_rate': 1.719887955182073e-05, 'epoch': 3.93}\n"
     ]
    },
    {
     "name": "stderr",
     "output_type": "stream",
     "text": [
      " 20%|██        | 1528/7640 [04:51<13:34,  7.50it/s]The following columns in the evaluation set  don't have a corresponding argument in `BertForSequenceClassification.forward` and have been ignored: text.\n",
      "***** Running Evaluation *****\n",
      "  Num examples = 1525\n",
      "  Batch size = 64\n",
      "C:\\Users\\felix\\AppData\\Local\\Programs\\Python\\Python38\\lib\\site-packages\\sklearn\\metrics\\_classification.py:1308: UndefinedMetricWarning: Precision and F-score are ill-defined and being set to 0.0 in labels with no predicted samples. Use `zero_division` parameter to control this behavior.\n",
      "  _warn_prf(average, modifier, msg_start, len(result))\n",
      "\n",
      " 20%|██        | 1528/7640 [04:54<13:34,  7.50it/s]Saving model checkpoint to ./results\\checkpoint-1528\n",
      "Configuration saved in ./results\\checkpoint-1528\\config.json\n"
     ]
    },
    {
     "name": "stdout",
     "output_type": "stream",
     "text": [
      "{'eval_loss': 0.816765308380127, 'eval_accuracy': 0.7816393442622951, 'eval_f1': 0.6126348897134983, 'eval_precision': 0.699358173506377, 'eval_recall': 0.5876805128153205, 'eval_top3': 0.9324590163934426, 'eval_top2': 0.8950819672131147, 'eval_runtime': 3.1849, 'eval_samples_per_second': 478.817, 'eval_steps_per_second': 7.535, 'epoch': 4.0}\n"
     ]
    },
    {
     "name": "stderr",
     "output_type": "stream",
     "text": [
      "Model weights saved in ./results\\checkpoint-1528\\pytorch_model.bin\n",
      "Deleting older checkpoint [results\\checkpoint-764] due to args.save_total_limit\n",
      " 25%|██▌       | 1910/7640 [05:55<15:24,  6.20it/s]The following columns in the evaluation set  don't have a corresponding argument in `BertForSequenceClassification.forward` and have been ignored: text.\n",
      "***** Running Evaluation *****\n",
      "  Num examples = 1525\n",
      "  Batch size = 64\n",
      "\n",
      " 25%|██▌       | 1910/7640 [05:59<15:24,  6.20it/s]Saving model checkpoint to ./results\\checkpoint-1910\n",
      "Configuration saved in ./results\\checkpoint-1910\\config.json\n"
     ]
    },
    {
     "name": "stdout",
     "output_type": "stream",
     "text": [
      "{'eval_loss': 0.9040604829788208, 'eval_accuracy': 0.779016393442623, 'eval_f1': 0.6330762323191418, 'eval_precision': 0.7638509118154689, 'eval_recall': 0.6076949595443342, 'eval_top3': 0.9331147540983606, 'eval_top2': 0.8918032786885246, 'eval_runtime': 3.5426, 'eval_samples_per_second': 430.47, 'eval_steps_per_second': 6.775, 'epoch': 5.0}\n"
     ]
    },
    {
     "name": "stderr",
     "output_type": "stream",
     "text": [
      "Model weights saved in ./results\\checkpoint-1910\\pytorch_model.bin\n",
      "Deleting older checkpoint [results\\checkpoint-1146] due to args.save_total_limit\n",
      " 26%|██▌       | 2001/7640 [06:15<14:38,  6.42it/s]"
     ]
    },
    {
     "name": "stdout",
     "output_type": "stream",
     "text": [
      "{'loss': 0.2686, 'learning_rate': 1.5798319327731094e-05, 'epoch': 5.24}\n"
     ]
    },
    {
     "name": "stderr",
     "output_type": "stream",
     "text": [
      " 30%|███       | 2292/7640 [06:59<13:08,  6.79it/s]The following columns in the evaluation set  don't have a corresponding argument in `BertForSequenceClassification.forward` and have been ignored: text.\n",
      "***** Running Evaluation *****\n",
      "  Num examples = 1525\n",
      "  Batch size = 64\n",
      "\n",
      " 30%|███       | 2292/7640 [07:02<13:08,  6.79it/s]Saving model checkpoint to ./results\\checkpoint-2292\n",
      "Configuration saved in ./results\\checkpoint-2292\\config.json\n"
     ]
    },
    {
     "name": "stdout",
     "output_type": "stream",
     "text": [
      "{'eval_loss': 0.9727253913879395, 'eval_accuracy': 0.7901639344262295, 'eval_f1': 0.6586085765092596, 'eval_precision': 0.7097317461015495, 'eval_recall': 0.63810521327575, 'eval_top3': 0.9291803278688524, 'eval_top2': 0.8918032786885246, 'eval_runtime': 3.1727, 'eval_samples_per_second': 480.66, 'eval_steps_per_second': 7.564, 'epoch': 6.0}\n"
     ]
    },
    {
     "name": "stderr",
     "output_type": "stream",
     "text": [
      "Model weights saved in ./results\\checkpoint-2292\\pytorch_model.bin\n",
      "Deleting older checkpoint [results\\checkpoint-1528] due to args.save_total_limit\n",
      " 33%|███▎      | 2501/7640 [07:36<13:25,  6.38it/s]"
     ]
    },
    {
     "name": "stdout",
     "output_type": "stream",
     "text": [
      "{'loss': 0.1551, 'learning_rate': 1.4397759103641458e-05, 'epoch': 6.54}\n"
     ]
    },
    {
     "name": "stderr",
     "output_type": "stream",
     "text": [
      " 35%|███▌      | 2674/7640 [08:03<12:42,  6.51it/s]The following columns in the evaluation set  don't have a corresponding argument in `BertForSequenceClassification.forward` and have been ignored: text.\n",
      "***** Running Evaluation *****\n",
      "  Num examples = 1525\n",
      "  Batch size = 64\n",
      "\n",
      " 35%|███▌      | 2674/7640 [08:06<12:42,  6.51it/s]Saving model checkpoint to ./results\\checkpoint-2674\n",
      "Configuration saved in ./results\\checkpoint-2674\\config.json\n"
     ]
    },
    {
     "name": "stdout",
     "output_type": "stream",
     "text": [
      "{'eval_loss': 1.0239416360855103, 'eval_accuracy': 0.801967213114754, 'eval_f1': 0.6848236633018122, 'eval_precision': 0.7188087439065267, 'eval_recall': 0.6700492686549996, 'eval_top3': 0.9350819672131148, 'eval_top2': 0.898360655737705, 'eval_runtime': 3.4169, 'eval_samples_per_second': 446.309, 'eval_steps_per_second': 7.024, 'epoch': 7.0}\n"
     ]
    },
    {
     "name": "stderr",
     "output_type": "stream",
     "text": [
      "Model weights saved in ./results\\checkpoint-2674\\pytorch_model.bin\n",
      "Deleting older checkpoint [results\\checkpoint-1910] due to args.save_total_limit\n",
      " 39%|███▉      | 3001/7640 [08:57<11:13,  6.89it/s]"
     ]
    },
    {
     "name": "stdout",
     "output_type": "stream",
     "text": [
      "{'loss': 0.0936, 'learning_rate': 1.2997198879551822e-05, 'epoch': 7.85}\n"
     ]
    },
    {
     "name": "stderr",
     "output_type": "stream",
     "text": [
      " 40%|████      | 3056/7640 [09:05<10:09,  7.52it/s]The following columns in the evaluation set  don't have a corresponding argument in `BertForSequenceClassification.forward` and have been ignored: text.\n",
      "***** Running Evaluation *****\n",
      "  Num examples = 1525\n",
      "  Batch size = 64\n",
      "\n",
      " 40%|████      | 3056/7640 [09:08<10:09,  7.52it/s]Saving model checkpoint to ./results\\checkpoint-3056\n",
      "Configuration saved in ./results\\checkpoint-3056\\config.json\n"
     ]
    },
    {
     "name": "stdout",
     "output_type": "stream",
     "text": [
      "{'eval_loss': 1.1397786140441895, 'eval_accuracy': 0.7993442622950819, 'eval_f1': 0.6760728010262976, 'eval_precision': 0.7189146365000553, 'eval_recall': 0.6590336212439833, 'eval_top3': 0.9350819672131148, 'eval_top2': 0.898360655737705, 'eval_runtime': 3.084, 'eval_samples_per_second': 494.482, 'eval_steps_per_second': 7.782, 'epoch': 8.0}\n"
     ]
    },
    {
     "name": "stderr",
     "output_type": "stream",
     "text": [
      "Model weights saved in ./results\\checkpoint-3056\\pytorch_model.bin\n",
      "Deleting older checkpoint [results\\checkpoint-2292] due to args.save_total_limit\n",
      " 45%|████▌     | 3438/7640 [10:14<11:11,  6.26it/s]The following columns in the evaluation set  don't have a corresponding argument in `BertForSequenceClassification.forward` and have been ignored: text.\n",
      "***** Running Evaluation *****\n",
      "  Num examples = 1525\n",
      "  Batch size = 64\n",
      "\n",
      " 45%|████▌     | 3438/7640 [10:18<11:11,  6.26it/s]Saving model checkpoint to ./results\\checkpoint-3438\n",
      "Configuration saved in ./results\\checkpoint-3438\\config.json\n"
     ]
    },
    {
     "name": "stdout",
     "output_type": "stream",
     "text": [
      "{'eval_loss': 1.1892651319503784, 'eval_accuracy': 0.8052459016393443, 'eval_f1': 0.6917401467605856, 'eval_precision': 0.7241559320256402, 'eval_recall': 0.6738060778810601, 'eval_top3': 0.9304918032786885, 'eval_top2': 0.9036065573770492, 'eval_runtime': 3.6103, 'eval_samples_per_second': 422.397, 'eval_steps_per_second': 6.648, 'epoch': 9.0}\n"
     ]
    },
    {
     "name": "stderr",
     "output_type": "stream",
     "text": [
      "Model weights saved in ./results\\checkpoint-3438\\pytorch_model.bin\n",
      "Deleting older checkpoint [results\\checkpoint-2674] due to args.save_total_limit\n",
      " 46%|████▌     | 3501/7640 [10:31<12:02,  5.73it/s]"
     ]
    },
    {
     "name": "stdout",
     "output_type": "stream",
     "text": [
      "{'loss': 0.0549, 'learning_rate': 1.1596638655462186e-05, 'epoch': 9.16}\n"
     ]
    },
    {
     "name": "stderr",
     "output_type": "stream",
     "text": [
      " 50%|█████     | 3820/7640 [11:29<10:05,  6.31it/s]The following columns in the evaluation set  don't have a corresponding argument in `BertForSequenceClassification.forward` and have been ignored: text.\n",
      "***** Running Evaluation *****\n",
      "  Num examples = 1525\n",
      "  Batch size = 64\n",
      "\n",
      " 50%|█████     | 3820/7640 [11:33<10:05,  6.31it/s]Saving model checkpoint to ./results\\checkpoint-3820\n",
      "Configuration saved in ./results\\checkpoint-3820\\config.json\n"
     ]
    },
    {
     "name": "stdout",
     "output_type": "stream",
     "text": [
      "{'eval_loss': 1.3900656700134277, 'eval_accuracy': 0.7921311475409836, 'eval_f1': 0.692325295710151, 'eval_precision': 0.7107144207362891, 'eval_recall': 0.6969758656179778, 'eval_top3': 0.9173770491803279, 'eval_top2': 0.8872131147540984, 'eval_runtime': 3.3332, 'eval_samples_per_second': 457.525, 'eval_steps_per_second': 7.2, 'epoch': 10.0}\n"
     ]
    },
    {
     "name": "stderr",
     "output_type": "stream",
     "text": [
      "Model weights saved in ./results\\checkpoint-3820\\pytorch_model.bin\n",
      "Deleting older checkpoint [results\\checkpoint-3056] due to args.save_total_limit\n",
      " 52%|█████▏    | 4001/7640 [12:08<08:43,  6.96it/s]"
     ]
    },
    {
     "name": "stdout",
     "output_type": "stream",
     "text": [
      "{'loss': 0.0237, 'learning_rate': 1.0196078431372549e-05, 'epoch': 10.47}\n"
     ]
    },
    {
     "name": "stderr",
     "output_type": "stream",
     "text": [
      " 55%|█████▌    | 4202/7640 [12:37<07:46,  7.37it/s]The following columns in the evaluation set  don't have a corresponding argument in `BertForSequenceClassification.forward` and have been ignored: text.\n",
      "***** Running Evaluation *****\n",
      "  Num examples = 1525\n",
      "  Batch size = 64\n",
      "\n",
      " 55%|█████▌    | 4202/7640 [12:40<07:46,  7.37it/s]Saving model checkpoint to ./results\\checkpoint-4202\n",
      "Configuration saved in ./results\\checkpoint-4202\\config.json\n"
     ]
    },
    {
     "name": "stdout",
     "output_type": "stream",
     "text": [
      "{'eval_loss': 1.30657160282135, 'eval_accuracy': 0.8045901639344263, 'eval_f1': 0.7008775117123527, 'eval_precision': 0.7653860892522012, 'eval_recall': 0.6744593488621988, 'eval_top3': 0.9311475409836065, 'eval_top2': 0.9009836065573771, 'eval_runtime': 3.2293, 'eval_samples_per_second': 472.238, 'eval_steps_per_second': 7.432, 'epoch': 11.0}\n"
     ]
    },
    {
     "name": "stderr",
     "output_type": "stream",
     "text": [
      "Model weights saved in ./results\\checkpoint-4202\\pytorch_model.bin\n",
      "Deleting older checkpoint [results\\checkpoint-3820] due to args.save_total_limit\n",
      " 57%|█████▋    | 4330/7640 [13:03<11:05,  4.97it/s]"
     ]
    },
    {
     "ename": "RuntimeError",
     "evalue": "transform: failed to synchronize: cudaErrorLaunchFailure: unspecified launch failure",
     "output_type": "error",
     "traceback": [
      "\u001b[1;31m---------------------------------------------------------------------------\u001b[0m",
      "\u001b[1;31mRuntimeError\u001b[0m                              Traceback (most recent call last)",
      "\u001b[1;32m~\\AppData\\Local\\Temp/ipykernel_134820/4032920361.py\u001b[0m in \u001b[0;36m<module>\u001b[1;34m\u001b[0m\n\u001b[1;32m----> 1\u001b[1;33m \u001b[0mtrainer\u001b[0m\u001b[1;33m.\u001b[0m\u001b[0mtrain\u001b[0m\u001b[1;33m(\u001b[0m\u001b[1;33m)\u001b[0m\u001b[1;33m\u001b[0m\u001b[1;33m\u001b[0m\u001b[0m\n\u001b[0m",
      "\u001b[1;32m~\\AppData\\Local\\Programs\\Python\\Python38\\lib\\site-packages\\transformers\\trainer.py\u001b[0m in \u001b[0;36mtrain\u001b[1;34m(self, resume_from_checkpoint, trial, ignore_keys_for_eval, **kwargs)\u001b[0m\n\u001b[0;32m   1314\u001b[0m                         \u001b[0mtr_loss_step\u001b[0m \u001b[1;33m=\u001b[0m \u001b[0mself\u001b[0m\u001b[1;33m.\u001b[0m\u001b[0mtraining_step\u001b[0m\u001b[1;33m(\u001b[0m\u001b[0mmodel\u001b[0m\u001b[1;33m,\u001b[0m \u001b[0minputs\u001b[0m\u001b[1;33m)\u001b[0m\u001b[1;33m\u001b[0m\u001b[1;33m\u001b[0m\u001b[0m\n\u001b[0;32m   1315\u001b[0m                 \u001b[1;32melse\u001b[0m\u001b[1;33m:\u001b[0m\u001b[1;33m\u001b[0m\u001b[1;33m\u001b[0m\u001b[0m\n\u001b[1;32m-> 1316\u001b[1;33m                     \u001b[0mtr_loss_step\u001b[0m \u001b[1;33m=\u001b[0m \u001b[0mself\u001b[0m\u001b[1;33m.\u001b[0m\u001b[0mtraining_step\u001b[0m\u001b[1;33m(\u001b[0m\u001b[0mmodel\u001b[0m\u001b[1;33m,\u001b[0m \u001b[0minputs\u001b[0m\u001b[1;33m)\u001b[0m\u001b[1;33m\u001b[0m\u001b[1;33m\u001b[0m\u001b[0m\n\u001b[0m\u001b[0;32m   1317\u001b[0m \u001b[1;33m\u001b[0m\u001b[0m\n\u001b[0;32m   1318\u001b[0m                 if (\n",
      "\u001b[1;32m~\\AppData\\Local\\Programs\\Python\\Python38\\lib\\site-packages\\transformers\\trainer.py\u001b[0m in \u001b[0;36mtraining_step\u001b[1;34m(self, model, inputs)\u001b[0m\n\u001b[0;32m   1865\u001b[0m             \u001b[0mloss\u001b[0m \u001b[1;33m=\u001b[0m \u001b[0mself\u001b[0m\u001b[1;33m.\u001b[0m\u001b[0mdeepspeed\u001b[0m\u001b[1;33m.\u001b[0m\u001b[0mbackward\u001b[0m\u001b[1;33m(\u001b[0m\u001b[0mloss\u001b[0m\u001b[1;33m)\u001b[0m\u001b[1;33m\u001b[0m\u001b[1;33m\u001b[0m\u001b[0m\n\u001b[0;32m   1866\u001b[0m         \u001b[1;32melse\u001b[0m\u001b[1;33m:\u001b[0m\u001b[1;33m\u001b[0m\u001b[1;33m\u001b[0m\u001b[0m\n\u001b[1;32m-> 1867\u001b[1;33m             \u001b[0mloss\u001b[0m\u001b[1;33m.\u001b[0m\u001b[0mbackward\u001b[0m\u001b[1;33m(\u001b[0m\u001b[1;33m)\u001b[0m\u001b[1;33m\u001b[0m\u001b[1;33m\u001b[0m\u001b[0m\n\u001b[0m\u001b[0;32m   1868\u001b[0m \u001b[1;33m\u001b[0m\u001b[0m\n\u001b[0;32m   1869\u001b[0m         \u001b[1;32mreturn\u001b[0m \u001b[0mloss\u001b[0m\u001b[1;33m.\u001b[0m\u001b[0mdetach\u001b[0m\u001b[1;33m(\u001b[0m\u001b[1;33m)\u001b[0m\u001b[1;33m\u001b[0m\u001b[1;33m\u001b[0m\u001b[0m\n",
      "\u001b[1;32m~\\AppData\\Local\\Programs\\Python\\Python38\\lib\\site-packages\\torch\\_tensor.py\u001b[0m in \u001b[0;36mbackward\u001b[1;34m(self, gradient, retain_graph, create_graph, inputs)\u001b[0m\n\u001b[0;32m    253\u001b[0m                 \u001b[0mcreate_graph\u001b[0m\u001b[1;33m=\u001b[0m\u001b[0mcreate_graph\u001b[0m\u001b[1;33m,\u001b[0m\u001b[1;33m\u001b[0m\u001b[1;33m\u001b[0m\u001b[0m\n\u001b[0;32m    254\u001b[0m                 inputs=inputs)\n\u001b[1;32m--> 255\u001b[1;33m         \u001b[0mtorch\u001b[0m\u001b[1;33m.\u001b[0m\u001b[0mautograd\u001b[0m\u001b[1;33m.\u001b[0m\u001b[0mbackward\u001b[0m\u001b[1;33m(\u001b[0m\u001b[0mself\u001b[0m\u001b[1;33m,\u001b[0m \u001b[0mgradient\u001b[0m\u001b[1;33m,\u001b[0m \u001b[0mretain_graph\u001b[0m\u001b[1;33m,\u001b[0m \u001b[0mcreate_graph\u001b[0m\u001b[1;33m,\u001b[0m \u001b[0minputs\u001b[0m\u001b[1;33m=\u001b[0m\u001b[0minputs\u001b[0m\u001b[1;33m)\u001b[0m\u001b[1;33m\u001b[0m\u001b[1;33m\u001b[0m\u001b[0m\n\u001b[0m\u001b[0;32m    256\u001b[0m \u001b[1;33m\u001b[0m\u001b[0m\n\u001b[0;32m    257\u001b[0m     \u001b[1;32mdef\u001b[0m \u001b[0mregister_hook\u001b[0m\u001b[1;33m(\u001b[0m\u001b[0mself\u001b[0m\u001b[1;33m,\u001b[0m \u001b[0mhook\u001b[0m\u001b[1;33m)\u001b[0m\u001b[1;33m:\u001b[0m\u001b[1;33m\u001b[0m\u001b[1;33m\u001b[0m\u001b[0m\n",
      "\u001b[1;32m~\\AppData\\Local\\Programs\\Python\\Python38\\lib\\site-packages\\torch\\autograd\\__init__.py\u001b[0m in \u001b[0;36mbackward\u001b[1;34m(tensors, grad_tensors, retain_graph, create_graph, grad_variables, inputs)\u001b[0m\n\u001b[0;32m    145\u001b[0m         \u001b[0mretain_graph\u001b[0m \u001b[1;33m=\u001b[0m \u001b[0mcreate_graph\u001b[0m\u001b[1;33m\u001b[0m\u001b[1;33m\u001b[0m\u001b[0m\n\u001b[0;32m    146\u001b[0m \u001b[1;33m\u001b[0m\u001b[0m\n\u001b[1;32m--> 147\u001b[1;33m     Variable._execution_engine.run_backward(\n\u001b[0m\u001b[0;32m    148\u001b[0m         \u001b[0mtensors\u001b[0m\u001b[1;33m,\u001b[0m \u001b[0mgrad_tensors_\u001b[0m\u001b[1;33m,\u001b[0m \u001b[0mretain_graph\u001b[0m\u001b[1;33m,\u001b[0m \u001b[0mcreate_graph\u001b[0m\u001b[1;33m,\u001b[0m \u001b[0minputs\u001b[0m\u001b[1;33m,\u001b[0m\u001b[1;33m\u001b[0m\u001b[1;33m\u001b[0m\u001b[0m\n\u001b[0;32m    149\u001b[0m         allow_unreachable=True, accumulate_grad=True)  # allow_unreachable flag\n",
      "\u001b[1;31mRuntimeError\u001b[0m: transform: failed to synchronize: cudaErrorLaunchFailure: unspecified launch failure"
     ]
    }
   ],
   "source": [
    "trainer.train()"
   ]
  },
  {
   "cell_type": "code",
   "execution_count": null,
   "metadata": {},
   "outputs": [
    {
     "name": "stderr",
     "output_type": "stream",
     "text": [
      "The following columns in the evaluation set  don't have a corresponding argument in `BertForSequenceClassification.forward` and have been ignored: text.\n",
      "***** Running Evaluation *****\n",
      "  Num examples = 1526\n",
      "  Batch size = 64\n",
      "100%|██████████| 24/24 [00:03<00:00,  6.37it/s]\n"
     ]
    },
    {
     "data": {
      "text/plain": [
       "{'eval_loss': 1.3667666912078857,\n",
       " 'eval_accuracy': 0.8289646133682831,\n",
       " 'eval_f1': 0.7600767747856746,\n",
       " 'eval_precision': 0.7783009182422279,\n",
       " 'eval_recall': 0.74921395397379,\n",
       " 'eval_top3': 0.936435124508519,\n",
       " 'eval_top2': 0.9121887287024901,\n",
       " 'eval_runtime': 3.9514,\n",
       " 'eval_samples_per_second': 386.188,\n",
       " 'eval_steps_per_second': 6.074,\n",
       " 'epoch': 20.0}"
      ]
     },
     "execution_count": 20,
     "metadata": {},
     "output_type": "execute_result"
    }
   ],
   "source": [
    "trainer.evaluate()"
   ]
  },
  {
   "cell_type": "code",
   "execution_count": null,
   "metadata": {},
   "outputs": [
    {
     "name": "stderr",
     "output_type": "stream",
     "text": [
      "100%|██████████| 1/1 [00:00<00:00, 167.14ba/s]\n",
      "The following columns in the test set  don't have a corresponding argument in `BertForSequenceClassification.forward` and have been ignored: text.\n",
      "***** Running Prediction *****\n",
      "  Num examples = 5\n",
      "  Batch size = 64\n",
      "  0%|          | 0/1 [00:00<?, ?it/s]"
     ]
    },
    {
     "data": {
      "text/plain": [
       "PredictionOutput(predictions=array([[-0.54258686, -2.283698  , -1.2337625 ,  0.6101017 ,  8.834227  ,\n",
       "        -0.60477626, -0.1470656 , -0.25806686, -1.9158627 , -0.45982993,\n",
       "        -0.08515993, -1.3472333 ],\n",
       "       [ 9.702999  , -0.29276183, -1.5581697 , -1.5263258 , -1.2451688 ,\n",
       "        -0.5294447 ,  2.195682  , -1.8384721 , -1.5489938 , -3.0295794 ,\n",
       "        -1.7577528 , -1.730811  ],\n",
       "       [ 1.4455788 , -1.5327429 ,  2.143541  ,  7.9250283 , -1.1390123 ,\n",
       "        -3.0250149 , -0.9481666 , -2.0208018 ,  0.02337106, -0.8389467 ,\n",
       "        -0.08845273, -0.9033677 ],\n",
       "       [-1.1007565 , -1.3134553 , -1.9952139 , -0.77075744, -1.4220358 ,\n",
       "         0.21309426, 10.992527  , -0.8264481 , -0.6472416 , -2.5305545 ,\n",
       "        -1.0293103 , -1.4311087 ],\n",
       "       [ 2.7709064 ,  7.787258  ,  2.5337188 , -1.0464295 , -2.2166548 ,\n",
       "        -1.2778659 , -2.6960404 , -2.199739  , -1.8598685 , -1.4836167 ,\n",
       "        -1.3202602 , -1.9072998 ]], dtype=float32), label_ids=None, metrics={'test_runtime': 0.0389, 'test_samples_per_second': 128.537, 'test_steps_per_second': 25.707})"
      ]
     },
     "execution_count": 21,
     "metadata": {},
     "output_type": "execute_result"
    }
   ],
   "source": [
    "\n",
    "predict_dataset = Dataset.from_dict({\"text\":[\"In contrast to the radical forces buffeting valuations, for most companies, 2020 was a year of “strategy lockdown.\",\n",
    "\"Domestic policies thus tended to reinforce negative spillovers and exacerbate systemic risk across the euro area.\",\n",
    "\"Mortgage interest rate in selected European countries as of 4th quarter of 2019 and 2020 increased\",\n",
    "\"Accordingly, I shall spend most of my allotted time outlining the chosen monetary policy instruments and procedures of the ESCB and the considerations that have been raised relating to strategy.\",\n",
    "\"Credit card interest rate has gone up a lot.\"]})\n",
    "\n",
    "def tokenize(batch):\n",
    "    return tokenizer(batch['text'], padding=True, truncation=True)\n",
    "predict_dataset = predict_dataset.map(tokenize, batched=True, batch_size=len(train_dataset))\n",
    "\n",
    "trainer.predict(predict_dataset)"
   ]
  }
 ],
 "metadata": {
  "interpreter": {
   "hash": "1b174d106187cf4c36b481e4f9775d9b6103c84ebc5bd0573d3cc5e86d067305"
  },
  "kernelspec": {
   "display_name": "Python 3.8.5 64-bit",
   "name": "python3"
  },
  "language_info": {
   "codemirror_mode": {
    "name": "ipython",
    "version": 3
   },
   "file_extension": ".py",
   "mimetype": "text/x-python",
   "name": "python",
   "nbconvert_exporter": "python",
   "pygments_lexer": "ipython3",
   "version": "3.8.5"
  },
  "orig_nbformat": 4
 },
 "nbformat": 4,
 "nbformat_minor": 2
}

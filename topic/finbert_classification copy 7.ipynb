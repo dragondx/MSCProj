{
 "cells": [
  {
   "cell_type": "code",
   "execution_count": 1,
   "source": [
    "import os\r\n",
    "\r\n",
    "os.environ[\"CUDA_DEVICE_ORDER\"]=\"PCI_BUS_ID\"   \r\n",
    "os.environ[\"CUDA_VISIBLE_DEVICES\"]=\"6\""
   ],
   "outputs": [],
   "metadata": {}
  },
  {
   "cell_type": "code",
   "execution_count": 2,
   "source": [
    "from datasets import Dataset\r\n",
    "classes = [\"banking\",\"valuation\",\"household\",\"real estate\",\"corporate\",\"external\",\"sovereign\",\"technology\", \"climate\", \"energy\", \"health\", \"eu\"]\r\n"
   ],
   "outputs": [],
   "metadata": {}
  },
  {
   "cell_type": "code",
   "execution_count": 3,
   "source": [
    "from transformers import AutoModelForSequenceClassification, AutoTokenizer, Trainer, TrainingArguments\r\n",
    "import torch\r\n",
    "import numpy as np\r\n",
    "from sklearn.metrics import accuracy_score, precision_recall_fscore_support,top_k_accuracy_score\r\n",
    "import math\r\n",
    "import pickle"
   ],
   "outputs": [],
   "metadata": {}
  },
  {
   "cell_type": "code",
   "execution_count": 4,
   "source": [
    "model = AutoModelForSequenceClassification.from_pretrained('bert-base-uncased', num_labels=len(classes))\r\n",
    "finbert = AutoModelForSequenceClassification.from_pretrained('ProsusAI/finbert')\r\n",
    "tokenizer = AutoTokenizer.from_pretrained('ProsusAI/finbert', use_fast =True)"
   ],
   "outputs": [
    {
     "output_type": "stream",
     "name": "stderr",
     "text": [
      "Some weights of the model checkpoint at bert-base-uncased were not used when initializing BertForSequenceClassification: ['cls.seq_relationship.weight', 'cls.predictions.bias', 'cls.predictions.transform.dense.bias', 'cls.predictions.transform.dense.weight', 'cls.predictions.transform.LayerNorm.bias', 'cls.seq_relationship.bias', 'cls.predictions.decoder.weight', 'cls.predictions.transform.LayerNorm.weight']\n",
      "- This IS expected if you are initializing BertForSequenceClassification from the checkpoint of a model trained on another task or with another architecture (e.g. initializing a BertForSequenceClassification model from a BertForPreTraining model).\n",
      "- This IS NOT expected if you are initializing BertForSequenceClassification from the checkpoint of a model that you expect to be exactly identical (initializing a BertForSequenceClassification model from a BertForSequenceClassification model).\n",
      "Some weights of BertForSequenceClassification were not initialized from the model checkpoint at bert-base-uncased and are newly initialized: ['classifier.weight', 'classifier.bias']\n",
      "You should probably TRAIN this model on a down-stream task to be able to use it for predictions and inference.\n"
     ]
    }
   ],
   "metadata": {}
  },
  {
   "cell_type": "code",
   "execution_count": 5,
   "source": [
    "# object_methods = [method_name for method_name in dir(finbert)\r\n",
    "#                   if callable(getattr(finbert, method_name))]\r\n",
    "# print(object_methods)\r\n",
    "finbert_weights = finbert.state_dict()\r\n",
    "model_weights = model.state_dict()\r\n",
    "del finbert_weights[\"bert.pooler.dense.weight\"]\r\n",
    "del finbert_weights[\"bert.pooler.dense.bias\"]\r\n",
    "del finbert_weights[\"classifier.weight\"]\r\n",
    "del finbert_weights[\"classifier.bias\"]\r\n",
    "finbert_weights[\"bert.pooler.dense.weight\"] = model_weights[\"bert.pooler.dense.weight\"]\r\n",
    "finbert_weights[\"bert.pooler.dense.bias\"] = model_weights[\"bert.pooler.dense.bias\"]\r\n",
    "finbert_weights[\"classifier.weight\"] = model_weights[\"classifier.weight\"]\r\n",
    "finbert_weights[\"classifier.bias\"] = model_weights[\"classifier.bias\"]\r\n",
    "\r\n",
    "model.load_state_dict(finbert_weights)\r\n"
   ],
   "outputs": [
    {
     "output_type": "execute_result",
     "data": {
      "text/plain": [
       "<All keys matched successfully>"
      ]
     },
     "metadata": {},
     "execution_count": 5
    }
   ],
   "metadata": {}
  },
  {
   "cell_type": "code",
   "execution_count": 6,
   "source": [
    "# flatten to one list for all 3\r\n",
    "with open('train_data.pickle', 'rb') as file:\r\n",
    "    train = pickle.load(file)\r\n",
    "\r\n",
    "with open('gpt.pickle', 'rb') as file:\r\n",
    "    gpt = pickle.load(file)\r\n",
    "\r\n",
    "with open('gpt_p2.pickle', 'rb') as file:\r\n",
    "    gpt2 = pickle.load(file)\r\n",
    "    \r\n",
    "gpt = [item for sublist in gpt for item in sublist]\r\n",
    "gpt2 = [item for sublist in gpt2 for item in sublist]\r\n",
    "\r\n",
    "mixed = gpt + gpt2"
   ],
   "outputs": [],
   "metadata": {}
  },
  {
   "cell_type": "code",
   "execution_count": 27,
   "source": [
    "print(len(mixed))"
   ],
   "outputs": [
    {
     "output_type": "stream",
     "name": "stdout",
     "text": [
      "2458\n"
     ]
    }
   ],
   "metadata": {}
  },
  {
   "cell_type": "code",
   "execution_count": 28,
   "source": [
    "sample = 1\r\n",
    "# text = [item[\"text\"] for i in range(sample) for item in mixed]\r\n",
    "# label = [np.random.choice(len(classes), p=item[\"dist\"]) for i in range(sample) for item in mixed]\r\n",
    "additional_text = []\r\n",
    "additional_label = []\r\n",
    "\r\n",
    "for idx in range(1,len(mixed)-1):\r\n",
    "    sent1, sent2 = mixed[idx-1:idx+1]\r\n",
    "    for i in range(1):\r\n",
    "        additional_text.append(sent1[\"text\"]+' '+ sent2[\"text\"])\r\n",
    "        dist = (np.array(sent1[\"dist\"]) + np.array(sent2[\"dist\"]))/2\r\n",
    "        additional_label.append(np.argmax(dist))\r\n",
    "\r\n",
    "for idx in range(2,len(mixed)-1):\r\n",
    "    sent1, sent2, sent3 = mixed[idx-2:idx+1]\r\n",
    "    for i in range(1):\r\n",
    "        additional_text.append(sent1[\"text\"]+' '+ sent2[\"text\"]+' '+sent3[\"text\"])\r\n",
    "        dist = (np.array(sent1[\"dist\"]) + np.array(sent2[\"dist\"])+ np.array(sent3[\"dist\"]))/3\r\n",
    "        additional_label.append(np.argmax(dist))\r\n",
    "\r\n",
    "text_max = [item[\"text\"] for i in range(sample) for item in train]\r\n",
    "label_max = [np.argmax(item[\"dist\"]) for i in range(sample) for item in train]\r\n",
    "\r\n",
    "text_max_mixed = [item[\"text\"] for i in range(sample) for item in mixed]\r\n",
    "label_max_mixed = [np.argmax(item[\"dist\"]) for i in range(sample) for item in mixed]\r\n",
    "\r\n",
    "# comb_text = text_max+text_max_mixed + additional_text\r\n",
    "# comb_label = label_max+label_max_mixed + additional_label"
   ],
   "outputs": [],
   "metadata": {}
  },
  {
   "cell_type": "code",
   "execution_count": 29,
   "source": [
    "print(len(text_max))"
   ],
   "outputs": [
    {
     "output_type": "stream",
     "name": "stdout",
     "text": [
      "261\n"
     ]
    }
   ],
   "metadata": {}
  },
  {
   "cell_type": "code",
   "execution_count": 32,
   "source": [
    "import random\r\n",
    "def randomize_split(text, label):\r\n",
    "    temp = list(zip(text, label))\r\n",
    "    random.shuffle(temp)\r\n",
    "    comb_text, comb_label =  zip(*temp)\r\n",
    "    return comb_text, comb_label\r\n",
    "\r\n",
    "a1 = randomize_split(text_max,label_max)\r\n",
    "a2 = randomize_split(text_max_mixed,label_max_mixed)\r\n",
    "a3 = randomize_split(additional_text,additional_label)\r\n",
    "# comb_text = \r\n",
    "# comb_label = \r\n",
    "train_text, test_text =  [*a1[0][math.ceil(len(a1)*0.8):],*a2[0][math.ceil(len(a2)*0.8):],*a3[0][math.ceil(len(a2)*0.8):] ], [*a1[0][:math.ceil(len(a1)*0.8)],*a2[0][:math.ceil(len(a2)*0.8)],*a3[0][:math.ceil(len(a2)*0.8)] ]\r\n",
    "train_label, test_label = [*a1[1][math.ceil(len(a1)*0.8):],*a2[1][math.ceil(len(a2)*0.8):],*a3[1][math.ceil(len(a2)*0.8):] ],  [*a1[1][:math.ceil(len(a1)*0.8)],*a2[1][:math.ceil(len(a2)*0.8)],*a3[1][:math.ceil(len(a2)*0.8)] ]\r\n",
    "# train_text, test_text = comb_text[:math.ceil(len(comb_text)*0.8)], comb_text[math.ceil(len(comb_text)*0.8):]\r\n",
    "# train_label, test_label = comb_label[:math.ceil(len(comb_label)*0.8)], comb_label[math.ceil(len(comb_text)*0.8):]"
   ],
   "outputs": [
    {
     "output_type": "stream",
     "name": "stdout",
     "text": [
      "261\n",
      "2458\n",
      "4911\n"
     ]
    }
   ],
   "metadata": {}
  },
  {
   "cell_type": "code",
   "execution_count": 50,
   "source": [
    "print(len([*a1[0][math.ceil(len(a1)*0.8):],*a2[0][math.ceil(len(a2)*0.8):],*a3[0][math.ceil(len(a2)*0.8):] ]))\r\n",
    "print(len(a1[0][math.ceil(len(a2)*0.8):]))\r\n",
    "print(len(a2[0][math.ceil(len(a2)*0.8):]))\r\n",
    "print(len(test_label))"
   ],
   "outputs": [
    {
     "output_type": "stream",
     "name": "stdout",
     "text": [
      "7624\n",
      "259\n",
      "2456\n",
      "7624\n"
     ]
    }
   ],
   "metadata": {}
  },
  {
   "cell_type": "code",
   "execution_count": null,
   "source": [
    "\r\n",
    "# with open('dataset_57.pickle', 'wb') as file:\r\n",
    "#     pickle.dump((comb_text,comb_label), file)"
   ],
   "outputs": [],
   "metadata": {}
  },
  {
   "cell_type": "code",
   "execution_count": null,
   "source": [
    "\r\n",
    "# with open('dataset_57.pickle', 'rb') as file:\r\n",
    "#     comb_text,comb_label = pickle.load(file)"
   ],
   "outputs": [],
   "metadata": {}
  },
  {
   "cell_type": "code",
   "execution_count": 13,
   "source": [
    "# assert len(comb_text) == len(comb_label)"
   ],
   "outputs": [
    {
     "output_type": "error",
     "ename": "NameError",
     "evalue": "name 'comb_text' is not defined",
     "traceback": [
      "\u001b[1;31m---------------------------------------------------------------------------\u001b[0m",
      "\u001b[1;31mNameError\u001b[0m                                 Traceback (most recent call last)",
      "\u001b[1;32m~\\AppData\\Local\\Temp/ipykernel_8516/721227151.py\u001b[0m in \u001b[0;36m<module>\u001b[1;34m\u001b[0m\n\u001b[1;32m----> 1\u001b[1;33m \u001b[1;32massert\u001b[0m \u001b[0mlen\u001b[0m\u001b[1;33m(\u001b[0m\u001b[0mcomb_text\u001b[0m\u001b[1;33m)\u001b[0m \u001b[1;33m==\u001b[0m \u001b[0mlen\u001b[0m\u001b[1;33m(\u001b[0m\u001b[0mcomb_label\u001b[0m\u001b[1;33m)\u001b[0m\u001b[1;33m\u001b[0m\u001b[1;33m\u001b[0m\u001b[0m\n\u001b[0m",
      "\u001b[1;31mNameError\u001b[0m: name 'comb_text' is not defined"
     ]
    }
   ],
   "metadata": {}
  },
  {
   "cell_type": "code",
   "execution_count": null,
   "source": [],
   "outputs": [],
   "metadata": {}
  },
  {
   "cell_type": "code",
   "execution_count": null,
   "source": [
    "# print(len(comb_label))"
   ],
   "outputs": [
    {
     "output_type": "stream",
     "name": "stdout",
     "text": [
      "7630\n"
     ]
    }
   ],
   "metadata": {}
  },
  {
   "cell_type": "code",
   "execution_count": null,
   "source": [],
   "outputs": [],
   "metadata": {}
  },
  {
   "cell_type": "code",
   "execution_count": 14,
   "source": [
    "train_dataset = Dataset.from_dict({\"text\":train_text, \"label\":train_label})\r\n",
    "test_dataset = Dataset.from_dict({\"text\":test_text, \"label\":test_label})"
   ],
   "outputs": [],
   "metadata": {}
  },
  {
   "cell_type": "code",
   "execution_count": 15,
   "source": [
    "def tokenize(batch):\r\n",
    "    return tokenizer(batch['text'], padding=True, truncation=True)\r\n",
    "train_dataset = train_dataset.map(tokenize, batched=True, batch_size=len(train_dataset))\r\n",
    "test_dataset = test_dataset.map(tokenize, batched=True, batch_size=len(test_dataset))\r\n",
    "train_dataset.set_format('torch', columns=['input_ids', 'attention_mask', 'label'])\r\n",
    "test_dataset.set_format('torch', columns=['input_ids', 'attention_mask', 'label'])"
   ],
   "outputs": [
    {
     "output_type": "stream",
     "name": "stderr",
     "text": [
      "100%|██████████| 1/1 [00:00<00:00, 200.58ba/s]\n",
      "100%|██████████| 1/1 [00:01<00:00,  1.39s/ba]\n"
     ]
    }
   ],
   "metadata": {}
  },
  {
   "cell_type": "code",
   "execution_count": 16,
   "source": [
    "train_dataset[\"input_ids\"]"
   ],
   "outputs": [
    {
     "output_type": "execute_result",
     "data": {
      "text/plain": [
       "tensor([[  101,  1996,  1057,  1012,  1055,  1012,  6451,  4753,  1010,  1999,\n",
       "          2029,  5860, 11795,  3085,  3431,  1999,  1996,  2943,  4666,  4050,\n",
       "          5258,  3254,  1010,  5281,  6937,  1998, 27885,  8043, 12423,  3431,\n",
       "          2058,  1996,  2627,  2809,  2086,  1012,   102,     0,     0,     0,\n",
       "             0,     0,     0,     0,     0,     0,     0,     0,     0,     0,\n",
       "             0,     0,     0,     0,     0,     0,     0,     0,     0,     0,\n",
       "             0,     0,     0,     0,     0,     0,     0,     0,     0,     0,\n",
       "             0,     0],\n",
       "        [  101,  1996,  2117,  4403,  1997,  1996,  5325,  2234,  2004,  1037,\n",
       "          9509,  1997,  1996,  3279,  1997,  7023,  1999,  2070, 11074,  2015,\n",
       "          1012,   102,     0,     0,     0,     0,     0,     0,     0,     0,\n",
       "             0,     0,     0,     0,     0,     0,     0,     0,     0,     0,\n",
       "             0,     0,     0,     0,     0,     0,     0,     0,     0,     0,\n",
       "             0,     0,     0,     0,     0,     0,     0,     0,     0,     0,\n",
       "             0,     0,     0,     0,     0,     0,     0,     0,     0,     0,\n",
       "             0,     0],\n",
       "        [  101,  5026, 18700,  2067,  2000,  7680,  2039,  1010,  1996,  3471,\n",
       "          1996,  9944,  2181,  2038,  4320, 18547,  2013,  1996,  2755,  2008,\n",
       "          2009,  2106,  2025,  4553,  2049,  2219, 10800,  1012,   102,     0,\n",
       "             0,     0,     0,     0,     0,     0,     0,     0,     0,     0,\n",
       "             0,     0,     0,     0,     0,     0,     0,     0,     0,     0,\n",
       "             0,     0,     0,     0,     0,     0,     0,     0,     0,     0,\n",
       "             0,     0,     0,     0,     0,     0,     0,     0,     0,     0,\n",
       "             0,     0],\n",
       "        [  101,  6600,  1010,  1045,  2052,  2022,  4699,  1999,  2115,  5328,\n",
       "          2006,  1996, 13494,  2005,  4964,  3318,  6089,  2445,  2008,  5658,\n",
       "         11412, 17402,  2024,  3497,  2000,  2022,  2746,  2000,  2019,  2203,\n",
       "          2006,  1037,  3795,  4094,  1516,  3383,  2007,  1996,  6453,  1997,\n",
       "          2900,  1012,   102,     0,     0,     0,     0,     0,     0,     0,\n",
       "             0,     0,     0,     0,     0,     0,     0,     0,     0,     0,\n",
       "             0,     0,     0,     0,     0,     0,     0,     0,     0,     0,\n",
       "             0,     0],\n",
       "        [  101,  2122,  5906,  2272,  2007,  2116,  5430, 11149,  1012,  5262,\n",
       "          1010,  2116,  2020,  1996,  2034,  2000,  2391,  2019, 16222, 10383,\n",
       "          7062,  4344,  2012,  2107, 19518,  7705,  2015,  1999,  1996, 10530,\n",
       "          1997,  1996,  3361,  5325,  1012,  1996,  2364, 19628,  2020,  2008,\n",
       "          4275,  2020,  4394,  3145,  2838,  1997,  1996,  4610,  1998,  1013,\n",
       "          2030,  2020,  2241,  2006,  4895, 22852,  6553, 17568,  1012,   102,\n",
       "             0,     0,     0,     0,     0,     0,     0,     0,     0,     0,\n",
       "             0,     0],\n",
       "        [  101,  1998,  2061,  2057,  2097, 29486,  1998,  2566,  3366, 28943,\n",
       "          2127,  1996,  6090,  3207,  7712,  5057,  2038,  2979,  1012,  2009,\n",
       "          2097,  2202,  1037,  2136,  3947,  2000,  2131,  2045,  1516,  2013,\n",
       "          2740,  4614,  1010,  2013, 10807,  4614,  1998,  2013,  2035,  1997,\n",
       "          2017,  2182,  1012,  2021,  1045,  2064, 14306,  2017,  2008,  1996,\n",
       "         14925,  2497,  2097,  3613,  2000,  2377,  2049,  2112,  1010,  2004,\n",
       "          2057,  2031,  2589,  2144,  1996,  2034,  2420,  1997,  1996,  5325,\n",
       "          1012,   102]])"
      ]
     },
     "metadata": {},
     "execution_count": 16
    }
   ],
   "metadata": {}
  },
  {
   "cell_type": "code",
   "execution_count": 17,
   "source": [
    "def compute_metrics(pred):\r\n",
    "    labels = pred.label_ids\r\n",
    "    preds = pred.predictions.argmax(-1)\r\n",
    "    precision, recall, f1, _ = precision_recall_fscore_support(labels, preds, average='macro')\r\n",
    "    acc = accuracy_score(labels, preds)\r\n",
    "    top3 = top_k_accuracy_score(labels, pred.predictions,k=3)\r\n",
    "    top2 = top_k_accuracy_score(labels, pred.predictions,k=2)\r\n",
    "    return {\r\n",
    "        'accuracy': acc,\r\n",
    "        'f1': f1,\r\n",
    "        'precision': precision,\r\n",
    "        'recall': recall,\r\n",
    "        'top3': top3,\r\n",
    "         'top2': top2\r\n",
    "    }\r\n",
    "\r\n",
    "training_args = TrainingArguments(\r\n",
    "    \r\n",
    "    output_dir='./results',\r\n",
    "    learning_rate=2e-5,\r\n",
    "    num_train_epochs=20,\r\n",
    "    per_device_train_batch_size=16,\r\n",
    "    per_device_eval_batch_size=64,\r\n",
    "    warmup_steps=500,\r\n",
    "    weight_decay=0.01,\r\n",
    "    metric_for_best_model=\"accuracy\",\r\n",
    "    evaluation_strategy='epoch',\r\n",
    "    save_strategy = \"epoch\",\r\n",
    "    logging_dir='./logs',\r\n",
    "    save_total_limit = 1, # Only last 5 models are saved. Older ones are deleted.\r\n",
    "    load_best_model_at_end=True,\r\n",
    ")\r\n",
    "    # \"test-glue\",\r\n",
    "    # evaluation_strategy = \"epoch\",\r\n",
    "    # save_strategy = \"epoch\",\r\n",
    "    # learning_rate=2e-5,\r\n",
    "    # per_device_train_batch_size=batch_size,\r\n",
    "    # per_device_eval_batch_size=batch_size,\r\n",
    "    # num_train_epochs=5,\r\n",
    "    # weight_decay=0.01,\r\n",
    "    # load_best_model_at_end=True,\r\n",
    "    # metric_for_best_model=metric_name,\r\n",
    "    # push_to_hub=True,\r\n",
    "    # push_to_hub_model_id=f\"{model_name}-finetuned-{task}\",\r\n",
    "trainer = Trainer(\r\n",
    "    model=model,\r\n",
    "    args=training_args,\r\n",
    "    compute_metrics=compute_metrics,\r\n",
    "    train_dataset=train_dataset,\r\n",
    "    eval_dataset=test_dataset\r\n",
    ")"
   ],
   "outputs": [],
   "metadata": {}
  },
  {
   "cell_type": "code",
   "execution_count": 18,
   "source": [
    "trainer.train()"
   ],
   "outputs": [
    {
     "output_type": "stream",
     "name": "stderr",
     "text": [
      "The following columns in the training set  don't have a corresponding argument in `BertForSequenceClassification.forward` and have been ignored: text.\n",
      "***** Running training *****\n",
      "  Num examples = 6\n",
      "  Num Epochs = 20\n",
      "  Instantaneous batch size per device = 16\n",
      "  Total train batch size (w. parallel, distributed & accumulation) = 16\n",
      "  Gradient Accumulation steps = 1\n",
      "  Total optimization steps = 20\n",
      "  5%|▌         | 1/20 [00:02<00:40,  2.15s/it]The following columns in the evaluation set  don't have a corresponding argument in `BertForSequenceClassification.forward` and have been ignored: text.\n",
      "***** Running Evaluation *****\n",
      "  Num examples = 7624\n",
      "  Batch size = 64\n",
      "C:\\Users\\abc\\AppData\\Local\\Programs\\Python\\Python38\\lib\\site-packages\\sklearn\\metrics\\_classification.py:1308: UndefinedMetricWarning: Precision and F-score are ill-defined and being set to 0.0 in labels with no predicted samples. Use `zero_division` parameter to control this behavior.\n",
      "  _warn_prf(average, modifier, msg_start, len(result))\n",
      "\n",
      "  5%|▌         | 1/20 [00:23<00:40,  2.15s/it]Saving model checkpoint to ./results\\checkpoint-1\n",
      "Configuration saved in ./results\\checkpoint-1\\config.json\n"
     ]
    },
    {
     "output_type": "stream",
     "name": "stdout",
     "text": [
      "{'eval_loss': 2.624227285385132, 'eval_accuracy': 0.07568205666316893, 'eval_f1': 0.03992944643621367, 'eval_precision': 0.05949892829971521, 'eval_recall': 0.07700902060399635, 'eval_top3': 0.21497901364113325, 'eval_top2': 0.14034627492130117, 'eval_runtime': 21.0079, 'eval_samples_per_second': 362.912, 'eval_steps_per_second': 5.712, 'epoch': 1.0}\n"
     ]
    },
    {
     "output_type": "stream",
     "name": "stderr",
     "text": [
      "Model weights saved in ./results\\checkpoint-1\\pytorch_model.bin\n",
      "Deleting older checkpoint [results\\checkpoint-7258] due to args.save_total_limit\n",
      " 10%|█         | 2/20 [00:46<08:01, 26.78s/it]The following columns in the evaluation set  don't have a corresponding argument in `BertForSequenceClassification.forward` and have been ignored: text.\n",
      "***** Running Evaluation *****\n",
      "  Num examples = 7624\n",
      "  Batch size = 64\n",
      "C:\\Users\\abc\\AppData\\Local\\Programs\\Python\\Python38\\lib\\site-packages\\sklearn\\metrics\\_classification.py:1308: UndefinedMetricWarning: Precision and F-score are ill-defined and being set to 0.0 in labels with no predicted samples. Use `zero_division` parameter to control this behavior.\n",
      "  _warn_prf(average, modifier, msg_start, len(result))\n",
      "\n",
      " 10%|█         | 2/20 [01:05<08:01, 26.78s/it]Saving model checkpoint to ./results\\checkpoint-2\n",
      "Configuration saved in ./results\\checkpoint-2\\config.json\n"
     ]
    },
    {
     "output_type": "stream",
     "name": "stdout",
     "text": [
      "{'eval_loss': 2.62414288520813, 'eval_accuracy': 0.07581322140608604, 'eval_f1': 0.039978494851632386, 'eval_precision': 0.05955901404612052, 'eval_recall': 0.07704647378751696, 'eval_top3': 0.21497901364113325, 'eval_top2': 0.14060860440713535, 'eval_runtime': 19.6475, 'eval_samples_per_second': 388.039, 'eval_steps_per_second': 6.108, 'epoch': 2.0}\n"
     ]
    },
    {
     "output_type": "stream",
     "name": "stderr",
     "text": [
      "Model weights saved in ./results\\checkpoint-2\\pytorch_model.bin\n",
      "Deleting older checkpoint [results\\checkpoint-7640] due to args.save_total_limit\n",
      " 15%|█▌        | 3/20 [01:28<09:34, 33.78s/it]The following columns in the evaluation set  don't have a corresponding argument in `BertForSequenceClassification.forward` and have been ignored: text.\n",
      "***** Running Evaluation *****\n",
      "  Num examples = 7624\n",
      "  Batch size = 64\n",
      "C:\\Users\\abc\\AppData\\Local\\Programs\\Python\\Python38\\lib\\site-packages\\sklearn\\metrics\\_classification.py:1308: UndefinedMetricWarning: Precision and F-score are ill-defined and being set to 0.0 in labels with no predicted samples. Use `zero_division` parameter to control this behavior.\n",
      "  _warn_prf(average, modifier, msg_start, len(result))\n",
      "\n",
      " 15%|█▌        | 3/20 [01:48<09:34, 33.78s/it]Saving model checkpoint to ./results\\checkpoint-3\n",
      "Configuration saved in ./results\\checkpoint-3\\config.json\n"
     ]
    },
    {
     "output_type": "stream",
     "name": "stdout",
     "text": [
      "{'eval_loss': 2.623938798904419, 'eval_accuracy': 0.07633788037775446, 'eval_f1': 0.040214954491218834, 'eval_precision': 0.059933722621652384, 'eval_recall': 0.07719628652159936, 'eval_top3': 0.21511017838405036, 'eval_top2': 0.141395592864638, 'eval_runtime': 20.3626, 'eval_samples_per_second': 374.412, 'eval_steps_per_second': 5.893, 'epoch': 3.0}\n"
     ]
    },
    {
     "output_type": "stream",
     "name": "stderr",
     "text": [
      "Model weights saved in ./results\\checkpoint-3\\pytorch_model.bin\n"
     ]
    },
    {
     "output_type": "error",
     "ename": "RuntimeError",
     "evalue": "[enforce fail at ..\\caffe2\\serialize\\inline_container.cc:298] . unexpected pos 215880064 vs 215879952",
     "traceback": [
      "\u001b[1;31m---------------------------------------------------------------------------\u001b[0m",
      "\u001b[1;31mKeyboardInterrupt\u001b[0m                         Traceback (most recent call last)",
      "\u001b[1;32m~\\AppData\\Local\\Programs\\Python\\Python38\\lib\\site-packages\\torch\\serialization.py\u001b[0m in \u001b[0;36msave\u001b[1;34m(obj, f, pickle_module, pickle_protocol, _use_new_zipfile_serialization)\u001b[0m\n\u001b[0;32m    378\u001b[0m             \u001b[1;32mwith\u001b[0m \u001b[0m_open_zipfile_writer\u001b[0m\u001b[1;33m(\u001b[0m\u001b[0mopened_file\u001b[0m\u001b[1;33m)\u001b[0m \u001b[1;32mas\u001b[0m \u001b[0mopened_zipfile\u001b[0m\u001b[1;33m:\u001b[0m\u001b[1;33m\u001b[0m\u001b[1;33m\u001b[0m\u001b[0m\n\u001b[1;32m--> 379\u001b[1;33m                 \u001b[0m_save\u001b[0m\u001b[1;33m(\u001b[0m\u001b[0mobj\u001b[0m\u001b[1;33m,\u001b[0m \u001b[0mopened_zipfile\u001b[0m\u001b[1;33m,\u001b[0m \u001b[0mpickle_module\u001b[0m\u001b[1;33m,\u001b[0m \u001b[0mpickle_protocol\u001b[0m\u001b[1;33m)\u001b[0m\u001b[1;33m\u001b[0m\u001b[1;33m\u001b[0m\u001b[0m\n\u001b[0m\u001b[0;32m    380\u001b[0m                 \u001b[1;32mreturn\u001b[0m\u001b[1;33m\u001b[0m\u001b[1;33m\u001b[0m\u001b[0m\n",
      "\u001b[1;32m~\\AppData\\Local\\Programs\\Python\\Python38\\lib\\site-packages\\torch\\serialization.py\u001b[0m in \u001b[0;36m_save\u001b[1;34m(obj, zip_file, pickle_module, pickle_protocol)\u001b[0m\n\u001b[0;32m    498\u001b[0m         \u001b[0mnum_bytes\u001b[0m \u001b[1;33m=\u001b[0m \u001b[0mstorage\u001b[0m\u001b[1;33m.\u001b[0m\u001b[0msize\u001b[0m\u001b[1;33m(\u001b[0m\u001b[1;33m)\u001b[0m \u001b[1;33m*\u001b[0m \u001b[0mstorage\u001b[0m\u001b[1;33m.\u001b[0m\u001b[0melement_size\u001b[0m\u001b[1;33m(\u001b[0m\u001b[1;33m)\u001b[0m\u001b[1;33m\u001b[0m\u001b[1;33m\u001b[0m\u001b[0m\n\u001b[1;32m--> 499\u001b[1;33m         \u001b[0mzip_file\u001b[0m\u001b[1;33m.\u001b[0m\u001b[0mwrite_record\u001b[0m\u001b[1;33m(\u001b[0m\u001b[0mname\u001b[0m\u001b[1;33m,\u001b[0m \u001b[0mstorage\u001b[0m\u001b[1;33m.\u001b[0m\u001b[0mdata_ptr\u001b[0m\u001b[1;33m(\u001b[0m\u001b[1;33m)\u001b[0m\u001b[1;33m,\u001b[0m \u001b[0mnum_bytes\u001b[0m\u001b[1;33m)\u001b[0m\u001b[1;33m\u001b[0m\u001b[1;33m\u001b[0m\u001b[0m\n\u001b[0m\u001b[0;32m    500\u001b[0m \u001b[1;33m\u001b[0m\u001b[0m\n",
      "\u001b[1;31mKeyboardInterrupt\u001b[0m: ",
      "\nDuring handling of the above exception, another exception occurred:\n",
      "\u001b[1;31mRuntimeError\u001b[0m                              Traceback (most recent call last)",
      "\u001b[1;32m~\\AppData\\Local\\Temp/ipykernel_8516/4032920361.py\u001b[0m in \u001b[0;36m<module>\u001b[1;34m\u001b[0m\n\u001b[1;32m----> 1\u001b[1;33m \u001b[0mtrainer\u001b[0m\u001b[1;33m.\u001b[0m\u001b[0mtrain\u001b[0m\u001b[1;33m(\u001b[0m\u001b[1;33m)\u001b[0m\u001b[1;33m\u001b[0m\u001b[1;33m\u001b[0m\u001b[0m\n\u001b[0m",
      "\u001b[1;32m~\\AppData\\Local\\Programs\\Python\\Python38\\lib\\site-packages\\transformers\\trainer.py\u001b[0m in \u001b[0;36mtrain\u001b[1;34m(self, resume_from_checkpoint, trial, ignore_keys_for_eval, **kwargs)\u001b[0m\n\u001b[0;32m   1381\u001b[0m \u001b[1;33m\u001b[0m\u001b[0m\n\u001b[0;32m   1382\u001b[0m             \u001b[0mself\u001b[0m\u001b[1;33m.\u001b[0m\u001b[0mcontrol\u001b[0m \u001b[1;33m=\u001b[0m \u001b[0mself\u001b[0m\u001b[1;33m.\u001b[0m\u001b[0mcallback_handler\u001b[0m\u001b[1;33m.\u001b[0m\u001b[0mon_epoch_end\u001b[0m\u001b[1;33m(\u001b[0m\u001b[0margs\u001b[0m\u001b[1;33m,\u001b[0m \u001b[0mself\u001b[0m\u001b[1;33m.\u001b[0m\u001b[0mstate\u001b[0m\u001b[1;33m,\u001b[0m \u001b[0mself\u001b[0m\u001b[1;33m.\u001b[0m\u001b[0mcontrol\u001b[0m\u001b[1;33m)\u001b[0m\u001b[1;33m\u001b[0m\u001b[1;33m\u001b[0m\u001b[0m\n\u001b[1;32m-> 1383\u001b[1;33m             \u001b[0mself\u001b[0m\u001b[1;33m.\u001b[0m\u001b[0m_maybe_log_save_evaluate\u001b[0m\u001b[1;33m(\u001b[0m\u001b[0mtr_loss\u001b[0m\u001b[1;33m,\u001b[0m \u001b[0mmodel\u001b[0m\u001b[1;33m,\u001b[0m \u001b[0mtrial\u001b[0m\u001b[1;33m,\u001b[0m \u001b[0mepoch\u001b[0m\u001b[1;33m,\u001b[0m \u001b[0mignore_keys_for_eval\u001b[0m\u001b[1;33m)\u001b[0m\u001b[1;33m\u001b[0m\u001b[1;33m\u001b[0m\u001b[0m\n\u001b[0m\u001b[0;32m   1384\u001b[0m \u001b[1;33m\u001b[0m\u001b[0m\n\u001b[0;32m   1385\u001b[0m             \u001b[1;32mif\u001b[0m \u001b[0mDebugOption\u001b[0m\u001b[1;33m.\u001b[0m\u001b[0mTPU_METRICS_DEBUG\u001b[0m \u001b[1;32min\u001b[0m \u001b[0mself\u001b[0m\u001b[1;33m.\u001b[0m\u001b[0margs\u001b[0m\u001b[1;33m.\u001b[0m\u001b[0mdebug\u001b[0m\u001b[1;33m:\u001b[0m\u001b[1;33m\u001b[0m\u001b[1;33m\u001b[0m\u001b[0m\n",
      "\u001b[1;32m~\\AppData\\Local\\Programs\\Python\\Python38\\lib\\site-packages\\transformers\\trainer.py\u001b[0m in \u001b[0;36m_maybe_log_save_evaluate\u001b[1;34m(self, tr_loss, model, trial, epoch, ignore_keys_for_eval)\u001b[0m\n\u001b[0;32m   1485\u001b[0m \u001b[1;33m\u001b[0m\u001b[0m\n\u001b[0;32m   1486\u001b[0m         \u001b[1;32mif\u001b[0m \u001b[0mself\u001b[0m\u001b[1;33m.\u001b[0m\u001b[0mcontrol\u001b[0m\u001b[1;33m.\u001b[0m\u001b[0mshould_save\u001b[0m\u001b[1;33m:\u001b[0m\u001b[1;33m\u001b[0m\u001b[1;33m\u001b[0m\u001b[0m\n\u001b[1;32m-> 1487\u001b[1;33m             \u001b[0mself\u001b[0m\u001b[1;33m.\u001b[0m\u001b[0m_save_checkpoint\u001b[0m\u001b[1;33m(\u001b[0m\u001b[0mmodel\u001b[0m\u001b[1;33m,\u001b[0m \u001b[0mtrial\u001b[0m\u001b[1;33m,\u001b[0m \u001b[0mmetrics\u001b[0m\u001b[1;33m=\u001b[0m\u001b[0mmetrics\u001b[0m\u001b[1;33m)\u001b[0m\u001b[1;33m\u001b[0m\u001b[1;33m\u001b[0m\u001b[0m\n\u001b[0m\u001b[0;32m   1488\u001b[0m             \u001b[0mself\u001b[0m\u001b[1;33m.\u001b[0m\u001b[0mcontrol\u001b[0m \u001b[1;33m=\u001b[0m \u001b[0mself\u001b[0m\u001b[1;33m.\u001b[0m\u001b[0mcallback_handler\u001b[0m\u001b[1;33m.\u001b[0m\u001b[0mon_save\u001b[0m\u001b[1;33m(\u001b[0m\u001b[0mself\u001b[0m\u001b[1;33m.\u001b[0m\u001b[0margs\u001b[0m\u001b[1;33m,\u001b[0m \u001b[0mself\u001b[0m\u001b[1;33m.\u001b[0m\u001b[0mstate\u001b[0m\u001b[1;33m,\u001b[0m \u001b[0mself\u001b[0m\u001b[1;33m.\u001b[0m\u001b[0mcontrol\u001b[0m\u001b[1;33m)\u001b[0m\u001b[1;33m\u001b[0m\u001b[1;33m\u001b[0m\u001b[0m\n\u001b[0;32m   1489\u001b[0m \u001b[1;33m\u001b[0m\u001b[0m\n",
      "\u001b[1;32m~\\AppData\\Local\\Programs\\Python\\Python38\\lib\\site-packages\\transformers\\trainer.py\u001b[0m in \u001b[0;36m_save_checkpoint\u001b[1;34m(self, model, trial, metrics)\u001b[0m\n\u001b[0;32m   1577\u001b[0m         \u001b[1;32melif\u001b[0m \u001b[0mself\u001b[0m\u001b[1;33m.\u001b[0m\u001b[0margs\u001b[0m\u001b[1;33m.\u001b[0m\u001b[0mshould_save\u001b[0m \u001b[1;32mand\u001b[0m \u001b[1;32mnot\u001b[0m \u001b[0mself\u001b[0m\u001b[1;33m.\u001b[0m\u001b[0mdeepspeed\u001b[0m\u001b[1;33m:\u001b[0m\u001b[1;33m\u001b[0m\u001b[1;33m\u001b[0m\u001b[0m\n\u001b[0;32m   1578\u001b[0m             \u001b[1;31m# deepspeed.save_checkpoint above saves model/optim/sched\u001b[0m\u001b[1;33m\u001b[0m\u001b[1;33m\u001b[0m\u001b[1;33m\u001b[0m\u001b[0m\n\u001b[1;32m-> 1579\u001b[1;33m             \u001b[0mtorch\u001b[0m\u001b[1;33m.\u001b[0m\u001b[0msave\u001b[0m\u001b[1;33m(\u001b[0m\u001b[0mself\u001b[0m\u001b[1;33m.\u001b[0m\u001b[0moptimizer\u001b[0m\u001b[1;33m.\u001b[0m\u001b[0mstate_dict\u001b[0m\u001b[1;33m(\u001b[0m\u001b[1;33m)\u001b[0m\u001b[1;33m,\u001b[0m \u001b[0mos\u001b[0m\u001b[1;33m.\u001b[0m\u001b[0mpath\u001b[0m\u001b[1;33m.\u001b[0m\u001b[0mjoin\u001b[0m\u001b[1;33m(\u001b[0m\u001b[0moutput_dir\u001b[0m\u001b[1;33m,\u001b[0m \u001b[0mOPTIMIZER_NAME\u001b[0m\u001b[1;33m)\u001b[0m\u001b[1;33m)\u001b[0m\u001b[1;33m\u001b[0m\u001b[1;33m\u001b[0m\u001b[0m\n\u001b[0m\u001b[0;32m   1580\u001b[0m             \u001b[1;32mwith\u001b[0m \u001b[0mwarnings\u001b[0m\u001b[1;33m.\u001b[0m\u001b[0mcatch_warnings\u001b[0m\u001b[1;33m(\u001b[0m\u001b[0mrecord\u001b[0m\u001b[1;33m=\u001b[0m\u001b[1;32mTrue\u001b[0m\u001b[1;33m)\u001b[0m \u001b[1;32mas\u001b[0m \u001b[0mcaught_warnings\u001b[0m\u001b[1;33m:\u001b[0m\u001b[1;33m\u001b[0m\u001b[1;33m\u001b[0m\u001b[0m\n\u001b[0;32m   1581\u001b[0m                 \u001b[0mtorch\u001b[0m\u001b[1;33m.\u001b[0m\u001b[0msave\u001b[0m\u001b[1;33m(\u001b[0m\u001b[0mself\u001b[0m\u001b[1;33m.\u001b[0m\u001b[0mlr_scheduler\u001b[0m\u001b[1;33m.\u001b[0m\u001b[0mstate_dict\u001b[0m\u001b[1;33m(\u001b[0m\u001b[1;33m)\u001b[0m\u001b[1;33m,\u001b[0m \u001b[0mos\u001b[0m\u001b[1;33m.\u001b[0m\u001b[0mpath\u001b[0m\u001b[1;33m.\u001b[0m\u001b[0mjoin\u001b[0m\u001b[1;33m(\u001b[0m\u001b[0moutput_dir\u001b[0m\u001b[1;33m,\u001b[0m \u001b[0mSCHEDULER_NAME\u001b[0m\u001b[1;33m)\u001b[0m\u001b[1;33m)\u001b[0m\u001b[1;33m\u001b[0m\u001b[1;33m\u001b[0m\u001b[0m\n",
      "\u001b[1;32m~\\AppData\\Local\\Programs\\Python\\Python38\\lib\\site-packages\\torch\\serialization.py\u001b[0m in \u001b[0;36msave\u001b[1;34m(obj, f, pickle_module, pickle_protocol, _use_new_zipfile_serialization)\u001b[0m\n\u001b[0;32m    378\u001b[0m             \u001b[1;32mwith\u001b[0m \u001b[0m_open_zipfile_writer\u001b[0m\u001b[1;33m(\u001b[0m\u001b[0mopened_file\u001b[0m\u001b[1;33m)\u001b[0m \u001b[1;32mas\u001b[0m \u001b[0mopened_zipfile\u001b[0m\u001b[1;33m:\u001b[0m\u001b[1;33m\u001b[0m\u001b[1;33m\u001b[0m\u001b[0m\n\u001b[0;32m    379\u001b[0m                 \u001b[0m_save\u001b[0m\u001b[1;33m(\u001b[0m\u001b[0mobj\u001b[0m\u001b[1;33m,\u001b[0m \u001b[0mopened_zipfile\u001b[0m\u001b[1;33m,\u001b[0m \u001b[0mpickle_module\u001b[0m\u001b[1;33m,\u001b[0m \u001b[0mpickle_protocol\u001b[0m\u001b[1;33m)\u001b[0m\u001b[1;33m\u001b[0m\u001b[1;33m\u001b[0m\u001b[0m\n\u001b[1;32m--> 380\u001b[1;33m                 \u001b[1;32mreturn\u001b[0m\u001b[1;33m\u001b[0m\u001b[1;33m\u001b[0m\u001b[0m\n\u001b[0m\u001b[0;32m    381\u001b[0m         \u001b[0m_legacy_save\u001b[0m\u001b[1;33m(\u001b[0m\u001b[0mobj\u001b[0m\u001b[1;33m,\u001b[0m \u001b[0mopened_file\u001b[0m\u001b[1;33m,\u001b[0m \u001b[0mpickle_module\u001b[0m\u001b[1;33m,\u001b[0m \u001b[0mpickle_protocol\u001b[0m\u001b[1;33m)\u001b[0m\u001b[1;33m\u001b[0m\u001b[1;33m\u001b[0m\u001b[0m\n\u001b[0;32m    382\u001b[0m \u001b[1;33m\u001b[0m\u001b[0m\n",
      "\u001b[1;32m~\\AppData\\Local\\Programs\\Python\\Python38\\lib\\site-packages\\torch\\serialization.py\u001b[0m in \u001b[0;36m__exit__\u001b[1;34m(self, *args)\u001b[0m\n\u001b[0;32m    257\u001b[0m \u001b[1;33m\u001b[0m\u001b[0m\n\u001b[0;32m    258\u001b[0m     \u001b[1;32mdef\u001b[0m \u001b[0m__exit__\u001b[0m\u001b[1;33m(\u001b[0m\u001b[0mself\u001b[0m\u001b[1;33m,\u001b[0m \u001b[1;33m*\u001b[0m\u001b[0margs\u001b[0m\u001b[1;33m)\u001b[0m \u001b[1;33m->\u001b[0m \u001b[1;32mNone\u001b[0m\u001b[1;33m:\u001b[0m\u001b[1;33m\u001b[0m\u001b[1;33m\u001b[0m\u001b[0m\n\u001b[1;32m--> 259\u001b[1;33m         \u001b[0mself\u001b[0m\u001b[1;33m.\u001b[0m\u001b[0mfile_like\u001b[0m\u001b[1;33m.\u001b[0m\u001b[0mwrite_end_of_file\u001b[0m\u001b[1;33m(\u001b[0m\u001b[1;33m)\u001b[0m\u001b[1;33m\u001b[0m\u001b[1;33m\u001b[0m\u001b[0m\n\u001b[0m\u001b[0;32m    260\u001b[0m         \u001b[0mself\u001b[0m\u001b[1;33m.\u001b[0m\u001b[0mbuffer\u001b[0m\u001b[1;33m.\u001b[0m\u001b[0mflush\u001b[0m\u001b[1;33m(\u001b[0m\u001b[1;33m)\u001b[0m\u001b[1;33m\u001b[0m\u001b[1;33m\u001b[0m\u001b[0m\n\u001b[0;32m    261\u001b[0m \u001b[1;33m\u001b[0m\u001b[0m\n",
      "\u001b[1;31mRuntimeError\u001b[0m: [enforce fail at ..\\caffe2\\serialize\\inline_container.cc:298] . unexpected pos 215880064 vs 215879952"
     ]
    }
   ],
   "metadata": {}
  },
  {
   "cell_type": "code",
   "execution_count": null,
   "source": [
    "trainer.evaluate()\r\n",
    "# \"raw\"\r\n",
    "# {'eval_loss': 0.003656767075881362,\r\n",
    "#  'eval_accuracy': 0.9995957145744896,\r\n",
    "#  'eval_f1': 0.9996459266546559,\r\n",
    "#  'eval_precision': 0.9997773468361704,\r\n",
    "#  'eval_recall': 0.999515747499324,\r\n",
    "#  'eval_top3': 0.9997978572872448,\r\n",
    "#  'eval_top2': 0.9997978572872448,\r\n",
    "#  'eval_runtime': 7.5519,\r\n",
    "#  'eval_samples_per_second': 655.065,\r\n",
    "#  'epoch': 2.02}\r\n",
    "\r\n",
    "# \"enhancement\"\r\n",
    "# {'eval_loss': 1.0243563652038574,\r\n",
    "#  'eval_accuracy': 0.5766404864454016,\r\n",
    "#  'eval_f1': 0.5316538589564456,\r\n",
    "#  'eval_precision': 0.546277783485254,\r\n",
    "#  'eval_recall': 0.5233829825328863,\r\n",
    "#  'eval_top3': 0.8826957182670383,\r\n",
    "#  'eval_top2': 0.7907271345325564,\r\n",
    "#  'eval_runtime': 9.3876,\r\n",
    "#  'eval_samples_per_second': 420.447,\r\n",
    "#  'epoch': 20.0}"
   ],
   "outputs": [
    {
     "output_type": "stream",
     "name": "stderr",
     "text": [
      "The following columns in the evaluation set  don't have a corresponding argument in `BertForSequenceClassification.forward` and have been ignored: text.\n",
      "***** Running Evaluation *****\n",
      "  Num examples = 1526\n",
      "  Batch size = 64\n",
      "100%|██████████| 24/24 [00:03<00:00,  6.37it/s]\n"
     ]
    },
    {
     "output_type": "execute_result",
     "data": {
      "text/plain": [
       "{'eval_loss': 1.3667666912078857,\n",
       " 'eval_accuracy': 0.8289646133682831,\n",
       " 'eval_f1': 0.7600767747856746,\n",
       " 'eval_precision': 0.7783009182422279,\n",
       " 'eval_recall': 0.74921395397379,\n",
       " 'eval_top3': 0.936435124508519,\n",
       " 'eval_top2': 0.9121887287024901,\n",
       " 'eval_runtime': 3.9514,\n",
       " 'eval_samples_per_second': 386.188,\n",
       " 'eval_steps_per_second': 6.074,\n",
       " 'epoch': 20.0}"
      ]
     },
     "metadata": {},
     "execution_count": 20
    }
   ],
   "metadata": {}
  },
  {
   "cell_type": "code",
   "execution_count": null,
   "source": [
    "\r\n",
    "predict_dataset = Dataset.from_dict({\"text\":[\"In contrast to the radical forces buffeting valuations, for most companies, 2020 was a year of “strategy lockdown.\",\r\n",
    "\"Domestic policies thus tended to reinforce negative spillovers and exacerbate systemic risk across the euro area.\",\r\n",
    "\"Mortgage interest rate in selected European countries as of 4th quarter of 2019 and 2020 increased\",\r\n",
    "\"Accordingly, I shall spend most of my allotted time outlining the chosen monetary policy instruments and procedures of the ESCB and the considerations that have been raised relating to strategy.\",\r\n",
    "\"Credit card interest rate has gone up a lot.\"]})\r\n",
    "\r\n",
    "def tokenize(batch):\r\n",
    "    return tokenizer(batch['text'], padding=True, truncation=True)\r\n",
    "predict_dataset = predict_dataset.map(tokenize, batched=True, batch_size=len(train_dataset))\r\n",
    "\r\n",
    "trainer.predict(predict_dataset)"
   ],
   "outputs": [
    {
     "output_type": "stream",
     "name": "stderr",
     "text": [
      "100%|██████████| 1/1 [00:00<00:00, 167.14ba/s]\n",
      "The following columns in the test set  don't have a corresponding argument in `BertForSequenceClassification.forward` and have been ignored: text.\n",
      "***** Running Prediction *****\n",
      "  Num examples = 5\n",
      "  Batch size = 64\n",
      "  0%|          | 0/1 [00:00<?, ?it/s]"
     ]
    },
    {
     "output_type": "execute_result",
     "data": {
      "text/plain": [
       "PredictionOutput(predictions=array([[-0.54258686, -2.283698  , -1.2337625 ,  0.6101017 ,  8.834227  ,\n",
       "        -0.60477626, -0.1470656 , -0.25806686, -1.9158627 , -0.45982993,\n",
       "        -0.08515993, -1.3472333 ],\n",
       "       [ 9.702999  , -0.29276183, -1.5581697 , -1.5263258 , -1.2451688 ,\n",
       "        -0.5294447 ,  2.195682  , -1.8384721 , -1.5489938 , -3.0295794 ,\n",
       "        -1.7577528 , -1.730811  ],\n",
       "       [ 1.4455788 , -1.5327429 ,  2.143541  ,  7.9250283 , -1.1390123 ,\n",
       "        -3.0250149 , -0.9481666 , -2.0208018 ,  0.02337106, -0.8389467 ,\n",
       "        -0.08845273, -0.9033677 ],\n",
       "       [-1.1007565 , -1.3134553 , -1.9952139 , -0.77075744, -1.4220358 ,\n",
       "         0.21309426, 10.992527  , -0.8264481 , -0.6472416 , -2.5305545 ,\n",
       "        -1.0293103 , -1.4311087 ],\n",
       "       [ 2.7709064 ,  7.787258  ,  2.5337188 , -1.0464295 , -2.2166548 ,\n",
       "        -1.2778659 , -2.6960404 , -2.199739  , -1.8598685 , -1.4836167 ,\n",
       "        -1.3202602 , -1.9072998 ]], dtype=float32), label_ids=None, metrics={'test_runtime': 0.0389, 'test_samples_per_second': 128.537, 'test_steps_per_second': 25.707})"
      ]
     },
     "metadata": {},
     "execution_count": 21
    }
   ],
   "metadata": {}
  },
  {
   "cell_type": "code",
   "execution_count": null,
   "source": [
    "classes = [\"banking\",\"valuation\",\"household\",\"real estate\",\"corporate\",\"external\",\"sovereign\",\"technology\", \"climate\", \"energy\", \"health\", \"eu\"]\r\n"
   ],
   "outputs": [],
   "metadata": {}
  }
 ],
 "metadata": {
  "orig_nbformat": 4,
  "language_info": {
   "name": "python",
   "version": "3.8.5",
   "mimetype": "text/x-python",
   "codemirror_mode": {
    "name": "ipython",
    "version": 3
   },
   "pygments_lexer": "ipython3",
   "nbconvert_exporter": "python",
   "file_extension": ".py"
  },
  "kernelspec": {
   "name": "python3",
   "display_name": "Python 3.8.5 64-bit"
  },
  "interpreter": {
   "hash": "8e81d6174cb081d483213be829e7831163670ee6c9fd24781192b6d714da88ab"
  }
 },
 "nbformat": 4,
 "nbformat_minor": 2
}
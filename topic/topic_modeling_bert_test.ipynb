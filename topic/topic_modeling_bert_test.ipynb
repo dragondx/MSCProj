{
 "metadata": {
  "language_info": {
   "codemirror_mode": {
    "name": "ipython",
    "version": 3
   },
   "file_extension": ".py",
   "mimetype": "text/x-python",
   "name": "python",
   "nbconvert_exporter": "python",
   "pygments_lexer": "ipython3",
   "version": "3.8.0"
  },
  "orig_nbformat": 4,
  "kernelspec": {
   "name": "python3",
   "display_name": "Python 3.8.0 64-bit"
  },
  "interpreter": {
   "hash": "1b174d106187cf4c36b481e4f9775d9b6103c84ebc5bd0573d3cc5e86d067305"
  }
 },
 "nbformat": 4,
 "nbformat_minor": 2,
 "cells": [
  {
   "cell_type": "code",
   "execution_count": 10,
   "metadata": {},
   "outputs": [
    {
     "output_type": "execute_result",
     "data": {
      "text/plain": [
       "         date           speakers  \\\n",
       "0  2021-05-27    Isabel Schnabel   \n",
       "1  2021-05-27    Luis de Guindos   \n",
       "2  2021-05-25     Philip R. Lane   \n",
       "3  2021-05-19      Fabio Panetta   \n",
       "4  2021-05-06  Christine Lagarde   \n",
       "\n",
       "                                               title  \\\n",
       "0  Societal responsibility and central bank indep...   \n",
       "1           Climate change and financial integration   \n",
       "2                            The ECB strategy review   \n",
       "3  At the edge of tomorrow: preparing the future ...   \n",
       "4   Towards a green capital markets union for Europe   \n",
       "\n",
       "                                            subtitle  \\\n",
       "0  Keynote speech by Isabel Schnabel, Member of t...   \n",
       "1  Keynote speech by Luis de Guindos, Vice-Presid...   \n",
       "2  Presentation by Philip R. Lane, Member of the ...   \n",
       "3  Introductory remarks by Fabio Panetta, Member ...   \n",
       "4  Speech by Christine Lagarde, President of the ...   \n",
       "\n",
       "                                            contents  \n",
       "0     SPEECH  Societal responsibility and central...  \n",
       "1     SPEECH  Climate change and financial integr...  \n",
       "2                                                NaN  \n",
       "3     SPEECH  At the edge of tomorrow: preparing ...  \n",
       "4     SPEECH  Towards a green capital markets uni...  "
      ],
      "text/html": "<div>\n<style scoped>\n    .dataframe tbody tr th:only-of-type {\n        vertical-align: middle;\n    }\n\n    .dataframe tbody tr th {\n        vertical-align: top;\n    }\n\n    .dataframe thead th {\n        text-align: right;\n    }\n</style>\n<table border=\"1\" class=\"dataframe\">\n  <thead>\n    <tr style=\"text-align: right;\">\n      <th></th>\n      <th>date</th>\n      <th>speakers</th>\n      <th>title</th>\n      <th>subtitle</th>\n      <th>contents</th>\n    </tr>\n  </thead>\n  <tbody>\n    <tr>\n      <th>0</th>\n      <td>2021-05-27</td>\n      <td>Isabel Schnabel</td>\n      <td>Societal responsibility and central bank indep...</td>\n      <td>Keynote speech by Isabel Schnabel, Member of t...</td>\n      <td>SPEECH  Societal responsibility and central...</td>\n    </tr>\n    <tr>\n      <th>1</th>\n      <td>2021-05-27</td>\n      <td>Luis de Guindos</td>\n      <td>Climate change and financial integration</td>\n      <td>Keynote speech by Luis de Guindos, Vice-Presid...</td>\n      <td>SPEECH  Climate change and financial integr...</td>\n    </tr>\n    <tr>\n      <th>2</th>\n      <td>2021-05-25</td>\n      <td>Philip R. Lane</td>\n      <td>The ECB strategy review</td>\n      <td>Presentation by Philip R. Lane, Member of the ...</td>\n      <td>NaN</td>\n    </tr>\n    <tr>\n      <th>3</th>\n      <td>2021-05-19</td>\n      <td>Fabio Panetta</td>\n      <td>At the edge of tomorrow: preparing the future ...</td>\n      <td>Introductory remarks by Fabio Panetta, Member ...</td>\n      <td>SPEECH  At the edge of tomorrow: preparing ...</td>\n    </tr>\n    <tr>\n      <th>4</th>\n      <td>2021-05-06</td>\n      <td>Christine Lagarde</td>\n      <td>Towards a green capital markets union for Europe</td>\n      <td>Speech by Christine Lagarde, President of the ...</td>\n      <td>SPEECH  Towards a green capital markets uni...</td>\n    </tr>\n  </tbody>\n</table>\n</div>"
     },
     "metadata": {},
     "execution_count": 10
    }
   ],
   "source": [
    "import pandas as pd\n",
    "import os\n",
    "\n",
    "speeches = pd.read_csv('./all_ECB_speeches.csv', delimiter='|', error_bad_lines=False)\n",
    "speeches.head()"
   ]
  },
  {
   "cell_type": "code",
   "execution_count": 11,
   "metadata": {},
   "outputs": [
    {
     "output_type": "execute_result",
     "data": {
      "text/plain": [
       "date                                               2021-05-27\n",
       "speakers                                      Isabel Schnabel\n",
       "title       Societal responsibility and central bank indep...\n",
       "subtitle    Keynote speech by Isabel Schnabel, Member of t...\n",
       "contents       SPEECH  Societal responsibility and central...\n",
       "Name: 0, dtype: object"
      ]
     },
     "metadata": {},
     "execution_count": 11
    }
   ],
   "source": [
    "speeches.iloc[0]"
   ]
  },
  {
   "cell_type": "code",
   "execution_count": 12,
   "metadata": {},
   "outputs": [
    {
     "output_type": "execute_result",
     "data": {
      "text/plain": [
       "Index(['date', 'speakers', 'title', 'subtitle', 'contents'], dtype='object')"
      ]
     },
     "metadata": {},
     "execution_count": 12
    }
   ],
   "source": [
    "speeches.columns"
   ]
  },
  {
   "cell_type": "code",
   "execution_count": 13,
   "metadata": {},
   "outputs": [
    {
     "output_type": "execute_result",
     "data": {
      "text/plain": [
       "                                            contents\n",
       "0     SPEECH  Societal responsibility and central...\n",
       "1     SPEECH  Climate change and financial integr...\n",
       "3     SPEECH  At the edge of tomorrow: preparing ...\n",
       "4     SPEECH  Towards a green capital markets uni...\n",
       "6     SPEECH  All the way to zero: guiding banks ..."
      ],
      "text/html": "<div>\n<style scoped>\n    .dataframe tbody tr th:only-of-type {\n        vertical-align: middle;\n    }\n\n    .dataframe tbody tr th {\n        vertical-align: top;\n    }\n\n    .dataframe thead th {\n        text-align: right;\n    }\n</style>\n<table border=\"1\" class=\"dataframe\">\n  <thead>\n    <tr style=\"text-align: right;\">\n      <th></th>\n      <th>contents</th>\n    </tr>\n  </thead>\n  <tbody>\n    <tr>\n      <th>0</th>\n      <td>SPEECH  Societal responsibility and central...</td>\n    </tr>\n    <tr>\n      <th>1</th>\n      <td>SPEECH  Climate change and financial integr...</td>\n    </tr>\n    <tr>\n      <th>3</th>\n      <td>SPEECH  At the edge of tomorrow: preparing ...</td>\n    </tr>\n    <tr>\n      <th>4</th>\n      <td>SPEECH  Towards a green capital markets uni...</td>\n    </tr>\n    <tr>\n      <th>6</th>\n      <td>SPEECH  All the way to zero: guiding banks ...</td>\n    </tr>\n  </tbody>\n</table>\n</div>"
     },
     "metadata": {},
     "execution_count": 13
    }
   ],
   "source": [
    "# clean the columns (date, title, subtitle, speaker)\n",
    "sample_size = 10\n",
    "\n",
    "#speeches = speeches.drop(columns=['date', 'speakers', 'title', 'subtitle'], axis=1).sample(sample_size)\n",
    "\n",
    "speeches = speeches.drop(columns=['date', 'speakers', 'title', 'subtitle'], axis=1).dropna().iloc[0:1500]\n",
    "speeches.head()"
   ]
  },
  {
   "cell_type": "code",
   "execution_count": 14,
   "metadata": {},
   "outputs": [],
   "source": [
    "#preprocessing\n",
    "\n",
    "import re\n",
    "\n",
    "# Remove punctuation\n",
    "# speeches['contents'] = speeches['contents'].replace('[,\\.!?]', '', regex=True)\n",
    "speeches['contents'] = speeches['contents'].replace('SPEECH', '', regex=True)\n",
    "speeches['contents'] = speeches['contents'].replace('\\((.*?)\\)', '', regex=True)\n",
    "speeches['contents'] = speeches['contents'].replace('\\[(.*?)\\]', '', regex=True)\n",
    "speeches['contents'] = speeches['contents'].replace('Note.*?\\.', '', regex=True)\n",
    "speeches['contents'] = speeches['contents'].replace('Chart .*?\\..*?\\.', '', regex=True)\n",
    "\n",
    "\n",
    "speeches['contents'] = speeches['contents'].replace('[^\\x00-\\x7F]+',' ', regex=True)\n",
    "\n"
   ]
  },
  {
   "cell_type": "code",
   "execution_count": 15,
   "metadata": {
    "tags": []
   },
   "outputs": [],
   "source": [
    "data = list(speeches['contents'])\n",
    "data = [str(docs) for docs in data]"
   ]
  },
  {
   "cell_type": "code",
   "execution_count": 16,
   "metadata": {},
   "outputs": [
    {
     "output_type": "execute_result",
     "data": {
      "text/plain": [
       "0            Societal responsibility and central bank ...\n",
       "1            Climate change and financial integration ...\n",
       "3            At the edge of tomorrow: preparing the fu...\n",
       "4            Towards a green capital markets union for...\n",
       "6            All the way to zero: guiding banks toward...\n",
       "                              ...                        \n",
       "1522      Introductory statement at the press conferen...\n",
       "1523      Address at Conferencia Buenos Aires 2008, or...\n",
       "1524      Financial systems, new technologies and prod...\n",
       "1525      The current state of the euro area and its f...\n",
       "1526      Pol tica monetaria y gesti n de liquidez en ...\n",
       "Name: contents, Length: 1500, dtype: object"
      ]
     },
     "metadata": {},
     "execution_count": 16
    }
   ],
   "source": [
    "speeches['contents']"
   ]
  },
  {
   "cell_type": "code",
   "execution_count": 17,
   "metadata": {},
   "outputs": [
    {
     "output_type": "execute_result",
     "data": {
      "text/plain": [
       "\"     Societal responsibility and central bank independence   Keynote speech by Isabel Schnabel, Member of the Executive Board of the ECB, at the  VIII. New Paradigm Workshop , organised by the Forum New Economy Frankfurt am Main, 27 May 2021 Central banking in times of shifting societal concerns The best contribution that central banks can make to economic prosperity is to maintain stable prices: this was the broad consensus among academic scholars and policymakers emerging in the late 1970s when inflation in many advanced economies had surged to double-digit levels, thereby eroding purchasing power and hitting the poorest in society the hardest .    This underpins the large degree of political independence that most central banks enjoy, including the ECB, which consistently ranks as one of the most independent central banks in the world .     Index values in Bodea and Hicks  refer to 2014 ; index values in Garriga  refer to 2012. The values correspond to the unweighted indices of central bank independence. Values closer to 1 indicate higher levels of independence. France, Germany and Italy are excluded from the sample given that the ECB is included.    Yet, many years of low and stable inflation have led to memories fading, particularly among young people, of just how bad a general and persistent rise in the price level can be for society at large. Many young people have never experienced inflation. At the same time, it remains a mystery to many why too low inflation may be as much a concern to society as a period of too high inflation.  Younger generations typically have different concerns and anxieties than price stability: surveys show that they care about climate change and that they fear job uncertainty, having lived through years of crises and now facing the upheaval of the fourth industrial revolution.  These shifts in concerns and preferences have also affected the expectations that many people hold with respect to central banks. In February 2020, the ECB launched its  ECB Listens Portal  to gather feedback from the general public as part of its ongoing monetary policy strategy review.  The  results of this listening exercise indicate that many survey respondents assign high importance to the ECB considering issues that go well beyond a narrow interpretation of its traditional price stability mandate. While about a quarter of respondents indicated that the ECB should focus exclusively on price stability and leave other topics to democratically elected bodies, a significant number of respondents expressed the view that the ECB ought to play a more active role in tackling wider societal challenges, with the top priority given to climate change as well as growth and employment .   Categories are not mutually exclusive. Civil society organisations  drew attention to the ECB s strategy review. Some of these organisations, most notably Greenpeace, called on the public to submit contributions to the ECB Listens Portal, offering standard answers that could be copied into the survey. Overall, around 14% of all responses were copy-paste answers provided by Greenpeace. Another 1% came from other CSOs. As such, original answers amounted to 85% of the sample.    For most people, inflation today is mainly a concern related to asset prices rather than the prices of consumption goods . Our survey suggests that many respondents, especially the younger generations, are particularly concerned about house prices, which are currently not part of the consumption basket that most central banks use to calibrate their policies.   Results calculated by using a dictionary-based approach. Categories are not mutually exclusive. Civil society organisations  drew attention to the ECB s strategy review. Some of these organisations, most notably Greenpeace, called on the public to submit contributions to the ECB Listens Portal, offering standard answers that could be copied into the survey. Overall, around 14% of all responses were copy-paste answers provided by Greenpeace. Another 1% came from other CSOs. As such, original answers amounted to 85% of the sample.    Such shifts in preferences and concerns have not been uncommon in history. Central banks  mandates, roles and responsibilities have been shaped by history and have changed over time with the preferences of society and their elected representatives, but such changes were always hotly debated. Granting central banks the power as a lender of last resort, for example, was both controversial and politically contested in the 19th century in the United Kingdom. In the United States, the Federal Reserve was not allowed to lend freely for a long time after it was founded in 1913 even though the United States was one of the most banking crisis-prone economies in the world. In the 1960s and 1970s, the trade-off between inflation and unemployment dominated public discourse. Many central banks pursued so-called  go-stop  policies: policymakers would only stop stimulating the economy once public concern about inflation started to mount. They would stop raising interest rates when unemployment reached levels unacceptable to political leaders and the broader public. When Paul Volcker took up the fight against inflation in 1979, he led the US economy into a sharp recession by raising interest rates to more than 20%. A  Wanted  poster featured him and six of his colleagues at the Federal Reserve Board. A magazine accused him of  premeditated and cold-blooded murder of millions of small businesses .  Volcker ultimately succeeded in bringing down inflation and in paving the way for a sustained period of economic prosperity. He proved that a determined and independent central bank can bring long-lasting gains to society by taking the heat and thereby gaining the trust and confidence of the public. Facing the challenges of today Central banks today need to exhibit the same degree of persistence, courage and commitment. As much as Volcker repeatedly and tirelessly warned of the risks of too high inflation, central banks today need to explain, over and over again, why long periods of too low inflation are just as much a problem to society. If a large share of society tends to underestimate the perils of low inflation, then there is the risk of a gradual loss of support, trust and confidence in the actions of central banks.  This risk is particularly acute if the actions are as far-reaching and complex as they have been over the past decade. Since the global financial crisis of 2008, a combination of adverse structural and cyclical factors jointly contributed to the rapid erosion of central banks  conventional policy space .   In the euro area, there is broad agreement among experts that asset purchases, targeted longer-term refinancing operations, forward guidance and negative rates were necessary to shelter the economy from the otherwise devastating consequences that years of subdued demand would have meant for employment, wages and prices. But these measures, and their broader transmission channels, are hard to understand even for experts. They remain inaccessible for a large part of society, in spite of all the efforts of central banks to communicate on their policies. As Andy Haldane put it:   around 95% of all the words central banks utter are inaccessible to around 95% of the population.   The sheer numbers involved in today s central bank operations intimidate many people, and feed perceptions that central banks have become more powerful than ever, and potentially too powerful. The size of the ECB s balance sheet, for example, has expanded rapidly in recent years .      And if people do not understand what we do, they may not trust us that we are doing the right thing. Data from the ECB s Consumer Expectations Survey corroborate this view. They confirm that a better understanding of the ECB s tasks is positively correlated with trust in the institution .   With respect to ECB knowledge, respondents were asked to assess the correctness of seven statements about the objectives and responsibilities of the ECB. ECB knowledge is computed as the total number of correct responses out of seven statements. Negative values and values above 7 are due to the netting out of country-specific effects. Self-reported trust in the ECB is measured over an 11-point scale from 0  to 10 .    However, according to the Eurobarometer, public trust in the ECB declined notably as of 2008, although trust in the euro remained broadly stable even at the time of the euro area sovereign debt crisis . Only recently trust has started to recover from very low levels.    Respondents who answered  don't know  are excluded in both cases. Latest observation: Winter 2020/2021.    Heated public debates about the broader distributional and societal consequences of unconventional policy measures are testimony to the looming distrust facing central banks today.  For example, since financial wealth is distributed unevenly in society, some argue that measures that are focused on boosting asset prices disproportionally favour the rich. Similarly, purchases of corporate bonds have ignited a discussion whether central banks should continue to purchase bonds issued by firms with a large carbon footprint. Independent central banks cannot simply turn a deaf ear to the concerns of the public. Public trust is essential for the successful conduct and implementation of monetary policy.  More so, independence requires a central bank to respond to the concerns of the public and to carefully evaluate whether and how it may be able, within its mandate, to respond to these concerns.  A failure to do so would risk nurturing what Yascha Mounk once labelled  undemocratic liberalism    a system in which citizens feel that their political preferences are routinely ignored by unelected authorities.  In a democracy, people have the power to express their discontent with the government at the ballot box. But they cannot elect a new central bank leadership.\""
      ]
     },
     "metadata": {},
     "execution_count": 17
    }
   ],
   "source": [
    "data[0][:10000]"
   ]
  },
  {
   "cell_type": "code",
   "execution_count": 18,
   "metadata": {
    "tags": []
   },
   "outputs": [
    {
     "output_type": "stream",
     "name": "stderr",
     "text": [
      "100%|██████████| 459M/459M [01:12<00:00, 6.29MB/s]\n",
      "You try to use a model that was created with version 1.1.0, however, your version is 0.4.1. This might cause unexpected behavior or errors. In that case, try to update to the latest version.\n",
      "\n",
      "\n",
      "\n"
     ]
    }
   ],
   "source": [
    "from bertopic import BERTopic\n",
    "topic_model = BERTopic(embedding_model=\"nli-roberta-base-v2\",min_topic_size=10, nr_topics=\"auto\")\n",
    "topics, _ = topic_model.fit_transform(data)\n"
   ]
  },
  {
   "cell_type": "code",
   "execution_count": 19,
   "metadata": {},
   "outputs": [
    {
     "output_type": "execute_result",
     "data": {
      "text/plain": [
       "    Topic  Count                                       Name\n",
       "0      -1    529                    -1_to_of_financial_have\n",
       "1       0    354            0_policy_and_monetary_financial\n",
       "2       1     99                           1_to_we_our_have\n",
       "3       2     75                2_inflation_euro_and_policy\n",
       "4       3     64                    3_banks_are_for_banking\n",
       "5       4     63            4_european_union_financial_euro\n",
       "6       5     52                 5_financial_as_have_crisis\n",
       "7       6     49                       6_auf_das_eine_nicht\n",
       "8       7     40          7_payments_payment_retail_digital\n",
       "9       8     26                     8_euro_banknotes_is_it\n",
       "10      9     25               9_financial_banks_banking_be\n",
       "11     10     24                     10_that_of_it_research\n",
       "12     11     19               11_euro_ecb_digital_economic\n",
       "13     12     18                         12_los_para_se_por\n",
       "14     13     17  13_presentation_content_related_executive\n",
       "15     14     13               14_financial_policy_rate_ecb\n",
       "16     15     12                    15_we_as_have_financial\n",
       "17     16     11         16_cyber_infrastructures_fmis_ecrb\n",
       "18     17     10                     17_euro_growth_and_for"
      ],
      "text/html": "<div>\n<style scoped>\n    .dataframe tbody tr th:only-of-type {\n        vertical-align: middle;\n    }\n\n    .dataframe tbody tr th {\n        vertical-align: top;\n    }\n\n    .dataframe thead th {\n        text-align: right;\n    }\n</style>\n<table border=\"1\" class=\"dataframe\">\n  <thead>\n    <tr style=\"text-align: right;\">\n      <th></th>\n      <th>Topic</th>\n      <th>Count</th>\n      <th>Name</th>\n    </tr>\n  </thead>\n  <tbody>\n    <tr>\n      <th>0</th>\n      <td>-1</td>\n      <td>529</td>\n      <td>-1_to_of_financial_have</td>\n    </tr>\n    <tr>\n      <th>1</th>\n      <td>0</td>\n      <td>354</td>\n      <td>0_policy_and_monetary_financial</td>\n    </tr>\n    <tr>\n      <th>2</th>\n      <td>1</td>\n      <td>99</td>\n      <td>1_to_we_our_have</td>\n    </tr>\n    <tr>\n      <th>3</th>\n      <td>2</td>\n      <td>75</td>\n      <td>2_inflation_euro_and_policy</td>\n    </tr>\n    <tr>\n      <th>4</th>\n      <td>3</td>\n      <td>64</td>\n      <td>3_banks_are_for_banking</td>\n    </tr>\n    <tr>\n      <th>5</th>\n      <td>4</td>\n      <td>63</td>\n      <td>4_european_union_financial_euro</td>\n    </tr>\n    <tr>\n      <th>6</th>\n      <td>5</td>\n      <td>52</td>\n      <td>5_financial_as_have_crisis</td>\n    </tr>\n    <tr>\n      <th>7</th>\n      <td>6</td>\n      <td>49</td>\n      <td>6_auf_das_eine_nicht</td>\n    </tr>\n    <tr>\n      <th>8</th>\n      <td>7</td>\n      <td>40</td>\n      <td>7_payments_payment_retail_digital</td>\n    </tr>\n    <tr>\n      <th>9</th>\n      <td>8</td>\n      <td>26</td>\n      <td>8_euro_banknotes_is_it</td>\n    </tr>\n    <tr>\n      <th>10</th>\n      <td>9</td>\n      <td>25</td>\n      <td>9_financial_banks_banking_be</td>\n    </tr>\n    <tr>\n      <th>11</th>\n      <td>10</td>\n      <td>24</td>\n      <td>10_that_of_it_research</td>\n    </tr>\n    <tr>\n      <th>12</th>\n      <td>11</td>\n      <td>19</td>\n      <td>11_euro_ecb_digital_economic</td>\n    </tr>\n    <tr>\n      <th>13</th>\n      <td>12</td>\n      <td>18</td>\n      <td>12_los_para_se_por</td>\n    </tr>\n    <tr>\n      <th>14</th>\n      <td>13</td>\n      <td>17</td>\n      <td>13_presentation_content_related_executive</td>\n    </tr>\n    <tr>\n      <th>15</th>\n      <td>14</td>\n      <td>13</td>\n      <td>14_financial_policy_rate_ecb</td>\n    </tr>\n    <tr>\n      <th>16</th>\n      <td>15</td>\n      <td>12</td>\n      <td>15_we_as_have_financial</td>\n    </tr>\n    <tr>\n      <th>17</th>\n      <td>16</td>\n      <td>11</td>\n      <td>16_cyber_infrastructures_fmis_ecrb</td>\n    </tr>\n    <tr>\n      <th>18</th>\n      <td>17</td>\n      <td>10</td>\n      <td>17_euro_growth_and_for</td>\n    </tr>\n  </tbody>\n</table>\n</div>"
     },
     "metadata": {},
     "execution_count": 19
    }
   ],
   "source": [
    "topic_model.get_topic_info()"
   ]
  },
  {
   "source": [
    "topic_model.get_topic(0)"
   ],
   "cell_type": "code",
   "metadata": {},
   "execution_count": 20,
   "outputs": [
    {
     "output_type": "execute_result",
     "data": {
      "text/plain": [
       "[('policy', 0.018708723953169762),\n",
       " ('and', 0.017974333625516887),\n",
       " ('monetary', 0.015736509567583684),\n",
       " ('financial', 0.015319727501085945),\n",
       " ('of', 0.015290084397929163),\n",
       " ('it', 0.011865278685787416),\n",
       " ('banks', 0.011140237804325446),\n",
       " ('market', 0.01062877788927638),\n",
       " ('inflation', 0.010470659220627522),\n",
       " ('bank', 0.010216841090904434)]"
      ]
     },
     "metadata": {},
     "execution_count": 20
    }
   ]
  },
  {
   "cell_type": "code",
   "execution_count": 21,
   "metadata": {},
   "outputs": [
    {
     "output_type": "display_data",
     "data": {
      "application/vnd.plotly.v1+json": {
       "config": {
        "plotlyServerURL": "https://plot.ly"
       },
       "data": [
        {
         "customdata": [
          [
           19.41643714904785,
           -2.069124698638916,
           0,
           "policy | and | monetary | financial | of",
           354
          ],
          [
           10.994061470031738,
           8.850728034973145,
           1,
           "to | we | our | have | euro",
           99
          ],
          [
           10.903180122375488,
           8.954230308532715,
           2,
           "inflation | euro | and | policy | growth",
           75
          ],
          [
           10.702672958374023,
           7.2329206466674805,
           3,
           "banks | are | for | banking | have",
           64
          ],
          [
           10.170281410217285,
           7.4229583740234375,
           4,
           "european | union | financial | euro | market",
           63
          ],
          [
           10.236141204833984,
           8.097261428833008,
           5,
           "financial | as | have | crisis | on",
           52
          ],
          [
           10.623258590698242,
           9.493973731994629,
           6,
           "auf | das | eine | nicht | wir",
           49
          ],
          [
           10.194314956665039,
           7.099035263061523,
           7,
           "payments | payment | retail | digital | instant",
           40
          ],
          [
           -8.110587120056152,
           1.3552508354187012,
           8,
           "euro | banknotes | is | it | to",
           26
          ],
          [
           -9.456170082092285,
           2.5110037326812744,
           9,
           "financial | banks | banking | be | area",
           25
          ],
          [
           10.504293441772461,
           8.206145286560059,
           10,
           "that | of | it | research | which",
           24
          ],
          [
           -7.199762344360352,
           2.8216750621795654,
           11,
           "euro | ecb | digital | economic | european",
           19
          ],
          [
           -6.7739667892456055,
           1.8349367380142212,
           12,
           "los | para | se | por | les",
           18
          ],
          [
           -7.971627235412598,
           2.614164113998413,
           13,
           "presentation | content | related | executive | ecb",
           17
          ],
          [
           -9.692719459533691,
           2.5683374404907227,
           14,
           "financial | policy | rate | ecb | households",
           13
          ],
          [
           -6.873074054718018,
           2.178799867630005,
           15,
           "we | as | have | financial | for",
           12
          ],
          [
           -7.4430389404296875,
           2.632486581802368,
           16,
           "cyber | infrastructures | fmis | ecrb | european",
           11
          ],
          [
           -7.492142677307129,
           1.8016849756240845,
           17,
           "euro | growth | and | for | it",
           10
          ]
         ],
         "hovertemplate": "<b>Topic %{customdata[2]}</b><br>Words: %{customdata[3]}<br>Size: %{customdata[4]}",
         "legendgroup": "",
         "marker": {
          "color": "#B0BEC5",
          "line": {
           "color": "DarkSlateGrey",
           "width": 2
          },
          "size": [
           354,
           99,
           75,
           64,
           63,
           52,
           49,
           40,
           26,
           25,
           24,
           19,
           18,
           17,
           13,
           12,
           11,
           10
          ],
          "sizemode": "area",
          "sizeref": 0.22125,
          "symbol": "circle"
         },
         "mode": "markers",
         "name": "",
         "orientation": "v",
         "showlegend": false,
         "type": "scatter",
         "x": [
          19.41643714904785,
          10.994061470031738,
          10.903180122375488,
          10.702672958374023,
          10.170281410217285,
          10.236141204833984,
          10.623258590698242,
          10.194314956665039,
          -8.110587120056152,
          -9.456170082092285,
          10.504293441772461,
          -7.199762344360352,
          -6.7739667892456055,
          -7.971627235412598,
          -9.692719459533691,
          -6.873074054718018,
          -7.4430389404296875,
          -7.492142677307129
         ],
         "xaxis": "x",
         "y": [
          -2.069124698638916,
          8.850728034973145,
          8.954230308532715,
          7.2329206466674805,
          7.4229583740234375,
          8.097261428833008,
          9.493973731994629,
          7.099035263061523,
          1.3552508354187012,
          2.5110037326812744,
          8.206145286560059,
          2.8216750621795654,
          1.8349367380142212,
          2.614164113998413,
          2.5683374404907227,
          2.178799867630005,
          2.632486581802368,
          1.8016849756240845
         ],
         "yaxis": "y"
        }
       ],
       "layout": {
        "annotations": [
         {
          "showarrow": false,
          "text": "D1",
          "x": -11.146627378463744,
          "y": 4.269288194179534,
          "yshift": 10
         },
         {
          "showarrow": false,
          "text": "D2",
          "x": 5.5911376714706424,
          "xshift": 10,
          "y": 10.918069791793823
         }
        ],
        "height": 650,
        "hoverlabel": {
         "bgcolor": "white",
         "font": {
          "family": "Rockwell",
          "size": 16
         }
        },
        "legend": {
         "itemsizing": "constant",
         "tracegroupgap": 0
        },
        "margin": {
         "t": 60
        },
        "shapes": [
         {
          "line": {
           "color": "#CFD8DC",
           "width": 2
          },
          "type": "line",
          "x0": 5.5911376714706424,
          "x1": 5.5911376714706424,
          "y0": -2.3794934034347532,
          "y1": 10.918069791793823
         },
         {
          "line": {
           "color": "#9E9E9E",
           "width": 2
          },
          "type": "line",
          "x0": -11.146627378463744,
          "x1": 22.32890272140503,
          "y0": 4.269288194179534,
          "y1": 4.269288194179534
         }
        ],
        "sliders": [
         {
          "active": 0,
          "pad": {
           "t": 50
          },
          "steps": [
           {
            "args": [
             {
              "marker.color": [
               [
                "red",
                "#B0BEC5",
                "#B0BEC5",
                "#B0BEC5",
                "#B0BEC5",
                "#B0BEC5",
                "#B0BEC5",
                "#B0BEC5",
                "#B0BEC5",
                "#B0BEC5",
                "#B0BEC5",
                "#B0BEC5",
                "#B0BEC5",
                "#B0BEC5",
                "#B0BEC5",
                "#B0BEC5",
                "#B0BEC5",
                "#B0BEC5"
               ]
              ]
             }
            ],
            "label": "Topic 0",
            "method": "update"
           },
           {
            "args": [
             {
              "marker.color": [
               [
                "#B0BEC5",
                "red",
                "#B0BEC5",
                "#B0BEC5",
                "#B0BEC5",
                "#B0BEC5",
                "#B0BEC5",
                "#B0BEC5",
                "#B0BEC5",
                "#B0BEC5",
                "#B0BEC5",
                "#B0BEC5",
                "#B0BEC5",
                "#B0BEC5",
                "#B0BEC5",
                "#B0BEC5",
                "#B0BEC5",
                "#B0BEC5"
               ]
              ]
             }
            ],
            "label": "Topic 1",
            "method": "update"
           },
           {
            "args": [
             {
              "marker.color": [
               [
                "#B0BEC5",
                "#B0BEC5",
                "red",
                "#B0BEC5",
                "#B0BEC5",
                "#B0BEC5",
                "#B0BEC5",
                "#B0BEC5",
                "#B0BEC5",
                "#B0BEC5",
                "#B0BEC5",
                "#B0BEC5",
                "#B0BEC5",
                "#B0BEC5",
                "#B0BEC5",
                "#B0BEC5",
                "#B0BEC5",
                "#B0BEC5"
               ]
              ]
             }
            ],
            "label": "Topic 2",
            "method": "update"
           },
           {
            "args": [
             {
              "marker.color": [
               [
                "#B0BEC5",
                "#B0BEC5",
                "#B0BEC5",
                "red",
                "#B0BEC5",
                "#B0BEC5",
                "#B0BEC5",
                "#B0BEC5",
                "#B0BEC5",
                "#B0BEC5",
                "#B0BEC5",
                "#B0BEC5",
                "#B0BEC5",
                "#B0BEC5",
                "#B0BEC5",
                "#B0BEC5",
                "#B0BEC5",
                "#B0BEC5"
               ]
              ]
             }
            ],
            "label": "Topic 3",
            "method": "update"
           },
           {
            "args": [
             {
              "marker.color": [
               [
                "#B0BEC5",
                "#B0BEC5",
                "#B0BEC5",
                "#B0BEC5",
                "red",
                "#B0BEC5",
                "#B0BEC5",
                "#B0BEC5",
                "#B0BEC5",
                "#B0BEC5",
                "#B0BEC5",
                "#B0BEC5",
                "#B0BEC5",
                "#B0BEC5",
                "#B0BEC5",
                "#B0BEC5",
                "#B0BEC5",
                "#B0BEC5"
               ]
              ]
             }
            ],
            "label": "Topic 4",
            "method": "update"
           },
           {
            "args": [
             {
              "marker.color": [
               [
                "#B0BEC5",
                "#B0BEC5",
                "#B0BEC5",
                "#B0BEC5",
                "#B0BEC5",
                "red",
                "#B0BEC5",
                "#B0BEC5",
                "#B0BEC5",
                "#B0BEC5",
                "#B0BEC5",
                "#B0BEC5",
                "#B0BEC5",
                "#B0BEC5",
                "#B0BEC5",
                "#B0BEC5",
                "#B0BEC5",
                "#B0BEC5"
               ]
              ]
             }
            ],
            "label": "Topic 5",
            "method": "update"
           },
           {
            "args": [
             {
              "marker.color": [
               [
                "#B0BEC5",
                "#B0BEC5",
                "#B0BEC5",
                "#B0BEC5",
                "#B0BEC5",
                "#B0BEC5",
                "red",
                "#B0BEC5",
                "#B0BEC5",
                "#B0BEC5",
                "#B0BEC5",
                "#B0BEC5",
                "#B0BEC5",
                "#B0BEC5",
                "#B0BEC5",
                "#B0BEC5",
                "#B0BEC5",
                "#B0BEC5"
               ]
              ]
             }
            ],
            "label": "Topic 6",
            "method": "update"
           },
           {
            "args": [
             {
              "marker.color": [
               [
                "#B0BEC5",
                "#B0BEC5",
                "#B0BEC5",
                "#B0BEC5",
                "#B0BEC5",
                "#B0BEC5",
                "#B0BEC5",
                "red",
                "#B0BEC5",
                "#B0BEC5",
                "#B0BEC5",
                "#B0BEC5",
                "#B0BEC5",
                "#B0BEC5",
                "#B0BEC5",
                "#B0BEC5",
                "#B0BEC5",
                "#B0BEC5"
               ]
              ]
             }
            ],
            "label": "Topic 7",
            "method": "update"
           },
           {
            "args": [
             {
              "marker.color": [
               [
                "#B0BEC5",
                "#B0BEC5",
                "#B0BEC5",
                "#B0BEC5",
                "#B0BEC5",
                "#B0BEC5",
                "#B0BEC5",
                "#B0BEC5",
                "red",
                "#B0BEC5",
                "#B0BEC5",
                "#B0BEC5",
                "#B0BEC5",
                "#B0BEC5",
                "#B0BEC5",
                "#B0BEC5",
                "#B0BEC5",
                "#B0BEC5"
               ]
              ]
             }
            ],
            "label": "Topic 8",
            "method": "update"
           },
           {
            "args": [
             {
              "marker.color": [
               [
                "#B0BEC5",
                "#B0BEC5",
                "#B0BEC5",
                "#B0BEC5",
                "#B0BEC5",
                "#B0BEC5",
                "#B0BEC5",
                "#B0BEC5",
                "#B0BEC5",
                "red",
                "#B0BEC5",
                "#B0BEC5",
                "#B0BEC5",
                "#B0BEC5",
                "#B0BEC5",
                "#B0BEC5",
                "#B0BEC5",
                "#B0BEC5"
               ]
              ]
             }
            ],
            "label": "Topic 9",
            "method": "update"
           },
           {
            "args": [
             {
              "marker.color": [
               [
                "#B0BEC5",
                "#B0BEC5",
                "#B0BEC5",
                "#B0BEC5",
                "#B0BEC5",
                "#B0BEC5",
                "#B0BEC5",
                "#B0BEC5",
                "#B0BEC5",
                "#B0BEC5",
                "red",
                "#B0BEC5",
                "#B0BEC5",
                "#B0BEC5",
                "#B0BEC5",
                "#B0BEC5",
                "#B0BEC5",
                "#B0BEC5"
               ]
              ]
             }
            ],
            "label": "Topic 10",
            "method": "update"
           },
           {
            "args": [
             {
              "marker.color": [
               [
                "#B0BEC5",
                "#B0BEC5",
                "#B0BEC5",
                "#B0BEC5",
                "#B0BEC5",
                "#B0BEC5",
                "#B0BEC5",
                "#B0BEC5",
                "#B0BEC5",
                "#B0BEC5",
                "#B0BEC5",
                "red",
                "#B0BEC5",
                "#B0BEC5",
                "#B0BEC5",
                "#B0BEC5",
                "#B0BEC5",
                "#B0BEC5"
               ]
              ]
             }
            ],
            "label": "Topic 11",
            "method": "update"
           },
           {
            "args": [
             {
              "marker.color": [
               [
                "#B0BEC5",
                "#B0BEC5",
                "#B0BEC5",
                "#B0BEC5",
                "#B0BEC5",
                "#B0BEC5",
                "#B0BEC5",
                "#B0BEC5",
                "#B0BEC5",
                "#B0BEC5",
                "#B0BEC5",
                "#B0BEC5",
                "red",
                "#B0BEC5",
                "#B0BEC5",
                "#B0BEC5",
                "#B0BEC5",
                "#B0BEC5"
               ]
              ]
             }
            ],
            "label": "Topic 12",
            "method": "update"
           },
           {
            "args": [
             {
              "marker.color": [
               [
                "#B0BEC5",
                "#B0BEC5",
                "#B0BEC5",
                "#B0BEC5",
                "#B0BEC5",
                "#B0BEC5",
                "#B0BEC5",
                "#B0BEC5",
                "#B0BEC5",
                "#B0BEC5",
                "#B0BEC5",
                "#B0BEC5",
                "#B0BEC5",
                "red",
                "#B0BEC5",
                "#B0BEC5",
                "#B0BEC5",
                "#B0BEC5"
               ]
              ]
             }
            ],
            "label": "Topic 13",
            "method": "update"
           },
           {
            "args": [
             {
              "marker.color": [
               [
                "#B0BEC5",
                "#B0BEC5",
                "#B0BEC5",
                "#B0BEC5",
                "#B0BEC5",
                "#B0BEC5",
                "#B0BEC5",
                "#B0BEC5",
                "#B0BEC5",
                "#B0BEC5",
                "#B0BEC5",
                "#B0BEC5",
                "#B0BEC5",
                "#B0BEC5",
                "red",
                "#B0BEC5",
                "#B0BEC5",
                "#B0BEC5"
               ]
              ]
             }
            ],
            "label": "Topic 14",
            "method": "update"
           },
           {
            "args": [
             {
              "marker.color": [
               [
                "#B0BEC5",
                "#B0BEC5",
                "#B0BEC5",
                "#B0BEC5",
                "#B0BEC5",
                "#B0BEC5",
                "#B0BEC5",
                "#B0BEC5",
                "#B0BEC5",
                "#B0BEC5",
                "#B0BEC5",
                "#B0BEC5",
                "#B0BEC5",
                "#B0BEC5",
                "#B0BEC5",
                "red",
                "#B0BEC5",
                "#B0BEC5"
               ]
              ]
             }
            ],
            "label": "Topic 15",
            "method": "update"
           },
           {
            "args": [
             {
              "marker.color": [
               [
                "#B0BEC5",
                "#B0BEC5",
                "#B0BEC5",
                "#B0BEC5",
                "#B0BEC5",
                "#B0BEC5",
                "#B0BEC5",
                "#B0BEC5",
                "#B0BEC5",
                "#B0BEC5",
                "#B0BEC5",
                "#B0BEC5",
                "#B0BEC5",
                "#B0BEC5",
                "#B0BEC5",
                "#B0BEC5",
                "red",
                "#B0BEC5"
               ]
              ]
             }
            ],
            "label": "Topic 16",
            "method": "update"
           },
           {
            "args": [
             {
              "marker.color": [
               [
                "#B0BEC5",
                "#B0BEC5",
                "#B0BEC5",
                "#B0BEC5",
                "#B0BEC5",
                "#B0BEC5",
                "#B0BEC5",
                "#B0BEC5",
                "#B0BEC5",
                "#B0BEC5",
                "#B0BEC5",
                "#B0BEC5",
                "#B0BEC5",
                "#B0BEC5",
                "#B0BEC5",
                "#B0BEC5",
                "#B0BEC5",
                "red"
               ]
              ]
             }
            ],
            "label": "Topic 17",
            "method": "update"
           }
          ]
         }
        ],
        "template": {
         "data": {
          "bar": [
           {
            "error_x": {
             "color": "rgb(36,36,36)"
            },
            "error_y": {
             "color": "rgb(36,36,36)"
            },
            "marker": {
             "line": {
              "color": "white",
              "width": 0.5
             }
            },
            "type": "bar"
           }
          ],
          "barpolar": [
           {
            "marker": {
             "line": {
              "color": "white",
              "width": 0.5
             }
            },
            "type": "barpolar"
           }
          ],
          "carpet": [
           {
            "aaxis": {
             "endlinecolor": "rgb(36,36,36)",
             "gridcolor": "white",
             "linecolor": "white",
             "minorgridcolor": "white",
             "startlinecolor": "rgb(36,36,36)"
            },
            "baxis": {
             "endlinecolor": "rgb(36,36,36)",
             "gridcolor": "white",
             "linecolor": "white",
             "minorgridcolor": "white",
             "startlinecolor": "rgb(36,36,36)"
            },
            "type": "carpet"
           }
          ],
          "choropleth": [
           {
            "colorbar": {
             "outlinewidth": 1,
             "tickcolor": "rgb(36,36,36)",
             "ticks": "outside"
            },
            "type": "choropleth"
           }
          ],
          "contour": [
           {
            "colorbar": {
             "outlinewidth": 1,
             "tickcolor": "rgb(36,36,36)",
             "ticks": "outside"
            },
            "colorscale": [
             [
              0,
              "#440154"
             ],
             [
              0.1111111111111111,
              "#482878"
             ],
             [
              0.2222222222222222,
              "#3e4989"
             ],
             [
              0.3333333333333333,
              "#31688e"
             ],
             [
              0.4444444444444444,
              "#26828e"
             ],
             [
              0.5555555555555556,
              "#1f9e89"
             ],
             [
              0.6666666666666666,
              "#35b779"
             ],
             [
              0.7777777777777778,
              "#6ece58"
             ],
             [
              0.8888888888888888,
              "#b5de2b"
             ],
             [
              1,
              "#fde725"
             ]
            ],
            "type": "contour"
           }
          ],
          "contourcarpet": [
           {
            "colorbar": {
             "outlinewidth": 1,
             "tickcolor": "rgb(36,36,36)",
             "ticks": "outside"
            },
            "type": "contourcarpet"
           }
          ],
          "heatmap": [
           {
            "colorbar": {
             "outlinewidth": 1,
             "tickcolor": "rgb(36,36,36)",
             "ticks": "outside"
            },
            "colorscale": [
             [
              0,
              "#440154"
             ],
             [
              0.1111111111111111,
              "#482878"
             ],
             [
              0.2222222222222222,
              "#3e4989"
             ],
             [
              0.3333333333333333,
              "#31688e"
             ],
             [
              0.4444444444444444,
              "#26828e"
             ],
             [
              0.5555555555555556,
              "#1f9e89"
             ],
             [
              0.6666666666666666,
              "#35b779"
             ],
             [
              0.7777777777777778,
              "#6ece58"
             ],
             [
              0.8888888888888888,
              "#b5de2b"
             ],
             [
              1,
              "#fde725"
             ]
            ],
            "type": "heatmap"
           }
          ],
          "heatmapgl": [
           {
            "colorbar": {
             "outlinewidth": 1,
             "tickcolor": "rgb(36,36,36)",
             "ticks": "outside"
            },
            "colorscale": [
             [
              0,
              "#440154"
             ],
             [
              0.1111111111111111,
              "#482878"
             ],
             [
              0.2222222222222222,
              "#3e4989"
             ],
             [
              0.3333333333333333,
              "#31688e"
             ],
             [
              0.4444444444444444,
              "#26828e"
             ],
             [
              0.5555555555555556,
              "#1f9e89"
             ],
             [
              0.6666666666666666,
              "#35b779"
             ],
             [
              0.7777777777777778,
              "#6ece58"
             ],
             [
              0.8888888888888888,
              "#b5de2b"
             ],
             [
              1,
              "#fde725"
             ]
            ],
            "type": "heatmapgl"
           }
          ],
          "histogram": [
           {
            "marker": {
             "line": {
              "color": "white",
              "width": 0.6
             }
            },
            "type": "histogram"
           }
          ],
          "histogram2d": [
           {
            "colorbar": {
             "outlinewidth": 1,
             "tickcolor": "rgb(36,36,36)",
             "ticks": "outside"
            },
            "colorscale": [
             [
              0,
              "#440154"
             ],
             [
              0.1111111111111111,
              "#482878"
             ],
             [
              0.2222222222222222,
              "#3e4989"
             ],
             [
              0.3333333333333333,
              "#31688e"
             ],
             [
              0.4444444444444444,
              "#26828e"
             ],
             [
              0.5555555555555556,
              "#1f9e89"
             ],
             [
              0.6666666666666666,
              "#35b779"
             ],
             [
              0.7777777777777778,
              "#6ece58"
             ],
             [
              0.8888888888888888,
              "#b5de2b"
             ],
             [
              1,
              "#fde725"
             ]
            ],
            "type": "histogram2d"
           }
          ],
          "histogram2dcontour": [
           {
            "colorbar": {
             "outlinewidth": 1,
             "tickcolor": "rgb(36,36,36)",
             "ticks": "outside"
            },
            "colorscale": [
             [
              0,
              "#440154"
             ],
             [
              0.1111111111111111,
              "#482878"
             ],
             [
              0.2222222222222222,
              "#3e4989"
             ],
             [
              0.3333333333333333,
              "#31688e"
             ],
             [
              0.4444444444444444,
              "#26828e"
             ],
             [
              0.5555555555555556,
              "#1f9e89"
             ],
             [
              0.6666666666666666,
              "#35b779"
             ],
             [
              0.7777777777777778,
              "#6ece58"
             ],
             [
              0.8888888888888888,
              "#b5de2b"
             ],
             [
              1,
              "#fde725"
             ]
            ],
            "type": "histogram2dcontour"
           }
          ],
          "mesh3d": [
           {
            "colorbar": {
             "outlinewidth": 1,
             "tickcolor": "rgb(36,36,36)",
             "ticks": "outside"
            },
            "type": "mesh3d"
           }
          ],
          "parcoords": [
           {
            "line": {
             "colorbar": {
              "outlinewidth": 1,
              "tickcolor": "rgb(36,36,36)",
              "ticks": "outside"
             }
            },
            "type": "parcoords"
           }
          ],
          "pie": [
           {
            "automargin": true,
            "type": "pie"
           }
          ],
          "scatter": [
           {
            "marker": {
             "colorbar": {
              "outlinewidth": 1,
              "tickcolor": "rgb(36,36,36)",
              "ticks": "outside"
             }
            },
            "type": "scatter"
           }
          ],
          "scatter3d": [
           {
            "line": {
             "colorbar": {
              "outlinewidth": 1,
              "tickcolor": "rgb(36,36,36)",
              "ticks": "outside"
             }
            },
            "marker": {
             "colorbar": {
              "outlinewidth": 1,
              "tickcolor": "rgb(36,36,36)",
              "ticks": "outside"
             }
            },
            "type": "scatter3d"
           }
          ],
          "scattercarpet": [
           {
            "marker": {
             "colorbar": {
              "outlinewidth": 1,
              "tickcolor": "rgb(36,36,36)",
              "ticks": "outside"
             }
            },
            "type": "scattercarpet"
           }
          ],
          "scattergeo": [
           {
            "marker": {
             "colorbar": {
              "outlinewidth": 1,
              "tickcolor": "rgb(36,36,36)",
              "ticks": "outside"
             }
            },
            "type": "scattergeo"
           }
          ],
          "scattergl": [
           {
            "marker": {
             "colorbar": {
              "outlinewidth": 1,
              "tickcolor": "rgb(36,36,36)",
              "ticks": "outside"
             }
            },
            "type": "scattergl"
           }
          ],
          "scattermapbox": [
           {
            "marker": {
             "colorbar": {
              "outlinewidth": 1,
              "tickcolor": "rgb(36,36,36)",
              "ticks": "outside"
             }
            },
            "type": "scattermapbox"
           }
          ],
          "scatterpolar": [
           {
            "marker": {
             "colorbar": {
              "outlinewidth": 1,
              "tickcolor": "rgb(36,36,36)",
              "ticks": "outside"
             }
            },
            "type": "scatterpolar"
           }
          ],
          "scatterpolargl": [
           {
            "marker": {
             "colorbar": {
              "outlinewidth": 1,
              "tickcolor": "rgb(36,36,36)",
              "ticks": "outside"
             }
            },
            "type": "scatterpolargl"
           }
          ],
          "scatterternary": [
           {
            "marker": {
             "colorbar": {
              "outlinewidth": 1,
              "tickcolor": "rgb(36,36,36)",
              "ticks": "outside"
             }
            },
            "type": "scatterternary"
           }
          ],
          "surface": [
           {
            "colorbar": {
             "outlinewidth": 1,
             "tickcolor": "rgb(36,36,36)",
             "ticks": "outside"
            },
            "colorscale": [
             [
              0,
              "#440154"
             ],
             [
              0.1111111111111111,
              "#482878"
             ],
             [
              0.2222222222222222,
              "#3e4989"
             ],
             [
              0.3333333333333333,
              "#31688e"
             ],
             [
              0.4444444444444444,
              "#26828e"
             ],
             [
              0.5555555555555556,
              "#1f9e89"
             ],
             [
              0.6666666666666666,
              "#35b779"
             ],
             [
              0.7777777777777778,
              "#6ece58"
             ],
             [
              0.8888888888888888,
              "#b5de2b"
             ],
             [
              1,
              "#fde725"
             ]
            ],
            "type": "surface"
           }
          ],
          "table": [
           {
            "cells": {
             "fill": {
              "color": "rgb(237,237,237)"
             },
             "line": {
              "color": "white"
             }
            },
            "header": {
             "fill": {
              "color": "rgb(217,217,217)"
             },
             "line": {
              "color": "white"
             }
            },
            "type": "table"
           }
          ]
         },
         "layout": {
          "annotationdefaults": {
           "arrowhead": 0,
           "arrowwidth": 1
          },
          "autotypenumbers": "strict",
          "coloraxis": {
           "colorbar": {
            "outlinewidth": 1,
            "tickcolor": "rgb(36,36,36)",
            "ticks": "outside"
           }
          },
          "colorscale": {
           "diverging": [
            [
             0,
             "rgb(103,0,31)"
            ],
            [
             0.1,
             "rgb(178,24,43)"
            ],
            [
             0.2,
             "rgb(214,96,77)"
            ],
            [
             0.3,
             "rgb(244,165,130)"
            ],
            [
             0.4,
             "rgb(253,219,199)"
            ],
            [
             0.5,
             "rgb(247,247,247)"
            ],
            [
             0.6,
             "rgb(209,229,240)"
            ],
            [
             0.7,
             "rgb(146,197,222)"
            ],
            [
             0.8,
             "rgb(67,147,195)"
            ],
            [
             0.9,
             "rgb(33,102,172)"
            ],
            [
             1,
             "rgb(5,48,97)"
            ]
           ],
           "sequential": [
            [
             0,
             "#440154"
            ],
            [
             0.1111111111111111,
             "#482878"
            ],
            [
             0.2222222222222222,
             "#3e4989"
            ],
            [
             0.3333333333333333,
             "#31688e"
            ],
            [
             0.4444444444444444,
             "#26828e"
            ],
            [
             0.5555555555555556,
             "#1f9e89"
            ],
            [
             0.6666666666666666,
             "#35b779"
            ],
            [
             0.7777777777777778,
             "#6ece58"
            ],
            [
             0.8888888888888888,
             "#b5de2b"
            ],
            [
             1,
             "#fde725"
            ]
           ],
           "sequentialminus": [
            [
             0,
             "#440154"
            ],
            [
             0.1111111111111111,
             "#482878"
            ],
            [
             0.2222222222222222,
             "#3e4989"
            ],
            [
             0.3333333333333333,
             "#31688e"
            ],
            [
             0.4444444444444444,
             "#26828e"
            ],
            [
             0.5555555555555556,
             "#1f9e89"
            ],
            [
             0.6666666666666666,
             "#35b779"
            ],
            [
             0.7777777777777778,
             "#6ece58"
            ],
            [
             0.8888888888888888,
             "#b5de2b"
            ],
            [
             1,
             "#fde725"
            ]
           ]
          },
          "colorway": [
           "#1F77B4",
           "#FF7F0E",
           "#2CA02C",
           "#D62728",
           "#9467BD",
           "#8C564B",
           "#E377C2",
           "#7F7F7F",
           "#BCBD22",
           "#17BECF"
          ],
          "font": {
           "color": "rgb(36,36,36)"
          },
          "geo": {
           "bgcolor": "white",
           "lakecolor": "white",
           "landcolor": "white",
           "showlakes": true,
           "showland": true,
           "subunitcolor": "white"
          },
          "hoverlabel": {
           "align": "left"
          },
          "hovermode": "closest",
          "mapbox": {
           "style": "light"
          },
          "paper_bgcolor": "white",
          "plot_bgcolor": "white",
          "polar": {
           "angularaxis": {
            "gridcolor": "rgb(232,232,232)",
            "linecolor": "rgb(36,36,36)",
            "showgrid": false,
            "showline": true,
            "ticks": "outside"
           },
           "bgcolor": "white",
           "radialaxis": {
            "gridcolor": "rgb(232,232,232)",
            "linecolor": "rgb(36,36,36)",
            "showgrid": false,
            "showline": true,
            "ticks": "outside"
           }
          },
          "scene": {
           "xaxis": {
            "backgroundcolor": "white",
            "gridcolor": "rgb(232,232,232)",
            "gridwidth": 2,
            "linecolor": "rgb(36,36,36)",
            "showbackground": true,
            "showgrid": false,
            "showline": true,
            "ticks": "outside",
            "zeroline": false,
            "zerolinecolor": "rgb(36,36,36)"
           },
           "yaxis": {
            "backgroundcolor": "white",
            "gridcolor": "rgb(232,232,232)",
            "gridwidth": 2,
            "linecolor": "rgb(36,36,36)",
            "showbackground": true,
            "showgrid": false,
            "showline": true,
            "ticks": "outside",
            "zeroline": false,
            "zerolinecolor": "rgb(36,36,36)"
           },
           "zaxis": {
            "backgroundcolor": "white",
            "gridcolor": "rgb(232,232,232)",
            "gridwidth": 2,
            "linecolor": "rgb(36,36,36)",
            "showbackground": true,
            "showgrid": false,
            "showline": true,
            "ticks": "outside",
            "zeroline": false,
            "zerolinecolor": "rgb(36,36,36)"
           }
          },
          "shapedefaults": {
           "fillcolor": "black",
           "line": {
            "width": 0
           },
           "opacity": 0.3
          },
          "ternary": {
           "aaxis": {
            "gridcolor": "rgb(232,232,232)",
            "linecolor": "rgb(36,36,36)",
            "showgrid": false,
            "showline": true,
            "ticks": "outside"
           },
           "baxis": {
            "gridcolor": "rgb(232,232,232)",
            "linecolor": "rgb(36,36,36)",
            "showgrid": false,
            "showline": true,
            "ticks": "outside"
           },
           "bgcolor": "white",
           "caxis": {
            "gridcolor": "rgb(232,232,232)",
            "linecolor": "rgb(36,36,36)",
            "showgrid": false,
            "showline": true,
            "ticks": "outside"
           }
          },
          "title": {
           "x": 0.05
          },
          "xaxis": {
           "automargin": true,
           "gridcolor": "rgb(232,232,232)",
           "linecolor": "rgb(36,36,36)",
           "showgrid": false,
           "showline": true,
           "ticks": "outside",
           "title": {
            "standoff": 15
           },
           "zeroline": false,
           "zerolinecolor": "rgb(36,36,36)"
          },
          "yaxis": {
           "automargin": true,
           "gridcolor": "rgb(232,232,232)",
           "linecolor": "rgb(36,36,36)",
           "showgrid": false,
           "showline": true,
           "ticks": "outside",
           "title": {
            "standoff": 15
           },
           "zeroline": false,
           "zerolinecolor": "rgb(36,36,36)"
          }
         }
        },
        "title": {
         "font": {
          "color": "Black",
          "size": 22
         },
         "text": "<b>Intertopic Distance Map",
         "x": 0.5,
         "xanchor": "center",
         "y": 0.95,
         "yanchor": "top"
        },
        "width": 650,
        "xaxis": {
         "anchor": "y",
         "domain": [
          0,
          1
         ],
         "range": [
          -11.146627378463744,
          22.32890272140503
         ],
         "title": {
          "text": ""
         },
         "visible": false
        },
        "yaxis": {
         "anchor": "x",
         "domain": [
          0,
          1
         ],
         "range": [
          -2.3794934034347532,
          10.918069791793823
         ],
         "title": {
          "text": ""
         },
         "visible": false
        }
       }
      }
     },
     "metadata": {}
    }
   ],
   "source": []
  },
  {
   "cell_type": "code",
   "execution_count": null,
   "metadata": {},
   "outputs": [],
   "source": [
    "topic_model.visualize_topics()"
   ]
  }
 ]
}
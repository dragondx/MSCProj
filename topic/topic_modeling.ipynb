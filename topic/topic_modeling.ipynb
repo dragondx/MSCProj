{
 "metadata": {
  "language_info": {
   "codemirror_mode": {
    "name": "ipython",
    "version": 3
   },
   "file_extension": ".py",
   "mimetype": "text/x-python",
   "name": "python",
   "nbconvert_exporter": "python",
   "pygments_lexer": "ipython3",
   "version": "3.8.0"
  },
  "orig_nbformat": 4,
  "kernelspec": {
   "name": "python3",
   "display_name": "Python 3.8.0 64-bit"
  },
  "interpreter": {
   "hash": "1b174d106187cf4c36b481e4f9775d9b6103c84ebc5bd0573d3cc5e86d067305"
  }
 },
 "nbformat": 4,
 "nbformat_minor": 2,
 "cells": [
  {
   "cell_type": "code",
   "execution_count": 1,
   "metadata": {},
   "outputs": [],
   "source": [
    "# https://towardsdatascience.com/end-to-end-topic-modeling-in-python-latent-dirichlet-allocation-lda-35ce4ed6b3e0"
   ]
  },
  {
   "cell_type": "code",
   "execution_count": 2,
   "metadata": {
    "tags": []
   },
   "outputs": [
    {
     "output_type": "execute_result",
     "data": {
      "text/plain": [
       "         date           speakers  \\\n",
       "0  2021-05-27    Isabel Schnabel   \n",
       "1  2021-05-27    Luis de Guindos   \n",
       "2  2021-05-25     Philip R. Lane   \n",
       "3  2021-05-19      Fabio Panetta   \n",
       "4  2021-05-06  Christine Lagarde   \n",
       "\n",
       "                                               title  \\\n",
       "0  Societal responsibility and central bank indep...   \n",
       "1           Climate change and financial integration   \n",
       "2                            The ECB strategy review   \n",
       "3  At the edge of tomorrow: preparing the future ...   \n",
       "4   Towards a green capital markets union for Europe   \n",
       "\n",
       "                                            subtitle  \\\n",
       "0  Keynote speech by Isabel Schnabel, Member of t...   \n",
       "1  Keynote speech by Luis de Guindos, Vice-Presid...   \n",
       "2  Presentation by Philip R. Lane, Member of the ...   \n",
       "3  Introductory remarks by Fabio Panetta, Member ...   \n",
       "4  Speech by Christine Lagarde, President of the ...   \n",
       "\n",
       "                                            contents  \n",
       "0     SPEECH  Societal responsibility and central...  \n",
       "1     SPEECH  Climate change and financial integr...  \n",
       "2                                                NaN  \n",
       "3     SPEECH  At the edge of tomorrow: preparing ...  \n",
       "4     SPEECH  Towards a green capital markets uni...  "
      ],
      "text/html": "<div>\n<style scoped>\n    .dataframe tbody tr th:only-of-type {\n        vertical-align: middle;\n    }\n\n    .dataframe tbody tr th {\n        vertical-align: top;\n    }\n\n    .dataframe thead th {\n        text-align: right;\n    }\n</style>\n<table border=\"1\" class=\"dataframe\">\n  <thead>\n    <tr style=\"text-align: right;\">\n      <th></th>\n      <th>date</th>\n      <th>speakers</th>\n      <th>title</th>\n      <th>subtitle</th>\n      <th>contents</th>\n    </tr>\n  </thead>\n  <tbody>\n    <tr>\n      <th>0</th>\n      <td>2021-05-27</td>\n      <td>Isabel Schnabel</td>\n      <td>Societal responsibility and central bank indep...</td>\n      <td>Keynote speech by Isabel Schnabel, Member of t...</td>\n      <td>SPEECH  Societal responsibility and central...</td>\n    </tr>\n    <tr>\n      <th>1</th>\n      <td>2021-05-27</td>\n      <td>Luis de Guindos</td>\n      <td>Climate change and financial integration</td>\n      <td>Keynote speech by Luis de Guindos, Vice-Presid...</td>\n      <td>SPEECH  Climate change and financial integr...</td>\n    </tr>\n    <tr>\n      <th>2</th>\n      <td>2021-05-25</td>\n      <td>Philip R. Lane</td>\n      <td>The ECB strategy review</td>\n      <td>Presentation by Philip R. Lane, Member of the ...</td>\n      <td>NaN</td>\n    </tr>\n    <tr>\n      <th>3</th>\n      <td>2021-05-19</td>\n      <td>Fabio Panetta</td>\n      <td>At the edge of tomorrow: preparing the future ...</td>\n      <td>Introductory remarks by Fabio Panetta, Member ...</td>\n      <td>SPEECH  At the edge of tomorrow: preparing ...</td>\n    </tr>\n    <tr>\n      <th>4</th>\n      <td>2021-05-06</td>\n      <td>Christine Lagarde</td>\n      <td>Towards a green capital markets union for Europe</td>\n      <td>Speech by Christine Lagarde, President of the ...</td>\n      <td>SPEECH  Towards a green capital markets uni...</td>\n    </tr>\n  </tbody>\n</table>\n</div>"
     },
     "metadata": {},
     "execution_count": 2
    }
   ],
   "source": [
    "import pandas as pd\n",
    "import os\n",
    "\n",
    "speeches = pd.read_csv('./all_ECB_speeches.csv', delimiter='|', error_bad_lines=False)\n",
    "speeches.head()"
   ]
  },
  {
   "cell_type": "code",
   "execution_count": 3,
   "metadata": {},
   "outputs": [
    {
     "output_type": "execute_result",
     "data": {
      "text/plain": [
       "date                                               1997-02-07\n",
       "speakers                                 Alexandre Lamfalussy\n",
       "title       Conference organised by the Hungarian Banking ...\n",
       "subtitle    Address by Alexandre Lamfalussy, President of ...\n",
       "contents      Conference organised by the Hungarian Bankin...\n",
       "Name: 2487, dtype: object"
      ]
     },
     "metadata": {},
     "execution_count": 3
    }
   ],
   "source": [
    "speeches.iloc[-1]"
   ]
  },
  {
   "cell_type": "code",
   "execution_count": 4,
   "metadata": {},
   "outputs": [
    {
     "output_type": "execute_result",
     "data": {
      "text/plain": [
       "Index(['date', 'speakers', 'title', 'subtitle', 'contents'], dtype='object')"
      ]
     },
     "metadata": {},
     "execution_count": 4
    }
   ],
   "source": [
    "speeches.columns"
   ]
  },
  {
   "cell_type": "code",
   "execution_count": 5,
   "metadata": {},
   "outputs": [
    {
     "output_type": "execute_result",
     "data": {
      "text/plain": [
       "                                            contents\n",
       "0     SPEECH  Societal responsibility and central...\n",
       "1     SPEECH  Climate change and financial integr...\n",
       "3     SPEECH  At the edge of tomorrow: preparing ..."
      ],
      "text/html": "<div>\n<style scoped>\n    .dataframe tbody tr th:only-of-type {\n        vertical-align: middle;\n    }\n\n    .dataframe tbody tr th {\n        vertical-align: top;\n    }\n\n    .dataframe thead th {\n        text-align: right;\n    }\n</style>\n<table border=\"1\" class=\"dataframe\">\n  <thead>\n    <tr style=\"text-align: right;\">\n      <th></th>\n      <th>contents</th>\n    </tr>\n  </thead>\n  <tbody>\n    <tr>\n      <th>0</th>\n      <td>SPEECH  Societal responsibility and central...</td>\n    </tr>\n    <tr>\n      <th>1</th>\n      <td>SPEECH  Climate change and financial integr...</td>\n    </tr>\n    <tr>\n      <th>3</th>\n      <td>SPEECH  At the edge of tomorrow: preparing ...</td>\n    </tr>\n  </tbody>\n</table>\n</div>"
     },
     "metadata": {},
     "execution_count": 5
    }
   ],
   "source": [
    "# clean the columns (date, title, subtitle, speaker)\n",
    "sample_size = 10\n",
    "num_topics = 5\n",
    "\n",
    "# speeches = speeches.drop(columns=['date', 'speakers', 'title', 'subtitle'], axis=1).sample(sample_size)\n",
    "\n",
    "speeches = speeches.drop(columns=['date', 'speakers', 'title', 'subtitle'], axis=1).dropna().iloc[0:3]\n",
    "speeches.head()"
   ]
  },
  {
   "cell_type": "code",
   "execution_count": 6,
   "metadata": {
    "tags": []
   },
   "outputs": [],
   "source": [
    "\n",
    "\n",
    "#preprocessing\n",
    "# Remove punctuation\n",
    "# speeches['contents'] = speeches['contents'].replace('[,\\.!?]', '', regex=True)\n",
    "\n",
    "speeches['contents'] = speeches['contents'].replace('SPEECH', '', regex=True)\n",
    "speeches['contents'] = speeches['contents'].replace('\\((.*?)\\)', '', regex=True)\n",
    "speeches['contents'] = speeches['contents'].replace('\\[(.*?)\\]', '', regex=True)\n",
    "speeches['contents'] = speeches['contents'].replace('Note.*?\\.', '', regex=True)\n",
    "speeches['contents'] = speeches['contents'].replace('Chart .*?\\..*?\\.', '', regex=True)\n",
    "speeches['contents'] = speeches['contents'].replace('[,\\.!?]', '', regex=True)\n",
    "\n",
    "\n",
    "speeches['contents'] = speeches['contents'].replace('[^\\x00-\\x7F]+',' ', regex=True)\n",
    "\n"
   ]
  },
  {
   "cell_type": "code",
   "execution_count": 7,
   "metadata": {},
   "outputs": [],
   "source": [
    "# from wordcloud import WordCloud\n",
    "# long_string = ','.join(list(speeches['contents']))\n",
    "# wordcloud = WordCloud(background_color=\"white\", max_words=5000, contour_width=3, contour_color='steelblue')\n",
    "# wordcloud.generate(long_string)\n",
    "# wordcloud.to_image()"
   ]
  },
  {
   "cell_type": "code",
   "execution_count": 8,
   "metadata": {
    "tags": []
   },
   "outputs": [
    {
     "output_type": "stream",
     "name": "stderr",
     "text": [
      "[nltk_data] Downloading package stopwords to\n",
      "[nltk_data]     C:\\Users\\felix\\AppData\\Roaming\\nltk_data...\n",
      "[nltk_data]   Package stopwords is already up-to-date!\n",
      "[nltk_data] Downloading package wordnet to\n",
      "[nltk_data]     C:\\Users\\felix\\AppData\\Roaming\\nltk_data...\n",
      "[nltk_data]   Package wordnet is already up-to-date!\n",
      "[nltk_data] Downloading package words to\n",
      "[nltk_data]     C:\\Users\\felix\\AppData\\Roaming\\nltk_data...\n",
      "[nltk_data]   Package words is already up-to-date!\n",
      "[nltk_data] Downloading package averaged_perceptron_tagger to\n",
      "[nltk_data]     C:\\Users\\felix\\AppData\\Roaming\\nltk_data...\n",
      "[nltk_data]   Package averaged_perceptron_tagger is already up-to-\n",
      "[nltk_data]       date!\n",
      "                       bigram       pmi\n",
      "0        (accelerated, trend)  8.189825\n",
      "54           (money, privacy)  8.189825\n",
      "62        (play, operational)  8.189825\n",
      "60        (overly, dependent)  8.189825\n",
      "58       (operational, taken)  8.189825\n",
      "..                        ...       ...\n",
      "198           (work, ongoing)  5.189825\n",
      "202     (release, initiative)  5.019900\n",
      "199           (cost, service)  5.019900\n",
      "201      (launch, initiative)  5.019900\n",
      "200  (electronic, electronic)  5.019900\n",
      "\n",
      "[188 rows x 2 columns]\n",
      "['accelerated_trend', 'money_privacy', 'play_operational', 'overly_dependent', 'operational_taken', 'normal_cheap', 'natural_starting', 'national_central', 'mobile_commerce', 'positioned_wait', 'member_executive', 'main_thank', 'longer_term', 'let_conclude', 'legal_tender', 'le_progress', 'landscape_natural', 'poi_physical', 'privacy_legal', 'introductory_member', 'speak_fourteenth', 'acceptance_longer', 'wait_attitude', 'trend_facing', 'transparent_excessive', 'thank_inviting', 'term_goal', 'tender_status', 'stimulate_competition', 'seen_forerunner', 'private_sector', 'sector_contrast', 'sale_mobile', 'safe_form', 'resilience_competitiveness', 'remain_open', 'public_criterion', 'progress_step', 'inviting_speak', 'innovative_grown', 'competition_innovative', 'easier_faster', 'desired_request', 'dependent_foreign', 'customer_experience', 'contrast_far', 'area_example', 'conclude_commission', 'concentration_increase', 'clear_vision', 'edge_tomorrow', 'choice_resilience', 'cheap_easy', 'brand_governance', 'board_th', 'available_commonly', 'attractive_transparent', 'attitude_past', 'innovation_investigating', 'easy_use', 'commission_outlined', 'effect_despite', 'finland_seen', 'industry_decisive', 'end_target', 'increase_choice', 'high_degree', 'goal_remain', 'global_acceptance', 'fourteenth_edition', 'governance_global', 'far_le', 'facing_positioned', 'example_share', 'exploring_support', 'experience_convenience', 'executive_board', 'faster_contribute', 'excessive_hidden', 'pay_increasingly', 'point_interaction', 'physical_point', 'pandemic_accelerated', 'open_market', 'offer_desired', 'promote_innovation', 'point_sale', 'today_like', 'provided_meet', 'reason_key', 'request_pay', 'role_play', 'safety_efficiency', 'simply_way', 'transaction_change', 'use_like', 'market_concentration', 'market_provided', 'discus_promote', 'make_happen', 'ecosystem_stimulate', 'access_safe', 'border_easier', 'border_exploring', 'catalyst_role', 'long_way', 'contribute_international', 'decisive_role', 'degree_market', 'competitiveness_ecosystem', 'ecosystem_today', 'efficiency_brand', 'efficiency_safety', 'environmental_access', 'eu_poi', 'forerunner_development', 'free_access', 'key_priority', 'like_discus', 'edition_forum', 'service_know', 'interaction_launch', 'new_normal', 'press_release', 'provide_cost', 'reach_customer', 'tomorrow_future', 'settlement_service', 'hidden_cost', 'status_used', 'support_cross', 'vision_future', 'forum_bank', 'come_effect', 'cross_currency', 'bank_finland', 'bank_let', 'central_bank', 'bank_main', 'commerce_initiative', 'convenience_cost', 'cost_free', 'like_make', 'work_possible', 'work_environmental', 'way_pay', 'total_card', 'share_card', 'pan_reach', 'ongoing_pandemic', 'card_resulting', 'foreign_card', 'eu_border', 'ensure_pan', 'criterion_pan', 'card_rose', 'investigating_pan', 'initiative_launch', 'launch_new', 'solution_press', 'service_offer', 'pandemic_come', 'possible_digital', 'release_ensure', 'form_digital', 'solution_point', 'strategy_deployment', 'strategy_simply', 'strategy_study', 'initiative_meet', 'cross_border', 'finally_strategy', 'digital_provide', 'digital_money', 'digital_indisputably', 'cross_eu', 'access_future', 'cost_efficiency', 'come_ecosystem', 'electronic_offer', 'card_international', 'international_card', 'international_work', 'work_ongoing', 'release_initiative', 'cost_service', 'launch_initiative', 'electronic_electronic']\n"
     ]
    }
   ],
   "source": [
    "import gensim\n",
    "from gensim.utils import simple_preprocess\n",
    "import nltk\n",
    "from nltk.corpus import stopwords\n",
    "from nltk.stem import WordNetLemmatizer\n",
    "\n",
    "from sklearn.feature_extraction._stop_words import ENGLISH_STOP_WORDS as stop_words\n",
    "\n",
    "nltk.download('stopwords')\n",
    "nltk.download('wordnet')\n",
    "nltk.download('words')\n",
    "nltk.download('averaged_perceptron_tagger')\n",
    "# stop_words = stopwords.words('english')\n",
    "lemmatizer = WordNetLemmatizer()\n",
    "words = set(nltk.corpus.words.words())\n",
    "\n",
    "def sent_to_words(sentences):\n",
    "    for sentence in sentences:\n",
    "        # deacc=True removes punctuations\n",
    "        yield(gensim.utils.simple_preprocess(str(sentence), deacc=True))\n",
    "\n",
    "def remove_non_english(texts):\n",
    "    return [[w for w in nltk.wordpunct_tokenize(\" \".join(doc)) if w.lower() in words or not w.isalpha()] for doc in texts]\n",
    "\n",
    "def remove_stopwords(texts):\n",
    "    return [[word for word in simple_preprocess(str(doc)) \n",
    "             if word not in stop_words] for doc in texts]\n",
    "\n",
    "def lemmatize(texts):\n",
    "    return [[lemmatizer.lemmatize(w) for w in doc] for doc in texts]\n",
    "\n",
    "\n",
    "\n",
    "# tokenize remove stopword, remove non english, punctuations, lemmatize\n",
    "\n",
    "# data = speeches.contents.values.tolist()\n",
    "data = [speeches.iloc[2].contents]\n",
    "data_words = list(sent_to_words(data))\n",
    "\n",
    "data_words = remove_non_english(data_words)\n",
    "data_words = lemmatize(data_words)\n",
    "\n",
    "data_words = remove_stopwords(data_words)\n",
    "\n",
    "# Example for detecting bigrams \n",
    "bigram_measures = nltk.collocations.BigramAssocMeasures()\n",
    "finder =nltk.collocations.BigramCollocationFinder.from_documents(data_words)\n",
    "# # Filter only those that occur at least 50 times\n",
    "# finder.apply_freq_filter(50)\n",
    "bigram_scores = finder.score_ngrams(bigram_measures.pmi)\n",
    "\n",
    "# trigram_measures = nltk.collocations.TrigramAssocMeasures()\n",
    "# finder = nltk.collocations.TrigramCollocationFinder.from_documents(data_words)\n",
    "\n",
    "# trigram_scores = finder.score_ngrams(trigram_measures.pmi)\n",
    "\n",
    "\n",
    "bigram_pmi = pd.DataFrame(bigram_scores)\n",
    "bigram_pmi.columns = ['bigram', 'pmi']\n",
    "bigram_pmi.sort_values(by='pmi', axis = 0, ascending = False, inplace = True)\n",
    "# trigram_pmi = pd.DataFrame(trigram_scores)\n",
    "# trigram_pmi.columns = ['trigram', 'pmi']\n",
    "# trigram_pmi.sort_values(by='pmi', axis = 0, ascending = False, inplace = True)\n",
    "\n",
    "\n",
    "# Filter for bigrams with only noun-type structures\n",
    "def bigram_filter(bigram):\n",
    "    tag = nltk.pos_tag(bigram)\n",
    "    if tag[0][1] not in ['JJ', 'NN'] and tag[1][1] not in ['NN']:\n",
    "        return False\n",
    "    if bigram[0] in stop_words or bigram[1] in stop_words:\n",
    "        return False\n",
    "    if 'n' in bigram or 't' in bigram:\n",
    "        return False\n",
    "    if 'PRON' in bigram:\n",
    "        return False\n",
    "    return True\n",
    "# # Filter for trigrams with only noun-type structures\n",
    "# def trigram_filter(trigram):\n",
    "#     tag = nltk.pos_tag(trigram)\n",
    "#     if tag[0][1] not in ['JJ', 'NN'] and tag[1][1] not in ['JJ','NN']:\n",
    "#         return False\n",
    "#     if trigram[0] in stop_words or trigram[-1] in stop_words or trigram[1] in stop_words:\n",
    "#         return False\n",
    "#     if 'n' in trigram or 't' in trigram:\n",
    "#          return False\n",
    "#     if 'PRON' in trigram:\n",
    "#         return False\n",
    "#     return True \n",
    "\n",
    "filtered_bigram = bigram_pmi[bigram_pmi.apply(lambda bigram:\\\n",
    "                                              bigram_filter(bigram['bigram'])\\\n",
    "                                              and bigram.pmi > 5, axis = 1)][:500]\n",
    "\n",
    "# filtered_trigram = trigram_pmi[trigram_pmi.apply(lambda trigram: \\\n",
    "#                                                  trigram_filter(trigram['trigram'])\\\n",
    "#                                                  and trigram.pmi > 5, axis = 1)][:500]\n",
    "\n",
    "print(filtered_bigram)\n",
    "bigrams = ['_'.join(x) for x in filtered_bigram.bigram.values if len(x[0]) > 2 or len(x[1]) > 2]\n",
    "# trigrams = [' '.join(x) for x in filtered_trigram.trigram.values if len(x[0]) > 2 or len(x[1]) > 2 and len(x[2]) > 2]\n",
    "\n",
    "print(bigrams)\n",
    "\n",
    "# print(trigram_pmi.head())\n",
    "\n",
    "# Concatenate n-grams\n",
    "def replace_ngram(x):\n",
    "    # for gram in trigrams:\n",
    "    #     x = \" \".join(x).replace(gram, '_'.join(gram.split())).split()\n",
    "    \n",
    "    # for gram in bigrams:\n",
    "        \n",
    "    #     x=x.replace(gram, '_'.join(gram.split()))\n",
    "    return x+bigrams\n",
    "\n",
    "data_words = [replace_ngram(doc) for doc in data_words]\n",
    "\n",
    "# print(data_words[:1][0][:30])"
   ]
  },
  {
   "cell_type": "code",
   "execution_count": 9,
   "metadata": {
    "tags": []
   },
   "outputs": [
    {
     "output_type": "stream",
     "name": "stdout",
     "text": [
      "True\n"
     ]
    }
   ],
   "source": [
    "print(\"wir\" in words)"
   ]
  },
  {
   "cell_type": "code",
   "execution_count": 10,
   "metadata": {},
   "outputs": [
    {
     "output_type": "stream",
     "name": "stdout",
     "text": [
      "['edge', 'tomorrow', 'future', 'retail', 'introductory', 'member', 'executive', 'board', 'th', 'payment', 'forum', 'bank', 'main', 'thank', 'inviting', 'speak', 'fourteenth', 'edition', 'forum', 'bank', 'finland', 'seen', 'forerunner', 'development', 'retail', 'certainly', 'come', 'effect', 'despite', 'ongoing', 'pandemic', 'come', 'ecosystem', 'today', 'like', 'discus', 'promote', 'digital', 'instant', 'retail', 'payment', 'used', 'digital', 'indisputably', 'come', 'long', 'way', 'retail', 'landscape', 'natural', 'starting', 'retail', 'strategy', 'simply', 'way', 'pay', 'increasingly', 'paying', 'pandemic', 'accelerated', 'trend', 'facing', 'positioned', 'wait', 'attitude', 'past', 'overly', 'dependent', 'foreign', 'card', 'resulting', 'high', 'degree', 'market', 'concentration', 'increase', 'choice', 'resilience', 'competitiveness', 'ecosystem', 'stimulate', 'competition', 'innovative', 'grown', 'payment', 'reason', 'key', 'priority', 'retail', 'strategy', 'development', 'payment', 'solution', 'point', 'interaction', 'launch', 'initiative', 'meet', 'public', 'criterion']\n"
     ]
    }
   ],
   "source": [
    "print(data_words[:1][0][:100])"
   ]
  },
  {
   "cell_type": "code",
   "execution_count": 11,
   "metadata": {
    "tags": []
   },
   "outputs": [],
   "source": [
    "# from sklearn.feature_extraction.text import CountVectorizer\n",
    "\n",
    "# from sklearn.decomposition import LatentDirichletAllocation\n",
    "\n",
    "# from sklearn.feature_extraction._stop_words import ENGLISH_STOP_WORDS\n",
    "\n",
    "# vect = CountVectorizer(ngram_range=(1,1), stop_words='english')\n",
    "\n",
    "# from functools import reduce\n",
    "\n",
    "# import numpy as np\n",
    "\n",
    "# docs = []\n",
    "\n",
    "# for doc in data_words:\n",
    "#     docs.append(\" \".join(doc))\n",
    "\n",
    "# fin = vect.fit_transform(docs)\n",
    "\n",
    "\n",
    "\n",
    "# lda = LatentDirichletAllocation(n_components=num_topics)\n",
    "\n",
    "# lda.fit_transform(fin)\n",
    "\n",
    "# lda_dtf=lda.fit_transform(fin)\n",
    "\n",
    " \n",
    "\n",
    "# sorting=np.argsort(lda.components_)[:,::-1]\n",
    "\n",
    "# features=np.array(vect.get_feature_names())"
   ]
  },
  {
   "cell_type": "code",
   "execution_count": 12,
   "metadata": {},
   "outputs": [],
   "source": [
    "import pickle \n",
    "import pyLDAvis\n",
    "import pyLDAvis.sklearn \n",
    "\n",
    "# Visualize the topics\n",
    "pyLDAvis.enable_notebook()\n",
    "LDAvis_data_filepath = os.path.join('ldavis_prepared_'+str(num_topics))\n",
    "lda_model, corpus, id2word)\n",
    "LDAvis_prepared = pyLDAvis.sklearn.prepare(lda, fin, vect)\n",
    "with open(LDAvis_data_filepath, 'wb') as f:\n",
    "    pickle.dump(LDAvis_prepared, f)\n",
    "\n",
    "# load the pre-prepared pyLDAvis data from disk\n",
    "with open(LDAvis_data_filepath, 'rb') as f:\n",
    "    LDAvis_prepared = pickle.load(f)\n",
    "pyLDAvis.save_html(LDAvis_prepared, 'ldavis_prepared_'+ str(num_topics) +'.html')\n",
    "LDAvis_prepared"
   ]
  },
  {
   "cell_type": "code",
   "execution_count": 15,
   "metadata": {},
   "outputs": [
    {
     "output_type": "stream",
     "name": "stdout",
     "text": [
      "[(0, 1), (1, 1), (2, 1), (3, 1), (4, 2), (5, 1), (6, 1), (7, 1), (8, 1), (9, 1), (10, 1), (11, 1), (12, 1), (13, 1), (14, 1), (15, 3), (16, 1), (17, 1), (18, 1), (19, 1), (20, 1), (21, 2), (22, 1), (23, 1), (24, 1), (25, 1), (26, 4), (27, 1), (28, 1), (29, 1)]\n1\n"
     ]
    },
    {
     "output_type": "error",
     "ename": "IndexError",
     "evalue": "list index out of range",
     "traceback": [
      "\u001b[1;31m---------------------------------------------------------------------------\u001b[0m",
      "\u001b[1;31mIndexError\u001b[0m                                Traceback (most recent call last)",
      "\u001b[1;32m<ipython-input-15-07cae2b9fb6b>\u001b[0m in \u001b[0;36m<module>\u001b[1;34m\u001b[0m\n\u001b[0;32m     10\u001b[0m \u001b[0mprint\u001b[0m\u001b[1;33m(\u001b[0m\u001b[0mcorpus\u001b[0m\u001b[1;33m[\u001b[0m\u001b[1;33m:\u001b[0m\u001b[1;36m1\u001b[0m\u001b[1;33m]\u001b[0m\u001b[1;33m[\u001b[0m\u001b[1;36m0\u001b[0m\u001b[1;33m]\u001b[0m\u001b[1;33m[\u001b[0m\u001b[1;33m:\u001b[0m\u001b[1;36m30\u001b[0m\u001b[1;33m]\u001b[0m\u001b[1;33m)\u001b[0m\u001b[1;33m\u001b[0m\u001b[1;33m\u001b[0m\u001b[0m\n\u001b[0;32m     11\u001b[0m \u001b[0mprint\u001b[0m\u001b[1;33m(\u001b[0m\u001b[0mlen\u001b[0m\u001b[1;33m(\u001b[0m\u001b[0mcorpus\u001b[0m\u001b[1;33m)\u001b[0m\u001b[1;33m)\u001b[0m\u001b[1;33m\u001b[0m\u001b[1;33m\u001b[0m\u001b[0m\n\u001b[1;32m---> 12\u001b[1;33m \u001b[0mprint\u001b[0m\u001b[1;33m(\u001b[0m\u001b[0mcorpus\u001b[0m\u001b[1;33m[\u001b[0m\u001b[1;33m:\u001b[0m\u001b[1;33m]\u001b[0m\u001b[1;33m[\u001b[0m\u001b[1;36m1\u001b[0m\u001b[1;33m]\u001b[0m\u001b[1;33m[\u001b[0m\u001b[1;33m:\u001b[0m\u001b[1;36m30\u001b[0m\u001b[1;33m]\u001b[0m\u001b[1;33m)\u001b[0m\u001b[1;33m\u001b[0m\u001b[1;33m\u001b[0m\u001b[0m\n\u001b[0m",
      "\u001b[1;31mIndexError\u001b[0m: list index out of range"
     ]
    }
   ],
   "source": [
    "import gensim.corpora as corpora\n",
    "# Create Dictionary\n",
    "id2word = corpora.Dictionary(data_words)\n",
    "# Create Corpus\n",
    "texts = data_words\n",
    "# Term Document Frequency\n",
    "corpus = [id2word.doc2bow(text) for text in texts]\n",
    "\n",
    "# View\n",
    "print(corpus[:1][0][:30])"
   ]
  },
  {
   "cell_type": "code",
   "execution_count": 14,
   "metadata": {},
   "outputs": [],
   "source": [
    "# coherence = []\n",
    "# for k in range(5,25):\n",
    "#     print('Round: '+str(k))\n",
    "#     lda_model = gensim.models.LdaMulticore(corpus=corpus,\n",
    "#                                        id2word=id2word,\n",
    "#                                        num_topics=k, workers=10, chunksize = 10000)\n",
    "    \n",
    "#     cm = gensim.models.coherencemodel.CoherenceModel(model=lda_model, texts=data_words,\\\n",
    "#                                                      dictionary=id2word, coherence='c_v')\n",
    "#     coherence.append((k,cm.get_coherence()))"
   ]
  },
  {
   "cell_type": "code",
   "execution_count": 15,
   "metadata": {},
   "outputs": [],
   "source": [
    "# import matplotlib.pyplot as plt\n",
    "# x_val = [x[0] for x in coherence]\n",
    "# y_val = [x[1] for x in coherence]\n",
    "# plt.plot(x_val,y_val)\n",
    "# plt.scatter(x_val,y_val)\n",
    "# plt.title('Number of Topics vs. Coherence')\n",
    "# plt.xlabel('Number of Topics')\n",
    "# plt.ylabel('Coherence')\n",
    "# plt.xticks(x_val)\n",
    "# plt.show()\n"
   ]
  },
  {
   "cell_type": "code",
   "execution_count": 16,
   "metadata": {},
   "outputs": [
    {
     "output_type": "stream",
     "name": "stdout",
     "text": [
      "[(0,\n  '0.011*\"retail\" + 0.010*\"instant\" + 0.010*\"payment\" + 0.006*\"digital\" + '\n  '0.006*\"strategy\" + 0.005*\"card\" + 0.005*\"pan\" + 0.005*\"bank\" + 0.005*\"new\" '\n  '+ 0.005*\"future\"'),\n (1,\n  '0.010*\"payment\" + 0.009*\"retail\" + 0.008*\"instant\" + 0.005*\"strategy\" + '\n  '0.005*\"digital\" + 0.004*\"card\" + 0.004*\"pan\" + 0.004*\"come\" + 0.004*\"cost\" '\n  '+ 0.004*\"solution\"'),\n (2,\n  '0.019*\"instant\" + 0.016*\"retail\" + 0.015*\"payment\" + 0.011*\"digital\" + '\n  '0.009*\"strategy\" + 0.007*\"pan\" + 0.007*\"work\" + 0.006*\"card\" + '\n  '0.006*\"reach\" + 0.006*\"electronic\"'),\n (3,\n  '0.013*\"instant\" + 0.013*\"retail\" + 0.012*\"payment\" + 0.009*\"strategy\" + '\n  '0.008*\"digital\" + 0.006*\"card\" + 0.005*\"cost\" + 0.005*\"solution\" + '\n  '0.005*\"pan\" + 0.005*\"reach\"'),\n (4,\n  '0.023*\"instant\" + 0.018*\"payment\" + 0.018*\"retail\" + 0.009*\"strategy\" + '\n  '0.008*\"digital\" + 0.008*\"work\" + 0.006*\"card\" + 0.006*\"release\" + '\n  '0.006*\"pan\" + 0.006*\"press\"')]\n"
     ]
    }
   ],
   "source": [
    "from pprint import pprint\n",
    "# number of topics\n",
    "\n",
    "# Build LDA model\n",
    "lda_model = gensim.models.LdaMulticore(corpus=corpus,\n",
    "                                       id2word=id2word,\n",
    "                                       num_topics=num_topics, workers=10, chunksize = 10000)\n",
    "# Print the Keyword in the 10 topics\n",
    "pprint(lda_model.print_topics())\n",
    "doc_lda = lda_model[corpus]"
   ]
  },
  {
   "cell_type": "code",
   "execution_count": 17,
   "metadata": {},
   "outputs": [
    {
     "output_type": "execute_result",
     "data": {
      "text/plain": [
       "PreparedData(topic_coordinates=              x         y  topics  cluster       Freq\n",
       "topic                                                \n",
       "4     -0.003407 -0.001275       1        1  87.059198\n",
       "2     -0.002318  0.001598       2        1  12.814607\n",
       "3      0.000361 -0.000104       3        1   0.042248\n",
       "0      0.001851 -0.000099       4        1   0.042036\n",
       "1      0.003513 -0.000119       5        1   0.041910, topic_info=         Term       Freq      Total Category  logprob  loglift\n",
       "180   instant  10.000000  10.000000  Default  30.0000  30.0000\n",
       "255   payment   8.000000   8.000000  Default  29.0000  29.0000\n",
       "300    retail   8.000000   8.000000  Default  28.0000  28.0000\n",
       "334  strategy   4.000000   4.000000  Default  27.0000  27.0000\n",
       "88    digital   4.000000   4.000000  Default  26.0000  26.0000\n",
       "..        ...        ...        ...      ...      ...      ...\n",
       "231       new   0.000722   2.468667   Topic5  -5.6296  -0.3595\n",
       "197    launch   0.000730   2.598256   Topic5  -5.6192  -0.4002\n",
       "70      cross   0.000703   2.421945   Topic5  -5.6564  -0.3672\n",
       "286     reach   0.000684   2.223642   Topic5  -5.6839  -0.3093\n",
       "371      work   0.000724   3.621641   Topic5  -5.6265  -0.7396\n",
       "\n",
       "[336 rows x 6 columns], token_table=      Topic      Freq               Term\n",
       "term                                    \n",
       "1         1  0.962846  accelerated_trend\n",
       "4         1  0.577055             access\n",
       "7         1  1.083387               area\n",
       "13        1  0.990872          available\n",
       "15        1  0.872880               bank\n",
       "...     ...       ...                ...\n",
       "360       1  1.013357              trend\n",
       "364       1  0.850599               used\n",
       "365       1  0.997235             vision\n",
       "369       1  1.115000                way\n",
       "371       1  0.828354               work\n",
       "\n",
       "[148 rows x 3 columns], R=30, lambda_step=0.01, plot_opts={'xlab': 'PC1', 'ylab': 'PC2'}, topic_order=[5, 3, 4, 1, 2])"
      ],
      "text/html": "\n<link rel=\"stylesheet\" type=\"text/css\" href=\"https://cdn.jsdelivr.net/gh/bmabey/pyLDAvis@3.3.1/pyLDAvis/js/ldavis.v1.0.0.css\">\n\n\n<div id=\"ldavis_el429002213302175664272057595\"></div>\n<script type=\"text/javascript\">\n\nvar ldavis_el429002213302175664272057595_data = {\"mdsDat\": {\"x\": [-0.0034067943876290975, -0.0023178446024164088, 0.00036102982979867803, 0.0018507413892766941, 0.003512867770970139], \"y\": [-0.0012754593038588158, 0.00159816967876311, -0.00010398060616037677, -9.926454640574562e-05, -0.00011946522233817505], \"topics\": [1, 2, 3, 4, 5], \"cluster\": [1, 1, 1, 1, 1], \"Freq\": [87.05919834951452, 12.814607388536176, 0.04224806543883647, 0.04203607603721527, 0.04191012047325418]}, \"tinfo\": {\"Term\": [\"instant\", \"payment\", \"retail\", \"strategy\", \"digital\", \"card\", \"pan\", \"work\", \"press\", \"release\", \"solution\", \"cost\", \"bank\", \"come\", \"cross\", \"new\", \"service\", \"launch\", \"initiative\", \"future\", \"used\", \"electronic\", \"reach\", \"eu\", \"ecosystem\", \"like\", \"development\", \"meet\", \"way\", \"key\", \"safe\", \"release\", \"ecosystem\", \"like\", \"convenience_cost\", \"eu\", \"facing_positioned\", \"press\", \"strategy_study\", \"electronic_offer\", \"innovation\", \"environmental_access\", \"contribute\", \"governance_global\", \"operational_taken\", \"experience\", \"privacy_legal\", \"solution\", \"sector_contrast\", \"cost\", \"progress\", \"role_play\", \"excessive_hidden\", \"instant\", \"faster\", \"payment\", \"meet\", \"natural\", \"thank_inviting\", \"contrast\", \"retail\", \"development\", \"work\", \"key\", \"card\", \"strategy\", \"way\", \"international\", \"come\", \"launch\", \"bank\", \"pan\", \"cross\", \"new\", \"service\", \"digital\", \"pay\", \"initiative\", \"used\", \"future\", \"electronic\", \"reach\", \"ensure\", \"overly\", \"make\", \"border\", \"indisputably\", \"area\", \"desired_request\", \"legal\", \"hidden\", \"sector\", \"exploring_support\", \"commission_outlined\", \"high_degree\", \"digital\", \"brand_governance\", \"innovation_investigating\", \"degree_market\", \"investigating\", \"reach\", \"form_digital\", \"transaction\", \"remain_open\", \"cost_service\", \"overly_dependent\", \"electronic\", \"effect_despite\", \"provide_cost\", \"public_criterion\", \"form\", \"tomorrow_future\", \"offer\", \"future\", \"used\", \"priority\", \"forum\", \"pan\", \"strategy\", \"promote\", \"initiative\", \"retail\", \"point\", \"instant\", \"payment\", \"new\", \"service\", \"card\", \"launch\", \"work\", \"pandemic\", \"cross\", \"come\", \"access\", \"bank\", \"solution\", \"release\", \"cost\", \"press\", \"come_ecosystem\", \"indisputably\", \"remain_open\", \"area\", \"brand\", \"forerunner_development\", \"resulting\", \"rose\", \"today\", \"digital_money\", \"international_card\", \"conclude_commission\", \"competitiveness_ecosystem\", \"efficiency_safety\", \"settlement\", \"stimulate_competition\", \"effect_despite\", \"legal\", \"pan_reach\", \"speak_fourteenth\", \"cross_eu\", \"vision\", \"far_le\", \"finland_seen\", \"private\", \"fourteenth_edition\", \"increase\", \"cost_efficiency\", \"ecosystem_stimulate\", \"pandemic\", \"transaction\", \"digital\", \"strategy\", \"reach\", \"cost\", \"market\", \"solution\", \"bank\", \"retail\", \"promote\", \"role\", \"offer\", \"card\", \"payment\", \"instant\", \"future\", \"cross\", \"priority\", \"electronic\", \"pan\", \"eu\", \"press\", \"used\", \"service\", \"efficiency\", \"initiative\", \"border\", \"international\", \"launch\", \"come\", \"work\", \"release\", \"new\", \"indisputably\", \"settlement\", \"goal\", \"stimulate_competition\", \"effect\", \"come_ecosystem\", \"innovation_investigating\", \"remain_open\", \"brand\", \"sector\", \"today\", \"exploring_support\", \"legal\", \"cross_eu\", \"fourteenth_edition\", \"request_pay\", \"trend\", \"total\", \"area\", \"forerunner\", \"digital_money\", \"foreign\", \"pan_reach\", \"accelerated_trend\", \"ensure_pan\", \"long_way\", \"make_happen\", \"tomorrow\", \"speak_fourteenth\", \"vision\", \"natural_starting\", \"provided\", \"commerce_initiative\", \"bank\", \"future\", \"ensure\", \"new\", \"environmental_access\", \"retail\", \"efficiency\", \"initiative\", \"card\", \"payment\", \"pan\", \"digital\", \"press\", \"service\", \"way\", \"instant\", \"cross\", \"cost\", \"key\", \"strategy\", \"ongoing\", \"solution\", \"electronic\", \"come\", \"border\", \"used\", \"reach\", \"promote\", \"offer\", \"work\", \"international\", \"release\", \"development\", \"launch\", \"come_ecosystem\", \"innovation_investigating\", \"stimulate_competition\", \"pandemic_come\", \"exploring_support\", \"overly\", \"privacy\", \"sector\", \"legal\", \"settlement\", \"indisputably\", \"concentration\", \"effect_despite\", \"overly_dependent\", \"today\", \"area\", \"foreign_card\", \"fourteenth_edition\", \"foreign\", \"desired_request\", \"private_sector\", \"cost_service\", \"commerce_initiative\", \"effect\", \"seen_forerunner\", \"remain_open\", \"available\", \"speak_fourteenth\", \"brand\", \"inviting\", \"grown\", \"national\", \"edge\", \"increase_choice\", \"transaction_change\", \"easier_faster\", \"efficiency\", \"payment\", \"retail\", \"come\", \"electronic\", \"cost\", \"digital\", \"solution\", \"initiative\", \"promote\", \"strategy\", \"instant\", \"bank\", \"card\", \"pan\", \"used\", \"forum\", \"press\", \"point\", \"future\", \"make\", \"ongoing\", \"service\", \"release\", \"eu\", \"way\", \"new\", \"launch\", \"cross\", \"reach\", \"work\"], \"Freq\": [10.0, 8.0, 8.0, 4.0, 4.0, 3.0, 3.0, 3.0, 2.0, 2.0, 2.0, 2.0, 2.0, 2.0, 2.0, 2.0, 2.0, 2.0, 2.0, 2.0, 2.0, 2.0, 2.0, 1.0, 2.0, 2.0, 1.0, 1.0, 1.0, 1.0, 1.1573927653048255, 2.672766969815137, 1.857027973994696, 1.918011694890871, 1.103135716640038, 1.7331149967658321, 1.1237031669263287, 2.369417753541452, 1.0552647061016551, 1.0514072997245782, 1.1066869317779315, 1.0357942708207002, 1.0307028563449383, 1.071693272014378, 1.070736655470479, 1.0421740819883163, 0.999656504675972, 2.225232133606445, 1.0916925123112087, 2.1835951844815327, 1.086742177370501, 1.0841002928082055, 1.0559574552668871, 9.681572779698584, 1.087782760561815, 7.709491817868894, 1.7540076110563652, 1.0220945723008512, 1.0135855304124575, 1.031414189090305, 7.384190820533227, 1.7161249343035934, 3.1941500345923313, 1.5871066292379243, 2.6990966920904302, 3.8097798719671783, 1.5887787622651262, 1.5998666407580808, 2.180916619240123, 2.262861645565968, 2.0052912789739263, 2.6314793141597725, 2.106638730515207, 2.1413162748240078, 2.0905912739395927, 3.3827221951423425, 1.6255514836138296, 2.0027002803404814, 2.003714690845637, 1.9114599612829508, 1.909225066855229, 1.8658015643353743, 0.27467208224703166, 0.16874726767972137, 0.27754075241431253, 0.26721307579747666, 0.15148377542414548, 0.1563696489223393, 0.1652822241481583, 0.15667206042899562, 0.1608649194923012, 0.15681294042477978, 0.15722340718895278, 0.16113877404952237, 0.16078970329449105, 0.6577700608529513, 0.1705543611785565, 0.15281062810783064, 0.16705679365894566, 0.15989558721267783, 0.35536093155550064, 0.16767049596445982, 0.253764041543032, 0.1465505838913811, 0.16114616391206427, 0.1549836057311238, 0.35367398060872746, 0.15127525527180052, 0.16371366853788483, 0.15879482708703319, 0.15676765603455212, 0.15788174941993804, 0.2434531210098667, 0.33455660671299015, 0.34511657707096854, 0.24412218999868895, 0.25946821342478943, 0.426334202551476, 0.5811385611516418, 0.23705158097575452, 0.3282124097207728, 0.959445388257143, 0.2553260808985447, 1.1509233145796127, 0.9199822047110295, 0.32488459421804006, 0.31824391479492675, 0.3783138732535063, 0.3331037253657998, 0.4250010484346156, 0.23584174877042174, 0.3127801425888055, 0.30900028518438205, 0.23961295602566823, 0.28318632096754004, 0.25754126380267306, 0.26508095723974945, 0.2546289991749706, 0.24740618189797559, 0.0005641669001230001, 0.0005560579487337049, 0.0005575769783484549, 0.0005487827355309463, 0.0005596571216005819, 0.0005736552637401618, 0.0005702224796698277, 0.0005607799626819064, 0.000549265423574947, 0.0005376613159245591, 0.0005560106856277629, 0.0005744553842129815, 0.0005415635675896794, 0.0005580471069657018, 0.000524220604582932, 0.0005137641263561459, 0.0005248484814888424, 0.0005032267673097009, 0.0005344891635673116, 0.0005295215797749501, 0.0005409758714062032, 0.0005276363909328475, 0.0005288325582914226, 0.0005562988442047497, 0.0005191501845820375, 0.0005097762250664715, 0.0005205552350382022, 0.0005330279734178751, 0.0005421639648475795, 0.0008434382189888984, 0.0007881468063978495, 0.0017192066688048215, 0.0018281152185256784, 0.0010272067125010383, 0.0010614129250716055, 0.0007989198671674337, 0.0010585705284904805, 0.0009927415679894264, 0.0025832969292388652, 0.0007520937915037919, 0.0007869455869390389, 0.0007518752763646316, 0.0011923020769518886, 0.002426945097739608, 0.002682904892937297, 0.000907821428936563, 0.0009459591198081926, 0.0007382356444782159, 0.0008925115821554509, 0.0010520527525959347, 0.0008016631103794497, 0.0009428440986779078, 0.0008852135164619072, 0.0008872233080378569, 0.0007224736111180767, 0.0008426241226126233, 0.00070125653711668, 0.0007438985766833718, 0.0008516398079544754, 0.0008244645135715382, 0.0009269836201870104, 0.000779634631307511, 0.0007480487589871547, 0.0005323327948272545, 0.0005735836220407953, 0.0005754579891233352, 0.0005414501921197719, 0.0005589925636151892, 0.0005156029716565555, 0.0005334869742468706, 0.0005221489278585444, 0.0005244147707268081, 0.0005283560717040422, 0.0005383940219812298, 0.0005186864365786697, 0.0005061889021467281, 0.0005526555229081137, 0.0005214486592803615, 0.0005398605176163134, 0.0005254384895371652, 0.000530692430011448, 0.0004830448987945557, 0.0005509097842548683, 0.0005019628146324655, 0.0005559341854648951, 0.0005196088217433042, 0.0005378503813005151, 0.0005482791966367716, 0.0005455688857007373, 0.0005207967320658544, 0.0005075296350698973, 0.0005076791221634018, 0.0005109998778803906, 0.0005309165666937579, 0.0005412799403200043, 0.0005288767396667419, 0.001008729699089497, 0.0009382385010976713, 0.0007104394319759426, 0.0009958718359312263, 0.0005691356058559749, 0.002170686581717449, 0.0007114600971530258, 0.0009077345838495884, 0.0010860212914034942, 0.002031487883397587, 0.0010447476324088587, 0.0012324231817638517, 0.0009355335457646098, 0.0008895521238409723, 0.0007445429251484151, 0.00210786705008932, 0.0008772321699286557, 0.0008786500893051964, 0.0007353528983629505, 0.0011432572780796448, 0.0007060124153922525, 0.0008308577219131707, 0.0007846201706263067, 0.0008166548507451471, 0.0006643048585988718, 0.0007893453157754838, 0.0007687209826851026, 0.0006679610911652369, 0.0006614774290820372, 0.0008385615218947044, 0.000679835214619553, 0.0007559505473964145, 0.0006840986504177049, 0.0007092607765111613, 0.0005696861345621813, 0.0005414355294105122, 0.0005288046232526124, 0.0005833728207472447, 0.0005279445332548836, 0.0005229335008257049, 0.0005597563409718914, 0.0005204221298352229, 0.0005107916323885634, 0.0005236593525217677, 0.0004837340432109808, 0.0005689114306160704, 0.0005227924709840035, 0.00053003955942209, 0.0005261118478858736, 0.0004922339600136726, 0.0005567646441671792, 0.0005183378296174518, 0.00056639528212846, 0.0005178817659945206, 0.0005378669264084453, 0.000539428605910938, 0.0005492709994067029, 0.0005157129228128602, 0.0005386353540347993, 0.0004862791845488114, 0.0005291317412912846, 0.0005207183814953892, 0.000494411749292897, 0.0005382399927283228, 0.0005537523853895322, 0.0005568954164415166, 0.0005608797085319593, 0.0005542108377610275, 0.0005473777053976525, 0.0005331107406643203, 0.0007269987637557635, 0.0020506570829930586, 0.0017552048573462025, 0.0008852581336302851, 0.0008151809626635647, 0.0008456508089077779, 0.00107744138649642, 0.0008423497457448999, 0.0008136672454851844, 0.0006700228950612592, 0.0010955237447452448, 0.0016854352260475694, 0.0007865871739681741, 0.0008928595062671855, 0.0008855869378444144, 0.0007791365735200604, 0.0006822335219864835, 0.0007993967678863166, 0.0006732860661145602, 0.0007422635228158188, 0.0006522869053542416, 0.0006632347742149467, 0.0007493620872990614, 0.0008000138144271911, 0.0006873448818553582, 0.0006710204083587394, 0.0007221823440772552, 0.0007297650751077135, 0.000703089076803708, 0.0006840249897332095, 0.0007244702031432607], \"Total\": [10.0, 8.0, 8.0, 4.0, 4.0, 3.0, 3.0, 3.0, 2.0, 2.0, 2.0, 2.0, 2.0, 2.0, 2.0, 2.0, 2.0, 2.0, 2.0, 2.0, 2.0, 2.0, 2.0, 1.0, 2.0, 2.0, 1.0, 1.0, 1.0, 1.0, 1.272176823890371, 2.940183526048018, 2.0432902330160294, 2.1112315012306513, 1.2145424812625072, 1.9091632564927319, 1.241515501976815, 2.619501709851756, 1.1699811311889414, 1.1660011457954513, 1.2294052670181712, 1.1510043005429997, 1.1479806055565094, 1.194216306329444, 1.1941223969955292, 1.1634161491385306, 1.1162437293075775, 2.4855051754052666, 1.2197262453291426, 2.4410098974797876, 1.215141961784023, 1.2126951513568587, 1.1821026208397545, 10.83897230144727, 1.2179213716168418, 8.635983112644055, 1.9651569641406748, 1.1456561344784726, 1.13662696116746, 1.156688132817354, 8.350145397158672, 1.9262001890009173, 3.6216410983721716, 1.7902953556525083, 3.0805817482185596, 4.394985329360171, 1.7937214516886357, 1.8070280757866573, 2.492443281922452, 2.598256036591341, 2.291265658382514, 3.0607959040340975, 2.421945153470553, 2.4686669719810435, 2.4113613262536973, 4.04452132723236, 1.8564262232480913, 2.3334767160132013, 2.351284963322364, 2.248604891448791, 2.265391360179402, 2.2236424485757937, 1.548364021384039, 0.9513850065734, 1.616636574419757, 1.5729553667558416, 0.8931726652817215, 0.923031320314281, 0.9779103768481555, 0.9379166744350903, 0.9762301601700905, 0.9540554435829621, 0.9572646693180143, 0.9812260154250791, 0.9833057258614474, 4.04452132723236, 1.0490510377988063, 0.9452745411314706, 1.04470016940574, 1.000193959649502, 2.2236424485757937, 1.0533736032686898, 1.601253453812317, 0.9266487763189469, 1.0203294419650542, 0.9879177442872099, 2.265391360179402, 0.9731817418207601, 1.0562302205673817, 1.0275385343169787, 1.0185926384841515, 1.0338531656922034, 1.6061322462084053, 2.248604891448791, 2.351284963322364, 1.636951230129576, 1.7584662820982326, 3.0607959040340975, 4.394985329360171, 1.5954110338486853, 2.3334767160132013, 8.350145397158672, 1.7413740353568086, 10.83897230144727, 8.635983112644055, 2.4686669719810435, 2.4113613262536973, 3.0805817482185596, 2.598256036591341, 3.6216410983721716, 1.6335250118396558, 2.421945153470553, 2.492443281922452, 1.7329365511283645, 2.291265658382514, 2.4855051754052666, 2.940183526048018, 2.4410098974797876, 2.619501709851756, 0.9059041197326155, 0.8931726652817215, 0.9266487763189469, 0.923031320314281, 0.9444255142765932, 1.0018010851161414, 1.0094763134837923, 0.9934994898050961, 0.9811888997802107, 0.9634215859677826, 0.9990420645312508, 1.0436030181444096, 0.9857680900657322, 1.022563805157016, 0.9641154798515076, 0.9480179279019484, 0.9731817418207601, 0.9379166744350903, 1.002226140850698, 0.9934169578963749, 1.0269819639397761, 1.0027726388127165, 1.0053680474811024, 1.0576171798648941, 0.9921438565549596, 0.9755897629644387, 0.9972505173257367, 1.029733528087644, 1.0475004544521713, 1.6335250118396558, 1.601253453812317, 4.04452132723236, 4.394985329360171, 2.2236424485757937, 2.4410098974797876, 1.715755679595849, 2.4855051754052666, 2.291265658382514, 8.350145397158672, 1.5954110338486853, 1.6966837799826684, 1.6061322462084053, 3.0805817482185596, 8.635983112644055, 10.83897230144727, 2.248604891448791, 2.421945153470553, 1.636951230129576, 2.265391360179402, 3.0607959040340975, 1.9091632564927319, 2.619501709851756, 2.351284963322364, 2.4113613262536973, 1.6084936357257633, 2.3334767160132013, 1.5729553667558416, 1.8070280757866573, 2.598256036591341, 2.492443281922452, 3.6216410983721716, 2.940183526048018, 2.4686669719810435, 0.8931726652817215, 0.9641154798515076, 0.9993131054986886, 0.9480179279019484, 0.9788566951110945, 0.9059041197326155, 0.9452745411314706, 0.9266487763189469, 0.9444255142765932, 0.9540554435829621, 0.9811888997802107, 0.9572646693180143, 0.9379166744350903, 1.0269819639397761, 0.9755897629644387, 1.0105594398101794, 0.9868191382149447, 1.008498023276997, 0.923031320314281, 1.0540703589516442, 0.9634215859677826, 1.0690215311402018, 1.002226140850698, 1.0385877459310477, 1.0605358406526353, 1.058212502678205, 1.013901539679889, 0.9924232691576902, 0.9934169578963749, 1.0027726388127165, 1.0439877894573317, 1.0660251992038783, 1.0422231719571862, 2.291265658382514, 2.248604891448791, 1.548364021384039, 2.4686669719810435, 1.1510043005429997, 8.350145397158672, 1.6084936357257633, 2.3334767160132013, 3.0805817482185596, 8.635983112644055, 3.0607959040340975, 4.04452132723236, 2.619501709851756, 2.4113613262536973, 1.7937214516886357, 10.83897230144727, 2.421945153470553, 2.4410098974797876, 1.7902953556525083, 4.394985329360171, 1.7136315327356306, 2.4855051754052666, 2.265391360179402, 2.492443281922452, 1.5729553667558416, 2.351284963322364, 2.2236424485757937, 1.5954110338486853, 1.6061322462084053, 3.6216410983721716, 1.8070280757866573, 2.940183526048018, 1.9262001890009173, 2.598256036591341, 0.9059041197326155, 0.9452745411314706, 0.9480179279019484, 1.0514933170073137, 0.9572646693180143, 0.9513850065734, 1.02534978205327, 0.9540554435829621, 0.9379166744350903, 0.9641154798515076, 0.8931726652817215, 1.056027804644192, 0.9731817418207601, 0.9879177442872099, 0.9811888997802107, 0.923031320314281, 1.0476155798491569, 0.9755897629644387, 1.0690215311402018, 0.9779103768481555, 1.0166015556410923, 1.0203294419650542, 1.0422231719571862, 0.9788566951110945, 1.0243179525108586, 0.9266487763189469, 1.0092124451199234, 0.9934169578963749, 0.9444255142765932, 1.0302529979296862, 1.0603129747694782, 1.0667763436323783, 1.0765093170424125, 1.0720757648883497, 1.0579454721066028, 1.0225715458102882, 1.6084936357257633, 8.635983112644055, 8.350145397158672, 2.492443281922452, 2.265391360179402, 2.4410098974797876, 4.04452132723236, 2.4855051754052666, 2.3334767160132013, 1.5954110338486853, 4.394985329360171, 10.83897230144727, 2.291265658382514, 3.0805817482185596, 3.0607959040340975, 2.351284963322364, 1.7584662820982326, 2.619501709851756, 1.7413740353568086, 2.248604891448791, 1.616636574419757, 1.7136315327356306, 2.4113613262536973, 2.940183526048018, 1.9091632564927319, 1.7937214516886357, 2.4686669719810435, 2.598256036591341, 2.421945153470553, 2.2236424485757937, 3.6216410983721716], \"Category\": [\"Default\", \"Default\", \"Default\", \"Default\", \"Default\", \"Default\", \"Default\", \"Default\", \"Default\", \"Default\", \"Default\", \"Default\", \"Default\", \"Default\", \"Default\", \"Default\", \"Default\", \"Default\", \"Default\", \"Default\", \"Default\", \"Default\", \"Default\", \"Default\", \"Default\", \"Default\", \"Default\", \"Default\", \"Default\", \"Default\", \"Topic1\", \"Topic1\", \"Topic1\", \"Topic1\", \"Topic1\", \"Topic1\", \"Topic1\", \"Topic1\", \"Topic1\", \"Topic1\", \"Topic1\", \"Topic1\", \"Topic1\", \"Topic1\", \"Topic1\", \"Topic1\", \"Topic1\", \"Topic1\", \"Topic1\", \"Topic1\", \"Topic1\", \"Topic1\", \"Topic1\", \"Topic1\", \"Topic1\", \"Topic1\", \"Topic1\", \"Topic1\", \"Topic1\", \"Topic1\", \"Topic1\", \"Topic1\", \"Topic1\", \"Topic1\", \"Topic1\", \"Topic1\", \"Topic1\", \"Topic1\", \"Topic1\", \"Topic1\", \"Topic1\", \"Topic1\", \"Topic1\", \"Topic1\", \"Topic1\", \"Topic1\", \"Topic1\", \"Topic1\", \"Topic1\", \"Topic1\", \"Topic1\", \"Topic1\", \"Topic2\", \"Topic2\", \"Topic2\", \"Topic2\", \"Topic2\", \"Topic2\", \"Topic2\", \"Topic2\", \"Topic2\", \"Topic2\", \"Topic2\", \"Topic2\", \"Topic2\", \"Topic2\", \"Topic2\", \"Topic2\", \"Topic2\", \"Topic2\", \"Topic2\", \"Topic2\", \"Topic2\", \"Topic2\", \"Topic2\", \"Topic2\", \"Topic2\", \"Topic2\", \"Topic2\", \"Topic2\", \"Topic2\", \"Topic2\", \"Topic2\", \"Topic2\", \"Topic2\", \"Topic2\", \"Topic2\", \"Topic2\", \"Topic2\", \"Topic2\", \"Topic2\", \"Topic2\", \"Topic2\", \"Topic2\", \"Topic2\", \"Topic2\", \"Topic2\", \"Topic2\", \"Topic2\", \"Topic2\", \"Topic2\", \"Topic2\", \"Topic2\", \"Topic2\", \"Topic2\", \"Topic2\", \"Topic2\", \"Topic2\", \"Topic2\", \"Topic3\", \"Topic3\", \"Topic3\", \"Topic3\", \"Topic3\", \"Topic3\", \"Topic3\", \"Topic3\", \"Topic3\", \"Topic3\", \"Topic3\", \"Topic3\", \"Topic3\", \"Topic3\", \"Topic3\", \"Topic3\", \"Topic3\", \"Topic3\", \"Topic3\", \"Topic3\", \"Topic3\", \"Topic3\", \"Topic3\", \"Topic3\", \"Topic3\", \"Topic3\", \"Topic3\", \"Topic3\", \"Topic3\", \"Topic3\", \"Topic3\", \"Topic3\", \"Topic3\", \"Topic3\", \"Topic3\", \"Topic3\", \"Topic3\", \"Topic3\", \"Topic3\", \"Topic3\", \"Topic3\", \"Topic3\", \"Topic3\", \"Topic3\", \"Topic3\", \"Topic3\", \"Topic3\", \"Topic3\", \"Topic3\", \"Topic3\", \"Topic3\", \"Topic3\", \"Topic3\", \"Topic3\", \"Topic3\", \"Topic3\", \"Topic3\", \"Topic3\", \"Topic3\", \"Topic3\", \"Topic3\", \"Topic3\", \"Topic3\", \"Topic4\", \"Topic4\", \"Topic4\", \"Topic4\", \"Topic4\", \"Topic4\", \"Topic4\", \"Topic4\", \"Topic4\", \"Topic4\", \"Topic4\", \"Topic4\", \"Topic4\", \"Topic4\", \"Topic4\", \"Topic4\", \"Topic4\", \"Topic4\", \"Topic4\", \"Topic4\", \"Topic4\", \"Topic4\", \"Topic4\", \"Topic4\", \"Topic4\", \"Topic4\", \"Topic4\", \"Topic4\", \"Topic4\", \"Topic4\", \"Topic4\", \"Topic4\", \"Topic4\", \"Topic4\", \"Topic4\", \"Topic4\", \"Topic4\", \"Topic4\", \"Topic4\", \"Topic4\", \"Topic4\", \"Topic4\", \"Topic4\", \"Topic4\", \"Topic4\", \"Topic4\", \"Topic4\", \"Topic4\", \"Topic4\", \"Topic4\", \"Topic4\", \"Topic4\", \"Topic4\", \"Topic4\", \"Topic4\", \"Topic4\", \"Topic4\", \"Topic4\", \"Topic4\", \"Topic4\", \"Topic4\", \"Topic4\", \"Topic4\", \"Topic4\", \"Topic4\", \"Topic4\", \"Topic4\", \"Topic5\", \"Topic5\", \"Topic5\", \"Topic5\", \"Topic5\", \"Topic5\", \"Topic5\", \"Topic5\", \"Topic5\", \"Topic5\", \"Topic5\", \"Topic5\", \"Topic5\", \"Topic5\", \"Topic5\", \"Topic5\", \"Topic5\", \"Topic5\", \"Topic5\", \"Topic5\", \"Topic5\", \"Topic5\", \"Topic5\", \"Topic5\", \"Topic5\", \"Topic5\", \"Topic5\", \"Topic5\", \"Topic5\", \"Topic5\", \"Topic5\", \"Topic5\", \"Topic5\", \"Topic5\", \"Topic5\", \"Topic5\", \"Topic5\", \"Topic5\", \"Topic5\", \"Topic5\", \"Topic5\", \"Topic5\", \"Topic5\", \"Topic5\", \"Topic5\", \"Topic5\", \"Topic5\", \"Topic5\", \"Topic5\", \"Topic5\", \"Topic5\", \"Topic5\", \"Topic5\", \"Topic5\", \"Topic5\", \"Topic5\", \"Topic5\", \"Topic5\", \"Topic5\", \"Topic5\", \"Topic5\", \"Topic5\", \"Topic5\", \"Topic5\", \"Topic5\", \"Topic5\", \"Topic5\"], \"logprob\": [30.0, 29.0, 28.0, 27.0, 26.0, 25.0, 24.0, 23.0, 22.0, 21.0, 20.0, 19.0, 18.0, 17.0, 16.0, 15.0, 14.0, 13.0, 12.0, 11.0, 10.0, 9.0, 8.0, 7.0, 6.0, 5.0, 4.0, 3.0, 2.0, 1.0, -5.889, -5.0521, -5.4162, -5.3839, -5.937, -5.4853, -5.9186, -5.1726, -5.9814, -5.9851, -5.9338, -6.0, -6.005, -5.966, -5.9669, -5.9939, -6.0355, -5.2353, -5.9475, -5.2542, -5.952, -5.9545, -5.9808, -3.765, -5.9511, -3.9928, -5.4733, -6.0134, -6.0217, -6.0043, -4.0359, -5.4951, -4.8739, -5.5733, -5.0423, -4.6976, -5.5722, -5.5653, -5.2555, -5.2186, -5.3394, -5.0677, -5.2901, -5.2738, -5.2978, -4.8165, -5.5494, -5.3407, -5.3402, -5.3873, -5.3885, -5.4115, -5.4114, -5.8986, -5.401, -5.4389, -6.0065, -5.9747, -5.9193, -5.9728, -5.9464, -5.9719, -5.9693, -5.9447, -5.9469, -4.5381, -5.8879, -5.9978, -5.9086, -5.9524, -5.1538, -5.905, -5.4906, -6.0396, -5.9446, -5.9836, -5.1586, -6.0079, -5.9288, -5.9593, -5.9722, -5.9651, -5.532, -5.2142, -5.1831, -5.5293, -5.4683, -4.9717, -4.662, -5.5587, -5.2333, -4.1606, -5.4844, -3.9786, -4.2026, -5.2435, -5.2641, -5.0912, -5.2185, -4.9749, -5.5638, -5.2815, -5.2936, -5.5479, -5.3809, -5.4758, -5.4469, -5.4871, -5.5159, -5.8846, -5.8991, -5.8963, -5.9122, -5.8926, -5.8679, -5.8739, -5.8906, -5.9113, -5.9327, -5.8991, -5.8665, -5.9255, -5.8955, -5.958, -5.9782, -5.9568, -5.9989, -5.9386, -5.948, -5.9266, -5.9515, -5.9493, -5.8986, -5.9677, -5.986, -5.965, -5.9414, -5.9244, -5.4824, -5.5502, -4.7703, -4.7089, -5.2853, -5.2526, -5.5367, -5.2553, -5.3195, -4.3631, -5.5971, -5.5518, -5.5974, -5.1363, -4.4255, -4.3253, -5.4089, -5.3677, -5.6157, -5.4259, -5.2614, -5.5332, -5.371, -5.4341, -5.4318, -5.6372, -5.4834, -5.6671, -5.608, -5.4728, -5.5052, -5.388, -5.5611, -5.6025, -5.9376, -5.863, -5.8597, -5.9206, -5.8888, -5.9696, -5.9355, -5.9569, -5.9526, -5.9451, -5.9263, -5.9636, -5.988, -5.9002, -5.9583, -5.9236, -5.9507, -5.9407, -6.0348, -5.9033, -5.9964, -5.8942, -5.9618, -5.9273, -5.9081, -5.9131, -5.9595, -5.9853, -5.985, -5.9785, -5.9403, -5.921, -5.9441, -5.2985, -5.3709, -5.649, -5.3113, -5.8708, -4.5321, -5.6476, -5.4039, -5.2246, -4.5984, -5.2634, -5.0982, -5.3738, -5.4242, -5.6021, -4.5615, -5.4381, -5.4365, -5.6145, -5.1733, -5.6553, -5.4924, -5.5497, -5.5097, -5.7162, -5.5437, -5.5702, -5.7107, -5.7204, -5.4832, -5.693, -5.5869, -5.6868, -5.6507, -5.8668, -5.9177, -5.9413, -5.8431, -5.9429, -5.9524, -5.8844, -5.9573, -5.9759, -5.9511, -6.0304, -5.8682, -5.9527, -5.9389, -5.9464, -6.0129, -5.8898, -5.9613, -5.8726, -5.9622, -5.9243, -5.9214, -5.9033, -5.9663, -5.9229, -6.0251, -5.9407, -5.9567, -6.0085, -5.9236, -5.8952, -5.8895, -5.8824, -5.8944, -5.9068, -5.9332, -5.623, -4.586, -4.7416, -5.426, -5.5085, -5.4718, -5.2296, -5.4757, -5.5103, -5.7046, -5.2129, -4.7821, -5.5442, -5.4175, -5.4256, -5.5537, -5.6865, -5.528, -5.6997, -5.6022, -5.7314, -5.7148, -5.5927, -5.5273, -5.6791, -5.7031, -5.6296, -5.6192, -5.6564, -5.6839, -5.6265], \"loglift\": [30.0, 29.0, 28.0, 27.0, 26.0, 25.0, 24.0, 23.0, 22.0, 21.0, 20.0, 19.0, 18.0, 17.0, 16.0, 15.0, 14.0, 13.0, 12.0, 11.0, 10.0, 9.0, 8.0, 7.0, 6.0, 5.0, 4.0, 3.0, 2.0, 1.0, 0.044, 0.0432, 0.043, 0.0426, 0.0424, 0.0418, 0.0389, 0.0382, 0.0354, 0.0351, 0.0334, 0.0331, 0.0308, 0.0303, 0.0295, 0.0285, 0.0283, 0.028, 0.0277, 0.0271, 0.0269, 0.0265, 0.0257, 0.0257, 0.0256, 0.0251, 0.0249, 0.0245, 0.024, 0.024, 0.0156, 0.0231, 0.013, 0.0181, 0.0064, -0.0043, 0.0173, 0.0168, 0.0051, 0.0004, 0.0053, -0.0125, -0.0009, -0.0037, -0.0042, -0.0401, 0.0058, -0.0143, -0.0214, -0.0239, -0.0325, -0.0369, 0.3252, 0.3251, 0.2924, 0.2819, 0.2803, 0.2791, 0.2768, 0.2651, 0.2515, 0.2489, 0.2482, 0.248, 0.2438, 0.2383, 0.238, 0.2323, 0.2214, 0.2212, 0.2208, 0.2168, 0.2124, 0.2104, 0.209, 0.2023, 0.1975, 0.1931, 0.1902, 0.1873, 0.1832, 0.1754, 0.1679, 0.1493, 0.1357, 0.1517, 0.141, 0.0834, 0.0314, 0.148, 0.0931, -0.1091, 0.1347, -0.188, -0.1848, 0.0266, 0.0295, -0.0426, 0.0004, -0.088, 0.1193, 0.0078, -0.0331, 0.076, -0.0362, -0.2125, -0.3516, -0.2058, -0.3051, 0.388, 0.3877, 0.3536, 0.3417, 0.3384, 0.3041, 0.2905, 0.2897, 0.2814, 0.2783, 0.2756, 0.2646, 0.2627, 0.256, 0.2523, 0.249, 0.2442, 0.239, 0.2329, 0.2324, 0.2206, 0.2195, 0.2192, 0.2191, 0.2139, 0.2125, 0.2115, 0.2031, 0.203, 0.2006, 0.1528, 0.0061, -0.0156, 0.0893, 0.0288, 0.0973, 0.0081, 0.0252, -0.3116, 0.1096, 0.0933, 0.1026, -0.0876, -0.4077, -0.5346, -0.0454, -0.0785, 0.0653, -0.0699, -0.2063, -0.0061, -0.1602, -0.1153, -0.1382, 0.0612, -0.157, 0.0538, -0.0259, -0.2538, -0.2447, -0.5011, -0.4658, -0.3324, 0.3491, 0.3473, 0.3147, 0.3065, 0.3064, 0.303, 0.2946, 0.293, 0.2783, 0.2757, 0.2665, 0.2539, 0.2499, 0.247, 0.2402, 0.2397, 0.2364, 0.2246, 0.2191, 0.2178, 0.2147, 0.2128, 0.2097, 0.2086, 0.2069, 0.2041, 0.2004, 0.196, 0.1953, 0.1925, 0.1904, 0.1889, 0.1883, 0.0462, -0.0074, 0.0876, -0.0412, 0.1624, -0.4806, 0.0509, -0.0775, -0.176, -0.5805, -0.2083, -0.3217, -0.163, -0.1306, -0.0126, -0.7708, -0.1489, -0.1551, -0.0231, -0.4799, -0.0201, -0.2291, -0.1937, -0.2492, 0.0047, -0.2249, -0.1955, -0.004, -0.0205, -0.5964, -0.1109, -0.4916, -0.1686, -0.4317, 0.4058, 0.3124, 0.2859, 0.2805, 0.2746, 0.2712, 0.2644, 0.2636, 0.2619, 0.2593, 0.2564, 0.2511, 0.2483, 0.247, 0.2464, 0.2409, 0.2375, 0.2372, 0.2344, 0.234, 0.233, 0.2323, 0.2291, 0.2288, 0.2269, 0.2249, 0.224, 0.2237, 0.2224, 0.2204, 0.22, 0.2196, 0.2177, 0.2098, 0.2107, 0.2183, 0.0755, -0.5681, -0.6901, -0.1655, -0.1524, -0.1904, -0.4531, -0.2124, -0.1839, 0.0021, -0.5196, -0.9915, -0.1995, -0.3688, -0.3705, -0.2349, -0.0772, -0.3172, -0.0806, -0.2387, -0.038, -0.0796, -0.2991, -0.432, -0.1519, -0.1136, -0.3595, -0.4002, -0.3672, -0.3093, -0.7396]}, \"token.table\": {\"Topic\": [1, 1, 1, 1, 1, 1, 1, 1, 1, 1, 1, 1, 1, 1, 1, 1, 1, 1, 1, 1, 1, 1, 1, 1, 1, 1, 1, 1, 2, 1, 1, 1, 1, 1, 1, 1, 1, 1, 1, 1, 1, 1, 1, 1, 1, 1, 1, 1, 1, 1, 1, 1, 1, 1, 1, 1, 1, 1, 1, 1, 1, 1, 1, 1, 1, 1, 1, 1, 1, 1, 1, 1, 2, 1, 1, 1, 1, 1, 1, 1, 1, 1, 1, 1, 1, 1, 1, 1, 1, 1, 1, 1, 1, 1, 1, 1, 1, 1, 1, 1, 1, 2, 1, 1, 1, 1, 1, 1, 1, 1, 1, 1, 1, 1, 1, 1, 1, 1, 1, 1, 2, 1, 1, 1, 1, 1, 1, 1, 1, 1, 1, 1, 1, 1, 2, 1, 1, 1, 1, 1, 1, 1, 1, 1, 1, 1, 1, 1], \"Freq\": [0.9628459452923205, 0.577055172244403, 1.0833868558864417, 0.9908716493098451, 0.8728800140145562, 0.6357459474914794, 1.0588447525858886, 0.9532424676861017, 0.9738420354320548, 0.8024254812560371, 1.1038695798128808, 0.9594873985790439, 1.0191331908039432, 1.014437381446704, 0.9469447637668315, 0.9582187696026997, 0.8645372694922464, 0.8710948557490895, 0.8233553090382709, 0.8193330154313971, 0.9711250267407887, 0.9800756097698194, 0.825782531505339, 0.9737269349538855, 0.9572124416987824, 1.0225885967413908, 1.0383136765433303, 0.7417441415874251, 0.24724804719580837, 1.03796719376541, 0.9779266830738944, 0.978813468436087, 0.9546535237762609, 0.9289283280402875, 1.021600000280435, 1.0275572968817364, 0.6216996932964507, 0.9779340858309068, 0.8828496634866724, 0.8576320903336638, 0.64584295823803, 0.9429195710958881, 0.8688064845007428, 1.0475793482816873, 0.8459502435495909, 0.8595376647818284, 1.0446431713733169, 0.8054671878101727, 0.9946606145932807, 0.8210710669051303, 0.9455217058101737, 0.9354348540888746, 0.9545486142388099, 0.9487032734651399, 0.9982021529594045, 0.9817467378207045, 0.9493307947882234, 0.5686773810679967, 1.025021005715956, 0.889440384838524, 1.0006873666496834, 0.8373692393077521, 0.9431177622035694, 1.0243486022043902, 1.0169777045932762, 1.0027570631716858, 0.9327698962620837, 1.1196043484879639, 0.8570901891907652, 0.8134014281762627, 1.05789371921836, 0.9225966929230691, 0.09225966929230692, 1.1067896657495684, 1.0009588539889946, 0.9998060779635483, 0.9706353701561847, 1.1171341050991337, 0.7697470810551085, 1.06619279436769, 0.9473143986503547, 0.9449897799063266, 0.6185682149118269, 0.9862890634486284, 1.165667130690254, 1.017730408560296, 0.9374036141399569, 0.8728622576225471, 0.9578656092518125, 0.8101538290501169, 0.6226137370448162, 0.5835560217566762, 0.8374350925131705, 1.0510991797124243, 1.012230021965551, 0.9801372238005255, 0.9977788038448004, 0.612173056887456, 0.95102839345297, 1.077338800192504, 0.9263566053397089, 0.11579457566746361, 0.5742591652890353, 0.7635039872194567, 0.6108917489990481, 0.9752769420767742, 0.8958616955638485, 1.0079183511475034, 0.9836695551477658, 0.8229491133133449, 0.6267977209532347, 0.9467632913048292, 0.9380641290157242, 0.9731995118457684, 0.8994251756980836, 1.020344469459831, 1.0791575250036332, 0.9895508968654404, 0.9906126440440304, 0.8383087559627298, 0.1197583937089614, 0.5893850178789444, 0.824609547486952, 1.0065430433146767, 0.7860542506520103, 1.0481571136416272, 0.8198560978985496, 0.9762593709782698, 0.8294070151266836, 1.0372201472732492, 0.8046653934944618, 1.006626665723087, 1.0548323724352902, 0.9101281802418044, 0.2275320450604511, 0.8547146388453243, 0.8797961285142077, 1.0191717417757202, 1.007634575969526, 0.9672553445541394, 0.9915735845972374, 0.624510752884977, 0.9452282999130186, 1.0133569174680763, 0.8505987284391091, 0.9972350274574711, 1.115000324112292, 0.8283537541443347], \"Term\": [\"accelerated_trend\", \"access\", \"area\", \"available\", \"bank\", \"border\", \"brand\", \"brand_governance\", \"card\", \"come\", \"come_ecosystem\", \"commerce_initiative\", \"commission_outlined\", \"competitiveness_ecosystem\", \"concentration\", \"conclude_commission\", \"contrast\", \"contribute\", \"convenience_cost\", \"cost\", \"cost_efficiency\", \"cost_service\", \"cross\", \"cross_eu\", \"degree_market\", \"desired_request\", \"development\", \"digital\", \"digital\", \"digital_money\", \"easier_faster\", \"ecosystem\", \"ecosystem_stimulate\", \"edge\", \"effect\", \"effect_despite\", \"efficiency\", \"efficiency_safety\", \"electronic\", \"electronic_offer\", \"ensure\", \"ensure_pan\", \"environmental_access\", \"eu\", \"excessive_hidden\", \"experience\", \"exploring_support\", \"facing_positioned\", \"far_le\", \"faster\", \"finland_seen\", \"foreign\", \"foreign_card\", \"forerunner\", \"forerunner_development\", \"form\", \"form_digital\", \"forum\", \"fourteenth_edition\", \"future\", \"goal\", \"governance_global\", \"grown\", \"hidden\", \"high_degree\", \"increase\", \"increase_choice\", \"indisputably\", \"initiative\", \"innovation\", \"innovation_investigating\", \"instant\", \"instant\", \"international\", \"international_card\", \"investigating\", \"inviting\", \"key\", \"launch\", \"legal\", \"like\", \"long_way\", \"make\", \"make_happen\", \"market\", \"meet\", \"national\", \"natural\", \"natural_starting\", \"new\", \"offer\", \"ongoing\", \"operational_taken\", \"overly\", \"overly_dependent\", \"pan\", \"pan_reach\", \"pandemic\", \"pandemic_come\", \"pay\", \"payment\", \"payment\", \"point\", \"press\", \"priority\", \"privacy\", \"privacy_legal\", \"private\", \"private_sector\", \"progress\", \"promote\", \"provide_cost\", \"provided\", \"public_criterion\", \"reach\", \"release\", \"remain_open\", \"request_pay\", \"resulting\", \"retail\", \"retail\", \"role\", \"role_play\", \"rose\", \"safe\", \"sector\", \"sector_contrast\", \"seen_forerunner\", \"service\", \"settlement\", \"solution\", \"speak_fourteenth\", \"stimulate_competition\", \"strategy\", \"strategy\", \"strategy_study\", \"thank_inviting\", \"today\", \"tomorrow\", \"tomorrow_future\", \"total\", \"transaction\", \"transaction_change\", \"trend\", \"used\", \"vision\", \"way\", \"work\"]}, \"R\": 30, \"lambda.step\": 0.01, \"plot.opts\": {\"xlab\": \"PC1\", \"ylab\": \"PC2\"}, \"topic.order\": [5, 3, 4, 1, 2]};\n\nfunction LDAvis_load_lib(url, callback){\n  var s = document.createElement('script');\n  s.src = url;\n  s.async = true;\n  s.onreadystatechange = s.onload = callback;\n  s.onerror = function(){console.warn(\"failed to load library \" + url);};\n  document.getElementsByTagName(\"head\")[0].appendChild(s);\n}\n\nif(typeof(LDAvis) !== \"undefined\"){\n   // already loaded: just create the visualization\n   !function(LDAvis){\n       new LDAvis(\"#\" + \"ldavis_el429002213302175664272057595\", ldavis_el429002213302175664272057595_data);\n   }(LDAvis);\n}else if(typeof define === \"function\" && define.amd){\n   // require.js is available: use it to load d3/LDAvis\n   require.config({paths: {d3: \"https://d3js.org/d3.v5\"}});\n   require([\"d3\"], function(d3){\n      window.d3 = d3;\n      LDAvis_load_lib(\"https://cdn.jsdelivr.net/gh/bmabey/pyLDAvis@3.3.1/pyLDAvis/js/ldavis.v3.0.0.js\", function(){\n        new LDAvis(\"#\" + \"ldavis_el429002213302175664272057595\", ldavis_el429002213302175664272057595_data);\n      });\n    });\n}else{\n    // require.js not available: dynamically load d3 & LDAvis\n    LDAvis_load_lib(\"https://d3js.org/d3.v5.js\", function(){\n         LDAvis_load_lib(\"https://cdn.jsdelivr.net/gh/bmabey/pyLDAvis@3.3.1/pyLDAvis/js/ldavis.v3.0.0.js\", function(){\n                 new LDAvis(\"#\" + \"ldavis_el429002213302175664272057595\", ldavis_el429002213302175664272057595_data);\n            })\n         });\n}\n</script>"
     },
     "metadata": {},
     "execution_count": 17
    }
   ],
   "source": [
    "import pyLDAvis.gensim_models as gensimvis\n",
    "import pickle \n",
    "import pyLDAvis\n",
    "\n",
    "# Visualize the topics\n",
    "pyLDAvis.enable_notebook()\n",
    "LDAvis_data_filepath = os.path.join('ldavis_prepared_'+str(num_topics))\n",
    "\n",
    "LDAvis_prepared = gensimvis.prepare(lda_model, corpus, id2word)\n",
    "with open(LDAvis_data_filepath, 'wb') as f:\n",
    "    pickle.dump(LDAvis_prepared, f)\n",
    "\n",
    "# load the pre-prepared pyLDAvis data from disk\n",
    "with open(LDAvis_data_filepath, 'rb') as f:\n",
    "    LDAvis_prepared = pickle.load(f)\n",
    "pyLDAvis.save_html(LDAvis_prepared, 'ldavis_prepared_'+ str(num_topics) +'.html')\n",
    "LDAvis_prepared"
   ]
  },
  {
   "cell_type": "code",
   "execution_count": null,
   "metadata": {},
   "outputs": [],
   "source": [
    "https://paperswithcode.com/sota/document-summarization-on-cnn-daily-mail?metric=ROUGE-L\n",
    "\n",
    "\n",
    "abstractive text summarization\n",
    "or extractive\n",
    "\n",
    "\n",
    "\n",
    "data exploration: 1997-02-07 to 2021-05-27\n",
    "\n"
   ]
  }
 ]
}
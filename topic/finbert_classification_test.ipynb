{
 "cells": [
  {
   "cell_type": "code",
   "execution_count": 1,
   "source": [
    "from datasets import Dataset\r\n",
    "classes = [\"banking\",\"valuation\",\"household\",\"real estate\",\"corporate\",\"external\",\"sovereign\",\"technology\", \"climate\", \"energy\", \"health\", \"eu\"]\r\n"
   ],
   "outputs": [],
   "metadata": {}
  },
  {
   "cell_type": "code",
   "execution_count": 2,
   "source": [
    "from transformers import AutoModelForSequenceClassification, AutoTokenizer, Trainer, TrainingArguments\r\n",
    "import torch\r\n",
    "import numpy as np\r\n",
    "from sklearn.metrics import accuracy_score, precision_recall_fscore_support,top_k_accuracy_score\r\n",
    "import math\r\n",
    "import pickle"
   ],
   "outputs": [],
   "metadata": {}
  },
  {
   "cell_type": "code",
   "execution_count": 3,
   "source": [
    "model = AutoModelForSequenceClassification.from_pretrained('bert-base-uncased', num_labels=len(classes))\r\n",
    "finbert = AutoModelForSequenceClassification.from_pretrained('ProsusAI/finbert')\r\n",
    "tokenizer = AutoTokenizer.from_pretrained('ProsusAI/finbert', use_fast =True)"
   ],
   "outputs": [
    {
     "output_type": "stream",
     "name": "stderr",
     "text": [
      "Some weights of the model checkpoint at bert-base-uncased were not used when initializing BertForSequenceClassification: ['cls.predictions.transform.dense.bias', 'cls.predictions.bias', 'cls.seq_relationship.weight', 'cls.seq_relationship.bias', 'cls.predictions.transform.LayerNorm.weight', 'cls.predictions.decoder.weight', 'cls.predictions.transform.dense.weight', 'cls.predictions.transform.LayerNorm.bias']\n",
      "- This IS expected if you are initializing BertForSequenceClassification from the checkpoint of a model trained on another task or with another architecture (e.g. initializing a BertForSequenceClassification model from a BertForPreTraining model).\n",
      "- This IS NOT expected if you are initializing BertForSequenceClassification from the checkpoint of a model that you expect to be exactly identical (initializing a BertForSequenceClassification model from a BertForSequenceClassification model).\n",
      "Some weights of BertForSequenceClassification were not initialized from the model checkpoint at bert-base-uncased and are newly initialized: ['classifier.weight', 'classifier.bias']\n",
      "You should probably TRAIN this model on a down-stream task to be able to use it for predictions and inference.\n"
     ]
    }
   ],
   "metadata": {}
  },
  {
   "cell_type": "code",
   "execution_count": 4,
   "source": [
    "# object_methods = [method_name for method_name in dir(finbert)\r\n",
    "#                   if callable(getattr(finbert, method_name))]\r\n",
    "# print(object_methods)\r\n",
    "finbert_weights = finbert.state_dict()\r\n",
    "model_weights = model.state_dict()\r\n",
    "del finbert_weights[\"bert.pooler.dense.weight\"]\r\n",
    "del finbert_weights[\"bert.pooler.dense.bias\"]\r\n",
    "del finbert_weights[\"classifier.weight\"]\r\n",
    "del finbert_weights[\"classifier.bias\"]\r\n",
    "finbert_weights[\"bert.pooler.dense.weight\"] = model_weights[\"bert.pooler.dense.weight\"]\r\n",
    "finbert_weights[\"bert.pooler.dense.bias\"] = model_weights[\"bert.pooler.dense.bias\"]\r\n",
    "finbert_weights[\"classifier.weight\"] = model_weights[\"classifier.weight\"]\r\n",
    "finbert_weights[\"classifier.bias\"] = model_weights[\"classifier.bias\"]\r\n",
    "\r\n",
    "model.load_state_dict(finbert_weights)\r\n"
   ],
   "outputs": [
    {
     "output_type": "execute_result",
     "data": {
      "text/plain": [
       "<All keys matched successfully>"
      ]
     },
     "metadata": {},
     "execution_count": 4
    }
   ],
   "metadata": {}
  },
  {
   "cell_type": "code",
   "execution_count": 5,
   "source": [
    "# flatten to one list for all 3\r\n",
    "with open('train_data.pickle', 'rb') as file:\r\n",
    "    train = pickle.load(file)\r\n",
    "\r\n",
    "with open('gpt.pickle', 'rb') as file:\r\n",
    "    gpt = pickle.load(file)\r\n",
    "\r\n",
    "with open('gpt_p2.pickle', 'rb') as file:\r\n",
    "    gpt2 = pickle.load(file)\r\n",
    "    \r\n",
    "gpt = [item for sublist in gpt for item in sublist]\r\n",
    "gpt2 = [item for sublist in gpt2 for item in sublist]\r\n",
    "\r\n",
    "mixed = gpt + gpt2"
   ],
   "outputs": [],
   "metadata": {}
  },
  {
   "cell_type": "code",
   "execution_count": 6,
   "source": [
    "print(len(mixed))"
   ],
   "outputs": [
    {
     "output_type": "stream",
     "name": "stdout",
     "text": [
      "2458\n"
     ]
    }
   ],
   "metadata": {}
  },
  {
   "cell_type": "code",
   "execution_count": 7,
   "source": [
    "sample = 10\r\n",
    "# text = [item[\"text\"] for i in range(sample) for item in mixed]\r\n",
    "# label = [np.random.choice(len(classes), p=item[\"dist\"]) for i in range(sample) for item in mixed]\r\n",
    "# additional_text = []\r\n",
    "# additional_label = []\r\n",
    "\r\n",
    "# for idx in range(1,len(mixed)-1):\r\n",
    "#     sent1, sent2 = mixed[idx-1:idx+1]\r\n",
    "#     for i in range(3):\r\n",
    "#         additional_text.append(sent1[\"text\"]+' '+ sent2[\"text\"])\r\n",
    "#         dist = (np.array(sent1[\"dist\"]) + np.array(sent2[\"dist\"]))/2\r\n",
    "#         additional_label.append(np.random.choice(len(classes), p=dist))\r\n",
    "\r\n",
    "# for idx in range(2,len(mixed)-1):\r\n",
    "#     sent1, sent2, sent3 = mixed[idx-2:idx+1]\r\n",
    "#     for i in range(2):\r\n",
    "#         additional_text.append(sent1[\"text\"]+' '+ sent2[\"text\"]+' '+sent3[\"text\"])\r\n",
    "#         dist = (np.array(sent1[\"dist\"]) + np.array(sent2[\"dist\"])+ np.array(sent3[\"dist\"]))/3\r\n",
    "#         additional_label.append(np.random.choice(len(classes), p=dist))\r\n",
    "\r\n",
    "text_max = [item[\"text\"] for i in range(sample) for item in train]\r\n",
    "label_max = [np.argmax(item[\"dist\"]) for i in range(sample) for item in train]\r\n",
    "\r\n",
    "text_max_mixed = [item[\"text\"] for i in range(sample-1) for item in mixed]\r\n",
    "label_max_mixed = [np.argmax(item[\"dist\"]) for i in range(sample-1) for item in mixed]\r\n",
    "\r\n",
    "# comb_text = text + additional_text + text_max\r\n",
    "# comb_label = label + additional_label + label_max\r\n",
    "comb_text = text_max+text_max_mixed\r\n",
    "comb_label = label_max+label_max_mixed"
   ],
   "outputs": [],
   "metadata": {}
  },
  {
   "cell_type": "code",
   "execution_count": 8,
   "source": [
    "\r\n",
    "# with open('dataset_57.pickle', 'wb') as file:\r\n",
    "#     pickle.dump((comb_text,comb_label), file)"
   ],
   "outputs": [],
   "metadata": {}
  },
  {
   "cell_type": "code",
   "execution_count": 9,
   "source": [
    "\r\n",
    "# with open('dataset_57.pickle', 'rb') as file:\r\n",
    "#     comb_text,comb_label = pickle.load(file)"
   ],
   "outputs": [],
   "metadata": {}
  },
  {
   "cell_type": "code",
   "execution_count": 10,
   "source": [
    "assert len(comb_text) == len(comb_label)"
   ],
   "outputs": [],
   "metadata": {}
  },
  {
   "cell_type": "code",
   "execution_count": 11,
   "source": [
    "import random\r\n",
    "temp = list(zip(comb_text, comb_label))\r\n",
    "random.shuffle(temp)\r\n",
    "comb_text, comb_label = zip(*temp)"
   ],
   "outputs": [],
   "metadata": {}
  },
  {
   "cell_type": "code",
   "execution_count": 12,
   "source": [
    "print(len(comb_label))"
   ],
   "outputs": [
    {
     "output_type": "stream",
     "name": "stdout",
     "text": [
      "39468\n"
     ]
    }
   ],
   "metadata": {}
  },
  {
   "cell_type": "code",
   "execution_count": 13,
   "source": [
    "train_text, test_text = comb_text[:math.ceil(len(comb_text)*0.9)], comb_text[:math.ceil(len(comb_text)*0.1)]\r\n",
    "train_label, test_label = comb_label[:math.ceil(len(comb_label)*0.9)], comb_label[:math.ceil(len(comb_label)*0.10)]"
   ],
   "outputs": [],
   "metadata": {}
  },
  {
   "cell_type": "code",
   "execution_count": 14,
   "source": [
    "train_dataset = Dataset.from_dict({\"text\":train_text, \"label\":train_label})\r\n",
    "test_dataset = Dataset.from_dict({\"text\":test_text, \"label\":test_label})"
   ],
   "outputs": [],
   "metadata": {}
  },
  {
   "cell_type": "code",
   "execution_count": 15,
   "source": [
    "def tokenize(batch):\r\n",
    "    return tokenizer(batch['text'], padding=True, truncation=True)\r\n",
    "train_dataset = train_dataset.map(tokenize, batched=True, batch_size=len(train_dataset))\r\n",
    "test_dataset = test_dataset.map(tokenize, batched=True, batch_size=len(test_dataset))\r\n",
    "train_dataset.set_format('torch', columns=['input_ids', 'attention_mask', 'label'])\r\n",
    "test_dataset.set_format('torch', columns=['input_ids', 'attention_mask', 'label'])"
   ],
   "outputs": [
    {
     "output_type": "stream",
     "name": "stderr",
     "text": [
      "100%|██████████| 1/1 [00:02<00:00,  2.52s/ba]\n",
      "100%|██████████| 1/1 [00:00<00:00,  4.04ba/s]\n"
     ]
    }
   ],
   "metadata": {}
  },
  {
   "cell_type": "code",
   "execution_count": 16,
   "source": [
    "train_dataset[\"input_ids\"]"
   ],
   "outputs": [
    {
     "output_type": "execute_result",
     "data": {
      "text/plain": [
       "tensor([[  101,  2023,  3663,  ...,     0,     0,     0],\n",
       "        [  101,  1996,  3189,  ...,     0,     0,     0],\n",
       "        [  101, 10940,  2005,  ...,     0,     0,     0],\n",
       "        ...,\n",
       "        [  101,  1996,  3006,  ...,     0,     0,     0],\n",
       "        [  101,  2017,  2097,  ...,     0,     0,     0],\n",
       "        [  101,  2107, 14437,  ...,     0,     0,     0]])"
      ]
     },
     "metadata": {},
     "execution_count": 16
    }
   ],
   "metadata": {}
  },
  {
   "cell_type": "code",
   "execution_count": 17,
   "source": [
    "def compute_metrics(pred):\r\n",
    "    labels = pred.label_ids\r\n",
    "    preds = pred.predictions.argmax(-1)\r\n",
    "    precision, recall, f1, _ = precision_recall_fscore_support(labels, preds, average='macro')\r\n",
    "    acc = accuracy_score(labels, preds)\r\n",
    "    top3 = top_k_accuracy_score(labels, pred.predictions,k=3)\r\n",
    "    top2 = top_k_accuracy_score(labels, pred.predictions,k=2)\r\n",
    "    return {\r\n",
    "        'accuracy': acc,\r\n",
    "        'f1': f1,\r\n",
    "        'precision': precision,\r\n",
    "        'recall': recall,\r\n",
    "        'top3': top3,\r\n",
    "         'top2': top2\r\n",
    "    }\r\n",
    "\r\n",
    "training_args = TrainingArguments(\r\n",
    "    \r\n",
    "    output_dir='./results',\r\n",
    "    learning_rate=2e-5,\r\n",
    "    num_train_epochs=20,\r\n",
    "    per_device_train_batch_size=16,\r\n",
    "    per_device_eval_batch_size=64,\r\n",
    "    warmup_steps=500,\r\n",
    "    weight_decay=0.01,\r\n",
    "    metric_for_best_model=\"accuracy\",\r\n",
    "    evaluation_strategy='epoch',\r\n",
    "    save_strategy = \"epoch\",\r\n",
    "    logging_dir='./logs',\r\n",
    "    save_total_limit = 1, # Only last 5 models are saved. Older ones are deleted.\r\n",
    "    load_best_model_at_end=True,\r\n",
    ")\r\n",
    "    # \"test-glue\",\r\n",
    "    # evaluation_strategy = \"epoch\",\r\n",
    "    # save_strategy = \"epoch\",\r\n",
    "    # learning_rate=2e-5,\r\n",
    "    # per_device_train_batch_size=batch_size,\r\n",
    "    # per_device_eval_batch_size=batch_size,\r\n",
    "    # num_train_epochs=5,\r\n",
    "    # weight_decay=0.01,\r\n",
    "    # load_best_model_at_end=True,\r\n",
    "    # metric_for_best_model=metric_name,\r\n",
    "    # push_to_hub=True,\r\n",
    "    # push_to_hub_model_id=f\"{model_name}-finetuned-{task}\",\r\n",
    "trainer = Trainer(\r\n",
    "    model=model,\r\n",
    "    args=training_args,\r\n",
    "    compute_metrics=compute_metrics,\r\n",
    "    train_dataset=train_dataset,\r\n",
    "    eval_dataset=test_dataset\r\n",
    ")"
   ],
   "outputs": [],
   "metadata": {}
  },
  {
   "cell_type": "code",
   "execution_count": 18,
   "source": [
    "trainer.train()"
   ],
   "outputs": [
    {
     "output_type": "stream",
     "name": "stderr",
     "text": [
      "  1%|          | 501/44420 [01:18<1:55:13,  6.35it/s]"
     ]
    },
    {
     "output_type": "stream",
     "name": "stdout",
     "text": [
      "{'loss': 2.3264, 'learning_rate': 2e-05, 'epoch': 0.23}\n"
     ]
    },
    {
     "output_type": "stream",
     "name": "stderr",
     "text": [
      "  2%|▏         | 1001/44420 [02:37<1:53:49,  6.36it/s]"
     ]
    },
    {
     "output_type": "stream",
     "name": "stdout",
     "text": [
      "{'loss': 2.0445, 'learning_rate': 1.9772313296903462e-05, 'epoch': 0.45}\n"
     ]
    },
    {
     "output_type": "stream",
     "name": "stderr",
     "text": [
      "  3%|▎         | 1501/44420 [03:56<1:52:13,  6.37it/s]"
     ]
    },
    {
     "output_type": "stream",
     "name": "stdout",
     "text": [
      "{'loss': 1.9378, 'learning_rate': 1.9544626593806922e-05, 'epoch': 0.68}\n"
     ]
    },
    {
     "output_type": "stream",
     "name": "stderr",
     "text": [
      "  5%|▍         | 2001/44420 [05:14<1:51:01,  6.37it/s]"
     ]
    },
    {
     "output_type": "stream",
     "name": "stdout",
     "text": [
      "{'loss': 1.9199, 'learning_rate': 1.9316939890710386e-05, 'epoch': 0.9}\n"
     ]
    },
    {
     "output_type": "stream",
     "name": "stderr",
     "text": [
      "\n",
      "  5%|▌         | 2221/44420 [05:58<1:49:43,  6.41it/s]"
     ]
    },
    {
     "output_type": "stream",
     "name": "stdout",
     "text": [
      "{'eval_loss': 1.7587860822677612, 'eval_accuracy': 0.4682036990119078, 'eval_f1': 0.37153981182483165, 'eval_precision': 0.566333565134795, 'eval_recall': 0.3551338842162961, 'eval_top3': 0.671649353939701, 'eval_top2': 0.5931086901444135, 'eval_runtime': 9.8178, 'eval_samples_per_second': 402.027, 'epoch': 1.0}\n"
     ]
    },
    {
     "output_type": "stream",
     "name": "stderr",
     "text": [
      "  6%|▌         | 2501/44420 [06:44<1:50:13,  6.34it/s]"
     ]
    },
    {
     "output_type": "stream",
     "name": "stdout",
     "text": [
      "{'loss': 1.8273, 'learning_rate': 1.9089253187613846e-05, 'epoch': 1.13}\n"
     ]
    },
    {
     "output_type": "stream",
     "name": "stderr",
     "text": [
      "  7%|▋         | 3001/44420 [08:02<1:48:09,  6.38it/s]"
     ]
    },
    {
     "output_type": "stream",
     "name": "stdout",
     "text": [
      "{'loss': 1.7818, 'learning_rate': 1.8861566484517306e-05, 'epoch': 1.35}\n"
     ]
    },
    {
     "output_type": "stream",
     "name": "stderr",
     "text": [
      "  8%|▊         | 3501/44420 [09:20<1:46:51,  6.38it/s]"
     ]
    },
    {
     "output_type": "stream",
     "name": "stdout",
     "text": [
      "{'loss': 1.8067, 'learning_rate': 1.8633879781420766e-05, 'epoch': 1.58}\n"
     ]
    },
    {
     "output_type": "stream",
     "name": "stderr",
     "text": [
      "  9%|▉         | 4001/44420 [10:38<1:45:42,  6.37it/s]"
     ]
    },
    {
     "output_type": "stream",
     "name": "stdout",
     "text": [
      "{'loss': 1.7838, 'learning_rate': 1.840619307832423e-05, 'epoch': 1.8}\n"
     ]
    },
    {
     "output_type": "stream",
     "name": "stderr",
     "text": [
      "\n",
      " 10%|█         | 4442/44420 [11:57<1:44:14,  6.39it/s]"
     ]
    },
    {
     "output_type": "stream",
     "name": "stdout",
     "text": [
      "{'eval_loss': 1.633736491203308, 'eval_accuracy': 0.4958196098302508, 'eval_f1': 0.40905983717747435, 'eval_precision': 0.5342063584794247, 'eval_recall': 0.3925907727466916, 'eval_top3': 0.7116797567772992, 'eval_top2': 0.6338991639219661, 'eval_runtime': 9.8108, 'eval_samples_per_second': 402.312, 'epoch': 2.0}\n"
     ]
    },
    {
     "output_type": "stream",
     "name": "stderr",
     "text": [
      " 10%|█         | 4501/44420 [12:09<1:44:12,  6.38it/s]"
     ]
    },
    {
     "output_type": "stream",
     "name": "stdout",
     "text": [
      "{'loss': 1.7796, 'learning_rate': 1.817850637522769e-05, 'epoch': 2.03}\n"
     ]
    },
    {
     "output_type": "stream",
     "name": "stderr",
     "text": [
      " 11%|█▏        | 5001/44420 [13:27<1:43:09,  6.37it/s]"
     ]
    },
    {
     "output_type": "stream",
     "name": "stdout",
     "text": [
      "{'loss': 1.6926, 'learning_rate': 1.795081967213115e-05, 'epoch': 2.25}\n"
     ]
    },
    {
     "output_type": "stream",
     "name": "stderr",
     "text": [
      " 12%|█▏        | 5501/44420 [14:45<1:41:44,  6.38it/s]"
     ]
    },
    {
     "output_type": "stream",
     "name": "stdout",
     "text": [
      "{'loss': 1.708, 'learning_rate': 1.772313296903461e-05, 'epoch': 2.48}\n"
     ]
    },
    {
     "output_type": "stream",
     "name": "stderr",
     "text": [
      " 14%|█▎        | 6001/44420 [16:03<1:40:33,  6.37it/s]"
     ]
    },
    {
     "output_type": "stream",
     "name": "stdout",
     "text": [
      "{'loss': 1.7234, 'learning_rate': 1.749544626593807e-05, 'epoch': 2.7}\n"
     ]
    },
    {
     "output_type": "stream",
     "name": "stderr",
     "text": [
      " 15%|█▍        | 6501/44420 [17:21<1:39:18,  6.36it/s]"
     ]
    },
    {
     "output_type": "stream",
     "name": "stdout",
     "text": [
      "{'loss': 1.7215, 'learning_rate': 1.726775956284153e-05, 'epoch': 2.93}\n"
     ]
    },
    {
     "output_type": "stream",
     "name": "stderr",
     "text": [
      "\n",
      " 15%|█▌        | 6663/44420 [17:56<1:38:05,  6.42it/s]"
     ]
    },
    {
     "output_type": "stream",
     "name": "stdout",
     "text": [
      "{'eval_loss': 1.5626400709152222, 'eval_accuracy': 0.5079807448695212, 'eval_f1': 0.419221508036903, 'eval_precision': 0.5324614694928788, 'eval_recall': 0.39640075697932814, 'eval_top3': 0.7370154547757791, 'eval_top2': 0.6617684317202939, 'eval_runtime': 9.8088, 'eval_samples_per_second': 402.395, 'epoch': 3.0}\n"
     ]
    },
    {
     "output_type": "stream",
     "name": "stderr",
     "text": [
      " 16%|█▌        | 7001/44420 [18:51<1:38:15,  6.35it/s]"
     ]
    },
    {
     "output_type": "stream",
     "name": "stdout",
     "text": [
      "{'loss': 1.622, 'learning_rate': 1.704007285974499e-05, 'epoch': 3.15}\n"
     ]
    },
    {
     "output_type": "stream",
     "name": "stderr",
     "text": [
      " 17%|█▋        | 7501/44420 [20:09<1:36:26,  6.38it/s]"
     ]
    },
    {
     "output_type": "stream",
     "name": "stdout",
     "text": [
      "{'loss': 1.61, 'learning_rate': 1.6812386156648454e-05, 'epoch': 3.38}\n"
     ]
    },
    {
     "output_type": "stream",
     "name": "stderr",
     "text": [
      " 18%|█▊        | 8001/44420 [21:27<1:34:13,  6.44it/s]"
     ]
    },
    {
     "output_type": "stream",
     "name": "stdout",
     "text": [
      "{'loss': 1.6678, 'learning_rate': 1.6584699453551914e-05, 'epoch': 3.6}\n"
     ]
    },
    {
     "output_type": "stream",
     "name": "stderr",
     "text": [
      " 19%|█▉        | 8501/44420 [22:44<1:32:04,  6.50it/s]"
     ]
    },
    {
     "output_type": "stream",
     "name": "stdout",
     "text": [
      "{'loss': 1.6499, 'learning_rate': 1.6357012750455374e-05, 'epoch': 3.83}\n"
     ]
    },
    {
     "output_type": "stream",
     "name": "stderr",
     "text": [
      "\n",
      " 20%|██        | 8884/44420 [23:52<1:30:40,  6.53it/s]"
     ]
    },
    {
     "output_type": "stream",
     "name": "stdout",
     "text": [
      "{'eval_loss': 1.4827715158462524, 'eval_accuracy': 0.5226754497086394, 'eval_f1': 0.4417801183213903, 'eval_precision': 0.5375595549998323, 'eval_recall': 0.4224149498780232, 'eval_top3': 0.7702052191537877, 'eval_top2': 0.6802634912591842, 'eval_runtime': 9.555, 'eval_samples_per_second': 413.084, 'epoch': 4.0}\n"
     ]
    },
    {
     "output_type": "stream",
     "name": "stderr",
     "text": [
      " 20%|██        | 9001/44420 [24:12<1:31:03,  6.48it/s]"
     ]
    },
    {
     "output_type": "stream",
     "name": "stdout",
     "text": [
      "{'loss': 1.6485, 'learning_rate': 1.6129326047358835e-05, 'epoch': 4.05}\n"
     ]
    },
    {
     "output_type": "stream",
     "name": "stderr",
     "text": [
      " 21%|██▏       | 9501/44420 [25:29<1:29:57,  6.47it/s]"
     ]
    },
    {
     "output_type": "stream",
     "name": "stdout",
     "text": [
      "{'loss': 1.5505, 'learning_rate': 1.5901639344262295e-05, 'epoch': 4.28}\n"
     ]
    },
    {
     "output_type": "stream",
     "name": "stderr",
     "text": [
      " 23%|██▎       | 10001/44420 [26:46<1:28:39,  6.47it/s]"
     ]
    },
    {
     "output_type": "stream",
     "name": "stdout",
     "text": [
      "{'loss': 1.585, 'learning_rate': 1.5673952641165758e-05, 'epoch': 4.5}\n"
     ]
    },
    {
     "output_type": "stream",
     "name": "stderr",
     "text": [
      " 24%|██▎       | 10501/44420 [28:03<1:27:35,  6.45it/s]"
     ]
    },
    {
     "output_type": "stream",
     "name": "stdout",
     "text": [
      "{'loss': 1.5673, 'learning_rate': 1.544626593806922e-05, 'epoch': 4.73}\n"
     ]
    },
    {
     "output_type": "stream",
     "name": "stderr",
     "text": [
      " 25%|██▍       | 11001/44420 [29:20<1:26:16,  6.46it/s]"
     ]
    },
    {
     "output_type": "stream",
     "name": "stdout",
     "text": [
      "{'loss': 1.6164, 'learning_rate': 1.5218579234972679e-05, 'epoch': 4.95}\n"
     ]
    },
    {
     "output_type": "stream",
     "name": "stderr",
     "text": [
      "\n",
      " 25%|██▌       | 11105/44420 [29:45<1:25:28,  6.50it/s]"
     ]
    },
    {
     "output_type": "stream",
     "name": "stdout",
     "text": [
      "{'eval_loss': 1.4090052843093872, 'eval_accuracy': 0.5348365847479098, 'eval_f1': 0.457274537395622, 'eval_precision': 0.5246447437846234, 'eval_recall': 0.43971845991972486, 'eval_top3': 0.7897137066126172, 'eval_top2': 0.7091461869774512, 'eval_runtime': 9.5654, 'eval_samples_per_second': 412.631, 'epoch': 5.0}\n"
     ]
    },
    {
     "output_type": "stream",
     "name": "stderr",
     "text": [
      " 26%|██▌       | 11501/44420 [30:49<1:24:55,  6.46it/s]"
     ]
    },
    {
     "output_type": "stream",
     "name": "stdout",
     "text": [
      "{'loss': 1.5054, 'learning_rate': 1.499089253187614e-05, 'epoch': 5.18}\n"
     ]
    },
    {
     "output_type": "stream",
     "name": "stderr",
     "text": [
      " 27%|██▋       | 12001/44420 [32:05<1:23:28,  6.47it/s]"
     ]
    },
    {
     "output_type": "stream",
     "name": "stdout",
     "text": [
      "{'loss': 1.5098, 'learning_rate': 1.47632058287796e-05, 'epoch': 5.4}\n"
     ]
    },
    {
     "output_type": "stream",
     "name": "stderr",
     "text": [
      " 28%|██▊       | 12501/44420 [33:22<1:22:19,  6.46it/s]"
     ]
    },
    {
     "output_type": "stream",
     "name": "stdout",
     "text": [
      "{'loss': 1.5326, 'learning_rate': 1.4535519125683062e-05, 'epoch': 5.63}\n"
     ]
    },
    {
     "output_type": "stream",
     "name": "stderr",
     "text": [
      " 29%|██▉       | 13001/44420 [34:39<1:20:51,  6.48it/s]"
     ]
    },
    {
     "output_type": "stream",
     "name": "stdout",
     "text": [
      "{'loss': 1.549, 'learning_rate': 1.4307832422586523e-05, 'epoch': 5.85}\n"
     ]
    },
    {
     "output_type": "stream",
     "name": "stderr",
     "text": [
      "\n",
      " 30%|███       | 13326/44420 [35:38<1:19:32,  6.52it/s]"
     ]
    },
    {
     "output_type": "stream",
     "name": "stdout",
     "text": [
      "{'eval_loss': 1.3394817113876343, 'eval_accuracy': 0.540917152267545, 'eval_f1': 0.47390963896687105, 'eval_precision': 0.5136298928934661, 'eval_recall': 0.4564728625300581, 'eval_top3': 0.8178363313909298, 'eval_top2': 0.7268811755763871, 'eval_runtime': 9.5445, 'eval_samples_per_second': 413.537, 'epoch': 6.0}\n"
     ]
    },
    {
     "output_type": "stream",
     "name": "stderr",
     "text": [
      " 30%|███       | 13501/44420 [36:07<1:19:29,  6.48it/s]"
     ]
    },
    {
     "output_type": "stream",
     "name": "stdout",
     "text": [
      "{'loss': 1.5003, 'learning_rate': 1.4080145719489984e-05, 'epoch': 6.08}\n"
     ]
    },
    {
     "output_type": "stream",
     "name": "stderr",
     "text": [
      " 32%|███▏      | 14001/44420 [37:24<1:18:06,  6.49it/s]"
     ]
    },
    {
     "output_type": "stream",
     "name": "stdout",
     "text": [
      "{'loss': 1.424, 'learning_rate': 1.3852459016393445e-05, 'epoch': 6.3}\n"
     ]
    },
    {
     "output_type": "stream",
     "name": "stderr",
     "text": [
      " 33%|███▎      | 14501/44420 [38:41<1:16:51,  6.49it/s]"
     ]
    },
    {
     "output_type": "stream",
     "name": "stdout",
     "text": [
      "{'loss': 1.4652, 'learning_rate': 1.3624772313296906e-05, 'epoch': 6.53}\n"
     ]
    },
    {
     "output_type": "stream",
     "name": "stderr",
     "text": [
      " 34%|███▍      | 15001/44420 [39:58<1:15:44,  6.47it/s]"
     ]
    },
    {
     "output_type": "stream",
     "name": "stdout",
     "text": [
      "{'loss': 1.498, 'learning_rate': 1.3397085610200365e-05, 'epoch': 6.75}\n"
     ]
    },
    {
     "output_type": "stream",
     "name": "stderr",
     "text": [
      " 35%|███▍      | 15501/44420 [41:14<1:14:19,  6.49it/s]"
     ]
    },
    {
     "output_type": "stream",
     "name": "stdout",
     "text": [
      "{'loss': 1.5028, 'learning_rate': 1.3169398907103825e-05, 'epoch': 6.98}\n"
     ]
    },
    {
     "output_type": "stream",
     "name": "stderr",
     "text": [
      "\n",
      " 35%|███▌      | 15547/44420 [41:31<1:13:56,  6.51it/s]"
     ]
    },
    {
     "output_type": "stream",
     "name": "stdout",
     "text": [
      "{'eval_loss': 1.287715196609497, 'eval_accuracy': 0.5462376488472257, 'eval_f1': 0.476882413179973, 'eval_precision': 0.5303789398519996, 'eval_recall': 0.45808394671374053, 'eval_top3': 0.8345578920699265, 'eval_top2': 0.7377755257157335, 'eval_runtime': 9.538, 'eval_samples_per_second': 413.818, 'epoch': 7.0}\n"
     ]
    },
    {
     "output_type": "stream",
     "name": "stderr",
     "text": [
      " 36%|███▌      | 16001/44420 [42:43<1:12:59,  6.49it/s]"
     ]
    },
    {
     "output_type": "stream",
     "name": "stdout",
     "text": [
      "{'loss': 1.3782, 'learning_rate': 1.2941712204007287e-05, 'epoch': 7.2}\n"
     ]
    },
    {
     "output_type": "stream",
     "name": "stderr",
     "text": [
      " 37%|███▋      | 16501/44420 [44:00<1:11:45,  6.48it/s]"
     ]
    },
    {
     "output_type": "stream",
     "name": "stdout",
     "text": [
      "{'loss': 1.4038, 'learning_rate': 1.2714025500910747e-05, 'epoch': 7.43}\n"
     ]
    },
    {
     "output_type": "stream",
     "name": "stderr",
     "text": [
      " 38%|███▊      | 17001/44420 [45:16<1:10:29,  6.48it/s]"
     ]
    },
    {
     "output_type": "stream",
     "name": "stdout",
     "text": [
      "{'loss': 1.4319, 'learning_rate': 1.2486338797814207e-05, 'epoch': 7.65}\n"
     ]
    },
    {
     "output_type": "stream",
     "name": "stderr",
     "text": [
      " 39%|███▉      | 17501/44420 [46:33<1:09:17,  6.47it/s]"
     ]
    },
    {
     "output_type": "stream",
     "name": "stdout",
     "text": [
      "{'loss': 1.4642, 'learning_rate': 1.2258652094717669e-05, 'epoch': 7.88}\n"
     ]
    },
    {
     "output_type": "stream",
     "name": "stderr",
     "text": [
      "\n",
      " 40%|████      | 17768/44420 [47:24<1:08:15,  6.51it/s]"
     ]
    },
    {
     "output_type": "stream",
     "name": "stdout",
     "text": [
      "{'eval_loss': 1.2341631650924683, 'eval_accuracy': 0.5538383582467697, 'eval_f1': 0.48816129932675206, 'eval_precision': 0.5278706055788139, 'eval_recall': 0.4718374241280505, 'eval_top3': 0.8492525969090449, 'eval_top2': 0.7494299467950342, 'eval_runtime': 9.536, 'eval_samples_per_second': 413.905, 'epoch': 8.0}\n"
     ]
    },
    {
     "output_type": "stream",
     "name": "stderr",
     "text": [
      " 41%|████      | 18001/44420 [48:02<1:08:01,  6.47it/s]"
     ]
    },
    {
     "output_type": "stream",
     "name": "stdout",
     "text": [
      "{'loss': 1.3938, 'learning_rate': 1.203096539162113e-05, 'epoch': 8.1}\n"
     ]
    },
    {
     "output_type": "stream",
     "name": "stderr",
     "text": [
      " 42%|████▏     | 18501/44420 [49:19<1:06:36,  6.49it/s]"
     ]
    },
    {
     "output_type": "stream",
     "name": "stdout",
     "text": [
      "{'loss': 1.3378, 'learning_rate': 1.1803278688524591e-05, 'epoch': 8.33}\n"
     ]
    },
    {
     "output_type": "stream",
     "name": "stderr",
     "text": [
      " 43%|████▎     | 19001/44420 [50:35<1:05:21,  6.48it/s]"
     ]
    },
    {
     "output_type": "stream",
     "name": "stdout",
     "text": [
      "{'loss': 1.3912, 'learning_rate': 1.1575591985428051e-05, 'epoch': 8.55}\n"
     ]
    },
    {
     "output_type": "stream",
     "name": "stderr",
     "text": [
      " 44%|████▍     | 19501/44420 [51:52<1:04:03,  6.48it/s]"
     ]
    },
    {
     "output_type": "stream",
     "name": "stdout",
     "text": [
      "{'loss': 1.3747, 'learning_rate': 1.1347905282331513e-05, 'epoch': 8.78}\n"
     ]
    },
    {
     "output_type": "stream",
     "name": "stderr",
     "text": [
      "\n",
      " 45%|████▌     | 19989/44420 [53:17<1:02:37,  6.50it/s]"
     ]
    },
    {
     "output_type": "stream",
     "name": "stdout",
     "text": [
      "{'eval_loss': 1.1853641271591187, 'eval_accuracy': 0.5606789967063592, 'eval_f1': 0.4997668438568282, 'eval_precision': 0.5343591253004567, 'eval_recall': 0.4864268858178364, 'eval_top3': 0.866734228527996, 'eval_top2': 0.7707119331137573, 'eval_runtime': 9.541, 'eval_samples_per_second': 413.688, 'epoch': 9.0}\n"
     ]
    },
    {
     "output_type": "stream",
     "name": "stderr",
     "text": [
      " 45%|████▌     | 20001/44420 [53:21<1:31:24,  4.45it/s]"
     ]
    },
    {
     "output_type": "stream",
     "name": "stdout",
     "text": [
      "{'loss': 1.4092, 'learning_rate': 1.1120218579234973e-05, 'epoch': 9.0}\n"
     ]
    },
    {
     "output_type": "stream",
     "name": "stderr",
     "text": [
      " 46%|████▌     | 20501/44420 [54:37<1:01:34,  6.47it/s]"
     ]
    },
    {
     "output_type": "stream",
     "name": "stdout",
     "text": [
      "{'loss': 1.2795, 'learning_rate': 1.0892531876138435e-05, 'epoch': 9.23}\n"
     ]
    },
    {
     "output_type": "stream",
     "name": "stderr",
     "text": [
      " 47%|████▋     | 21001/44420 [55:54<1:00:19,  6.47it/s]"
     ]
    },
    {
     "output_type": "stream",
     "name": "stdout",
     "text": [
      "{'loss': 1.3136, 'learning_rate': 1.0664845173041895e-05, 'epoch': 9.46}\n"
     ]
    },
    {
     "output_type": "stream",
     "name": "stderr",
     "text": [
      " 48%|████▊     | 21501/44420 [57:11<58:57,  6.48it/s]"
     ]
    },
    {
     "output_type": "stream",
     "name": "stdout",
     "text": [
      "{'loss': 1.3559, 'learning_rate': 1.0437158469945357e-05, 'epoch': 9.68}\n"
     ]
    },
    {
     "output_type": "stream",
     "name": "stderr",
     "text": [
      " 50%|████▉     | 22001/44420 [58:28<57:42,  6.48it/s]"
     ]
    },
    {
     "output_type": "stream",
     "name": "stdout",
     "text": [
      "{'loss': 1.3661, 'learning_rate': 1.0209471766848817e-05, 'epoch': 9.91}\n"
     ]
    },
    {
     "output_type": "stream",
     "name": "stderr",
     "text": [
      "\n",
      " 50%|█████     | 22210/44420 [59:09<56:51,  6.51it/s]"
     ]
    },
    {
     "output_type": "stream",
     "name": "stdout",
     "text": [
      "{'eval_loss': 1.1415389776229858, 'eval_accuracy': 0.5667595642259944, 'eval_f1': 0.5096953878813172, 'eval_precision': 0.5382104704137233, 'eval_recall': 0.496229760009846, 'eval_top3': 0.8718013681276919, 'eval_top2': 0.7742589308335445, 'eval_runtime': 9.5385, 'eval_samples_per_second': 413.797, 'epoch': 10.0}\n"
     ]
    },
    {
     "output_type": "stream",
     "name": "stderr",
     "text": [
      " 51%|█████     | 22501/44420 [59:56<56:22,  6.48it/s]"
     ]
    },
    {
     "output_type": "stream",
     "name": "stdout",
     "text": [
      "{'loss': 1.2843, 'learning_rate': 9.981785063752277e-06, 'epoch': 10.13}\n"
     ]
    },
    {
     "output_type": "stream",
     "name": "stderr",
     "text": [
      " 52%|█████▏    | 23001/44420 [1:01:13<55:02,  6.49it/s]"
     ]
    },
    {
     "output_type": "stream",
     "name": "stdout",
     "text": [
      "{'loss': 1.2529, 'learning_rate': 9.754098360655738e-06, 'epoch': 10.36}\n"
     ]
    },
    {
     "output_type": "stream",
     "name": "stderr",
     "text": [
      " 53%|█████▎    | 23501/44420 [1:02:30<53:51,  6.47it/s]"
     ]
    },
    {
     "output_type": "stream",
     "name": "stdout",
     "text": [
      "{'loss': 1.3076, 'learning_rate': 9.5264116575592e-06, 'epoch': 10.58}\n"
     ]
    },
    {
     "output_type": "stream",
     "name": "stderr",
     "text": [
      " 54%|█████▍    | 24001/44420 [1:03:47<52:34,  6.47it/s]"
     ]
    },
    {
     "output_type": "stream",
     "name": "stdout",
     "text": [
      "{'loss': 1.3302, 'learning_rate': 9.29872495446266e-06, 'epoch': 10.81}\n"
     ]
    },
    {
     "output_type": "stream",
     "name": "stderr",
     "text": [
      "\n",
      " 55%|█████▌    | 24431/44420 [1:05:02<51:15,  6.50it/s]"
     ]
    },
    {
     "output_type": "stream",
     "name": "stdout",
     "text": [
      "{'eval_loss': 1.1104670763015747, 'eval_accuracy': 0.5718267038256905, 'eval_f1': 0.5142369308227445, 'eval_precision': 0.5419780858778129, 'eval_recall': 0.4991544760524656, 'eval_top3': 0.8799087914872055, 'eval_top2': 0.782366354193058, 'eval_runtime': 9.541, 'eval_samples_per_second': 413.688, 'epoch': 11.0}\n"
     ]
    },
    {
     "output_type": "stream",
     "name": "stderr",
     "text": [
      " 55%|█████▌    | 24501/44420 [1:05:15<51:14,  6.48it/s]"
     ]
    },
    {
     "output_type": "stream",
     "name": "stdout",
     "text": [
      "{'loss': 1.332, 'learning_rate': 9.071038251366122e-06, 'epoch': 11.03}\n"
     ]
    },
    {
     "output_type": "stream",
     "name": "stderr",
     "text": [
      " 56%|█████▋    | 25001/44420 [1:06:32<49:55,  6.48it/s]"
     ]
    },
    {
     "output_type": "stream",
     "name": "stdout",
     "text": [
      "{'loss': 1.225, 'learning_rate': 8.843351548269582e-06, 'epoch': 11.26}\n"
     ]
    },
    {
     "output_type": "stream",
     "name": "stderr",
     "text": [
      " 57%|█████▋    | 25501/44420 [1:07:49<48:42,  6.47it/s]"
     ]
    },
    {
     "output_type": "stream",
     "name": "stdout",
     "text": [
      "{'loss': 1.2528, 'learning_rate': 8.615664845173044e-06, 'epoch': 11.48}\n"
     ]
    },
    {
     "output_type": "stream",
     "name": "stderr",
     "text": [
      " 59%|█████▊    | 26001/44420 [1:09:06<47:24,  6.48it/s]"
     ]
    },
    {
     "output_type": "stream",
     "name": "stdout",
     "text": [
      "{'loss': 1.2648, 'learning_rate': 8.387978142076504e-06, 'epoch': 11.71}\n"
     ]
    },
    {
     "output_type": "stream",
     "name": "stderr",
     "text": [
      " 60%|█████▉    | 26501/44420 [1:10:22<46:04,  6.48it/s]"
     ]
    },
    {
     "output_type": "stream",
     "name": "stdout",
     "text": [
      "{'loss': 1.3038, 'learning_rate': 8.160291438979966e-06, 'epoch': 11.93}\n"
     ]
    },
    {
     "output_type": "stream",
     "name": "stderr",
     "text": [
      "\n",
      " 60%|██████    | 26652/44420 [1:10:55<45:29,  6.51it/s]"
     ]
    },
    {
     "output_type": "stream",
     "name": "stdout",
     "text": [
      "{'eval_loss': 1.0892435312271118, 'eval_accuracy': 0.5665062072460096, 'eval_f1': 0.5094883300257705, 'eval_precision': 0.5366307561381868, 'eval_recall': 0.4953652196885758, 'eval_top3': 0.8753483658474791, 'eval_top2': 0.7909804915125411, 'eval_runtime': 9.537, 'eval_samples_per_second': 413.861, 'epoch': 12.0}\n"
     ]
    },
    {
     "output_type": "stream",
     "name": "stderr",
     "text": [
      " 61%|██████    | 27001/44420 [1:11:51<44:45,  6.49it/s]"
     ]
    },
    {
     "output_type": "stream",
     "name": "stdout",
     "text": [
      "{'loss': 1.2179, 'learning_rate': 7.932604735883424e-06, 'epoch': 12.16}\n"
     ]
    },
    {
     "output_type": "stream",
     "name": "stderr",
     "text": [
      " 62%|██████▏   | 27501/44420 [1:13:08<43:27,  6.49it/s]"
     ]
    },
    {
     "output_type": "stream",
     "name": "stdout",
     "text": [
      "{'loss': 1.211, 'learning_rate': 7.704918032786886e-06, 'epoch': 12.38}\n"
     ]
    },
    {
     "output_type": "stream",
     "name": "stderr",
     "text": [
      " 63%|██████▎   | 28001/44420 [1:14:24<42:09,  6.49it/s]"
     ]
    },
    {
     "output_type": "stream",
     "name": "stdout",
     "text": [
      "{'loss': 1.2445, 'learning_rate': 7.477231329690347e-06, 'epoch': 12.61}\n"
     ]
    },
    {
     "output_type": "stream",
     "name": "stderr",
     "text": [
      " 64%|██████▍   | 28501/44420 [1:15:41<40:52,  6.49it/s]"
     ]
    },
    {
     "output_type": "stream",
     "name": "stdout",
     "text": [
      "{'loss': 1.2602, 'learning_rate': 7.249544626593807e-06, 'epoch': 12.83}\n"
     ]
    },
    {
     "output_type": "stream",
     "name": "stderr",
     "text": [
      "\n",
      " 65%|██████▌   | 28873/44420 [1:16:48<39:46,  6.52it/s]"
     ]
    },
    {
     "output_type": "stream",
     "name": "stdout",
     "text": [
      "{'eval_loss': 1.0772356986999512, 'eval_accuracy': 0.5649860653661009, 'eval_f1': 0.5063150208459314, 'eval_precision': 0.542562975729666, 'eval_recall': 0.49049882076776746, 'eval_top3': 0.8796554345072207, 'eval_top2': 0.787433493792754, 'eval_runtime': 9.5246, 'eval_samples_per_second': 414.403, 'epoch': 13.0}\n"
     ]
    },
    {
     "output_type": "stream",
     "name": "stderr",
     "text": [
      " 65%|██████▌   | 29001/44420 [1:17:09<39:42,  6.47it/s]"
     ]
    },
    {
     "output_type": "stream",
     "name": "stdout",
     "text": [
      "{'loss': 1.2399, 'learning_rate': 7.021857923497268e-06, 'epoch': 13.06}\n"
     ]
    },
    {
     "output_type": "stream",
     "name": "stderr",
     "text": [
      " 66%|██████▋   | 29501/44420 [1:18:26<38:26,  6.47it/s]"
     ]
    },
    {
     "output_type": "stream",
     "name": "stdout",
     "text": [
      "{'loss': 1.188, 'learning_rate': 6.794171220400729e-06, 'epoch': 13.28}\n"
     ]
    },
    {
     "output_type": "stream",
     "name": "stderr",
     "text": [
      " 68%|██████▊   | 30001/44420 [1:19:43<37:04,  6.48it/s]"
     ]
    },
    {
     "output_type": "stream",
     "name": "stdout",
     "text": [
      "{'loss': 1.1954, 'learning_rate': 6.56648451730419e-06, 'epoch': 13.51}\n"
     ]
    },
    {
     "output_type": "stream",
     "name": "stderr",
     "text": [
      " 69%|██████▊   | 30501/44420 [1:21:00<35:44,  6.49it/s]"
     ]
    },
    {
     "output_type": "stream",
     "name": "stdout",
     "text": [
      "{'loss': 1.2214, 'learning_rate': 6.338797814207651e-06, 'epoch': 13.73}\n"
     ]
    },
    {
     "output_type": "stream",
     "name": "stderr",
     "text": [
      " 70%|██████▉   | 31001/44420 [1:22:17<34:32,  6.48it/s]"
     ]
    },
    {
     "output_type": "stream",
     "name": "stdout",
     "text": [
      "{'loss': 1.2398, 'learning_rate': 6.111111111111112e-06, 'epoch': 13.96}\n"
     ]
    },
    {
     "output_type": "stream",
     "name": "stderr",
     "text": [
      "\n",
      " 70%|███████   | 31094/44420 [1:22:40<34:03,  6.52it/s]"
     ]
    },
    {
     "output_type": "stream",
     "name": "stdout",
     "text": [
      "{'eval_loss': 1.0539637804031372, 'eval_accuracy': 0.5743602736255384, 'eval_f1': 0.5253571226564488, 'eval_precision': 0.5556288397547303, 'eval_recall': 0.5098502762322196, 'eval_top3': 0.8824423612870534, 'eval_top2': 0.7894603496326323, 'eval_runtime': 9.5355, 'eval_samples_per_second': 413.926, 'epoch': 14.0}\n"
     ]
    },
    {
     "output_type": "stream",
     "name": "stderr",
     "text": [
      " 71%|███████   | 31501/44420 [1:23:44<32:50,  6.55it/s]"
     ]
    },
    {
     "output_type": "stream",
     "name": "stdout",
     "text": [
      "{'loss': 1.1641, 'learning_rate': 5.883424408014572e-06, 'epoch': 14.18}\n"
     ]
    },
    {
     "output_type": "stream",
     "name": "stderr",
     "text": [
      " 72%|███████▏  | 32001/44420 [1:25:00<31:30,  6.57it/s]"
     ]
    },
    {
     "output_type": "stream",
     "name": "stdout",
     "text": [
      "{'loss': 1.1878, 'learning_rate': 5.655737704918033e-06, 'epoch': 14.41}\n"
     ]
    },
    {
     "output_type": "stream",
     "name": "stderr",
     "text": [
      " 73%|███████▎  | 32501/44420 [1:26:16<30:16,  6.56it/s]"
     ]
    },
    {
     "output_type": "stream",
     "name": "stdout",
     "text": [
      "{'loss': 1.1746, 'learning_rate': 5.428051001821493e-06, 'epoch': 14.63}\n"
     ]
    },
    {
     "output_type": "stream",
     "name": "stderr",
     "text": [
      " 74%|███████▍  | 33001/44420 [1:27:32<29:01,  6.56it/s]"
     ]
    },
    {
     "output_type": "stream",
     "name": "stdout",
     "text": [
      "{'loss': 1.2032, 'learning_rate': 5.200364298724954e-06, 'epoch': 14.86}\n"
     ]
    },
    {
     "output_type": "stream",
     "name": "stderr",
     "text": [
      "\n",
      " 75%|███████▌  | 33315/44420 [1:28:29<28:03,  6.60it/s]"
     ]
    },
    {
     "output_type": "stream",
     "name": "stdout",
     "text": [
      "{'eval_loss': 1.041472315788269, 'eval_accuracy': 0.574866987585508, 'eval_f1': 0.5250775857548562, 'eval_precision': 0.5556852941035447, 'eval_recall': 0.5123010219083092, 'eval_top3': 0.8791487205472511, 'eval_top2': 0.791233848492526, 'eval_runtime': 9.4148, 'eval_samples_per_second': 419.232, 'epoch': 15.0}\n"
     ]
    },
    {
     "output_type": "stream",
     "name": "stderr",
     "text": [
      " 75%|███████▌  | 33501/44420 [1:28:59<27:47,  6.55it/s]"
     ]
    },
    {
     "output_type": "stream",
     "name": "stdout",
     "text": [
      "{'loss': 1.1931, 'learning_rate': 4.9726775956284154e-06, 'epoch': 15.08}\n"
     ]
    },
    {
     "output_type": "stream",
     "name": "stderr",
     "text": [
      " 77%|███████▋  | 34001/44420 [1:30:15<26:27,  6.56it/s]"
     ]
    },
    {
     "output_type": "stream",
     "name": "stdout",
     "text": [
      "{'loss': 1.1308, 'learning_rate': 4.7449908925318764e-06, 'epoch': 15.31}\n"
     ]
    },
    {
     "output_type": "stream",
     "name": "stderr",
     "text": [
      " 78%|███████▊  | 34501/44420 [1:31:31<25:12,  6.56it/s]"
     ]
    },
    {
     "output_type": "stream",
     "name": "stdout",
     "text": [
      "{'loss': 1.1654, 'learning_rate': 4.5173041894353374e-06, 'epoch': 15.53}\n"
     ]
    },
    {
     "output_type": "stream",
     "name": "stderr",
     "text": [
      " 79%|███████▉  | 35001/44420 [1:32:46<23:56,  6.56it/s]"
     ]
    },
    {
     "output_type": "stream",
     "name": "stdout",
     "text": [
      "{'loss': 1.1824, 'learning_rate': 4.289617486338798e-06, 'epoch': 15.76}\n"
     ]
    },
    {
     "output_type": "stream",
     "name": "stderr",
     "text": [
      " 80%|███████▉  | 35501/44420 [1:34:02<22:40,  6.56it/s]"
     ]
    },
    {
     "output_type": "stream",
     "name": "stdout",
     "text": [
      "{'loss': 1.1871, 'learning_rate': 4.061930783242259e-06, 'epoch': 15.98}\n"
     ]
    },
    {
     "output_type": "stream",
     "name": "stderr",
     "text": [
      "\n",
      " 80%|████████  | 35536/44420 [1:34:17<22:27,  6.59it/s]"
     ]
    },
    {
     "output_type": "stream",
     "name": "stdout",
     "text": [
      "{'eval_loss': 1.0301648378372192, 'eval_accuracy': 0.576133772485432, 'eval_f1': 0.5285393163366963, 'eval_precision': 0.5522393108926398, 'eval_recall': 0.5155443397245484, 'eval_top3': 0.8842158601469471, 'eval_top2': 0.7945274892323283, 'eval_runtime': 9.4158, 'eval_samples_per_second': 419.188, 'epoch': 16.0}\n"
     ]
    },
    {
     "output_type": "stream",
     "name": "stderr",
     "text": [
      " 81%|████████  | 36001/44420 [1:35:30<21:21,  6.57it/s]"
     ]
    },
    {
     "output_type": "stream",
     "name": "stdout",
     "text": [
      "{'loss': 1.1067, 'learning_rate': 3.83424408014572e-06, 'epoch': 16.21}\n"
     ]
    },
    {
     "output_type": "stream",
     "name": "stderr",
     "text": [
      " 82%|████████▏ | 36501/44420 [1:36:45<20:07,  6.56it/s]"
     ]
    },
    {
     "output_type": "stream",
     "name": "stdout",
     "text": [
      "{'loss': 1.1273, 'learning_rate': 3.6065573770491806e-06, 'epoch': 16.43}\n"
     ]
    },
    {
     "output_type": "stream",
     "name": "stderr",
     "text": [
      " 83%|████████▎ | 37001/44420 [1:38:01<18:50,  6.56it/s]"
     ]
    },
    {
     "output_type": "stream",
     "name": "stdout",
     "text": [
      "{'loss': 1.1521, 'learning_rate': 3.3788706739526416e-06, 'epoch': 16.66}\n"
     ]
    },
    {
     "output_type": "stream",
     "name": "stderr",
     "text": [
      " 84%|████████▍ | 37501/44420 [1:39:17<17:32,  6.57it/s]"
     ]
    },
    {
     "output_type": "stream",
     "name": "stdout",
     "text": [
      "{'loss': 1.1662, 'learning_rate': 3.1511839708561022e-06, 'epoch': 16.88}\n"
     ]
    },
    {
     "output_type": "stream",
     "name": "stderr",
     "text": [
      "\n",
      " 85%|████████▌ | 37757/44420 [1:40:05<16:50,  6.60it/s]"
     ]
    },
    {
     "output_type": "stream",
     "name": "stdout",
     "text": [
      "{'eval_loss': 1.0243563652038574, 'eval_accuracy': 0.5766404864454016, 'eval_f1': 0.5316538589564456, 'eval_precision': 0.546277783485254, 'eval_recall': 0.5233829825328863, 'eval_top3': 0.8826957182670383, 'eval_top2': 0.7907271345325564, 'eval_runtime': 9.4098, 'eval_samples_per_second': 419.454, 'epoch': 17.0}\n"
     ]
    },
    {
     "output_type": "stream",
     "name": "stderr",
     "text": [
      " 86%|████████▌ | 38001/44420 [1:40:44<16:17,  6.57it/s]"
     ]
    },
    {
     "output_type": "stream",
     "name": "stdout",
     "text": [
      "{'loss': 1.1352, 'learning_rate': 2.923497267759563e-06, 'epoch': 17.11}\n"
     ]
    },
    {
     "output_type": "stream",
     "name": "stderr",
     "text": [
      " 87%|████████▋ | 38501/44420 [1:42:00<15:02,  6.56it/s]"
     ]
    },
    {
     "output_type": "stream",
     "name": "stdout",
     "text": [
      "{'loss': 1.0986, 'learning_rate': 2.695810564663024e-06, 'epoch': 17.33}\n"
     ]
    },
    {
     "output_type": "stream",
     "name": "stderr",
     "text": [
      " 88%|████████▊ | 39001/44420 [1:43:16<13:44,  6.57it/s]"
     ]
    },
    {
     "output_type": "stream",
     "name": "stdout",
     "text": [
      "{'loss': 1.1239, 'learning_rate': 2.4681238615664844e-06, 'epoch': 17.56}\n"
     ]
    },
    {
     "output_type": "stream",
     "name": "stderr",
     "text": [
      " 89%|████████▉ | 39501/44420 [1:44:32<12:29,  6.56it/s]"
     ]
    },
    {
     "output_type": "stream",
     "name": "stdout",
     "text": [
      "{'loss': 1.1438, 'learning_rate': 2.2404371584699454e-06, 'epoch': 17.78}\n"
     ]
    },
    {
     "output_type": "stream",
     "name": "stderr",
     "text": [
      "\n",
      " 90%|█████████ | 39978/44420 [1:45:53<11:13,  6.59it/s]"
     ]
    },
    {
     "output_type": "stream",
     "name": "stdout",
     "text": [
      "{'eval_loss': 1.0161585807800293, 'eval_accuracy': 0.5763871294654168, 'eval_f1': 0.5293203440112453, 'eval_precision': 0.5510595830645911, 'eval_recall': 0.5168614256759462, 'eval_top3': 0.8811755763871295, 'eval_top2': 0.7907271345325564, 'eval_runtime': 9.4079, 'eval_samples_per_second': 419.543, 'epoch': 18.0}\n"
     ]
    },
    {
     "output_type": "stream",
     "name": "stderr",
     "text": [
      " 90%|█████████ | 40001/44420 [1:45:59<11:18,  6.51it/s]"
     ]
    },
    {
     "output_type": "stream",
     "name": "stdout",
     "text": [
      "{'loss': 1.1292, 'learning_rate': 2.0127504553734064e-06, 'epoch': 18.01}\n"
     ]
    },
    {
     "output_type": "stream",
     "name": "stderr",
     "text": [
      " 91%|█████████ | 40501/44420 [1:47:15<09:57,  6.56it/s]"
     ]
    },
    {
     "output_type": "stream",
     "name": "stdout",
     "text": [
      "{'loss': 1.1089, 'learning_rate': 1.7850637522768672e-06, 'epoch': 18.24}\n"
     ]
    },
    {
     "output_type": "stream",
     "name": "stderr",
     "text": [
      " 92%|█████████▏| 41001/44420 [1:48:30<08:41,  6.56it/s]"
     ]
    },
    {
     "output_type": "stream",
     "name": "stdout",
     "text": [
      "{'loss': 1.0874, 'learning_rate': 1.557377049180328e-06, 'epoch': 18.46}\n"
     ]
    },
    {
     "output_type": "stream",
     "name": "stderr",
     "text": [
      " 93%|█████████▎| 41501/44420 [1:49:46<07:25,  6.56it/s]"
     ]
    },
    {
     "output_type": "stream",
     "name": "stdout",
     "text": [
      "{'loss': 1.0965, 'learning_rate': 1.3296903460837888e-06, 'epoch': 18.69}\n"
     ]
    },
    {
     "output_type": "stream",
     "name": "stderr",
     "text": [
      " 95%|█████████▍| 42001/44420 [1:51:02<06:08,  6.57it/s]"
     ]
    },
    {
     "output_type": "stream",
     "name": "stdout",
     "text": [
      "{'loss': 1.1223, 'learning_rate': 1.1020036429872496e-06, 'epoch': 18.91}\n"
     ]
    },
    {
     "output_type": "stream",
     "name": "stderr",
     "text": [
      "\n",
      " 95%|█████████▌| 42199/44420 [1:51:41<05:36,  6.60it/s]"
     ]
    },
    {
     "output_type": "stream",
     "name": "stdout",
     "text": [
      "{'eval_loss': 1.0144585371017456, 'eval_accuracy': 0.5746136306055232, 'eval_f1': 0.5292369128056903, 'eval_precision': 0.5447171103646342, 'eval_recall': 0.5199929007044556, 'eval_top3': 0.8826957182670383, 'eval_top2': 0.7917405624524956, 'eval_runtime': 9.4079, 'eval_samples_per_second': 419.543, 'epoch': 19.0}\n"
     ]
    },
    {
     "output_type": "stream",
     "name": "stderr",
     "text": [
      " 96%|█████████▌| 42501/44420 [1:52:29<04:52,  6.56it/s]"
     ]
    },
    {
     "output_type": "stream",
     "name": "stdout",
     "text": [
      "{'loss': 1.0961, 'learning_rate': 8.743169398907105e-07, 'epoch': 19.14}\n"
     ]
    },
    {
     "output_type": "stream",
     "name": "stderr",
     "text": [
      " 97%|█████████▋| 43001/44420 [1:53:45<03:36,  6.56it/s]"
     ]
    },
    {
     "output_type": "stream",
     "name": "stdout",
     "text": [
      "{'loss': 1.0783, 'learning_rate': 6.466302367941713e-07, 'epoch': 19.36}\n"
     ]
    },
    {
     "output_type": "stream",
     "name": "stderr",
     "text": [
      " 98%|█████████▊| 43501/44420 [1:55:01<02:20,  6.56it/s]"
     ]
    },
    {
     "output_type": "stream",
     "name": "stdout",
     "text": [
      "{'loss': 1.089, 'learning_rate': 4.1894353369763213e-07, 'epoch': 19.59}\n"
     ]
    },
    {
     "output_type": "stream",
     "name": "stderr",
     "text": [
      " 99%|█████████▉| 44001/44420 [1:56:17<01:03,  6.56it/s]"
     ]
    },
    {
     "output_type": "stream",
     "name": "stdout",
     "text": [
      "{'loss': 1.0695, 'learning_rate': 1.912568306010929e-07, 'epoch': 19.81}\n"
     ]
    },
    {
     "output_type": "stream",
     "name": "stderr",
     "text": [
      "\n",
      "100%|██████████| 44420/44420 [1:57:29<00:00,  6.60it/s]"
     ]
    },
    {
     "output_type": "stream",
     "name": "stdout",
     "text": [
      "{'eval_loss': 1.0121009349822998, 'eval_accuracy': 0.5741069166455536, 'eval_f1': 0.5288096905676282, 'eval_precision': 0.5445052841552933, 'eval_recall': 0.5186075178894037, 'eval_top3': 0.8821890043070687, 'eval_top2': 0.7894603496326323, 'eval_runtime': 9.4118, 'eval_samples_per_second': 419.365, 'epoch': 20.0}\n"
     ]
    },
    {
     "output_type": "stream",
     "name": "stderr",
     "text": [
      "100%|██████████| 44420/44420 [1:57:32<00:00,  6.30it/s]"
     ]
    },
    {
     "output_type": "stream",
     "name": "stdout",
     "text": [
      "{'train_runtime': 7052.3899, 'train_samples_per_second': 6.299, 'epoch': 20.0}\n"
     ]
    },
    {
     "output_type": "stream",
     "name": "stderr",
     "text": [
      "\n"
     ]
    },
    {
     "output_type": "execute_result",
     "data": {
      "text/plain": [
       "TrainOutput(global_step=44420, training_loss=1.3842319218868717, metrics={'train_runtime': 7052.3899, 'train_samples_per_second': 6.299, 'epoch': 20.0})"
      ]
     },
     "metadata": {},
     "execution_count": 18
    }
   ],
   "metadata": {}
  },
  {
   "cell_type": "code",
   "execution_count": 19,
   "source": [
    "trainer.evaluate()"
   ],
   "outputs": [
    {
     "output_type": "stream",
     "name": "stderr",
     "text": [
      "100%|██████████| 62/62 [00:09<00:00,  6.72it/s]\n"
     ]
    },
    {
     "output_type": "execute_result",
     "data": {
      "text/plain": [
       "{'eval_loss': 1.0243563652038574,\n",
       " 'eval_accuracy': 0.5766404864454016,\n",
       " 'eval_f1': 0.5316538589564456,\n",
       " 'eval_precision': 0.546277783485254,\n",
       " 'eval_recall': 0.5233829825328863,\n",
       " 'eval_top3': 0.8826957182670383,\n",
       " 'eval_top2': 0.7907271345325564,\n",
       " 'eval_runtime': 9.3876,\n",
       " 'eval_samples_per_second': 420.447,\n",
       " 'epoch': 20.0}"
      ]
     },
     "metadata": {},
     "execution_count": 19
    }
   ],
   "metadata": {}
  }
 ],
 "metadata": {
  "orig_nbformat": 4,
  "language_info": {
   "name": "python",
   "version": "3.8.10",
   "mimetype": "text/x-python",
   "codemirror_mode": {
    "name": "ipython",
    "version": 3
   },
   "pygments_lexer": "ipython3",
   "nbconvert_exporter": "python",
   "file_extension": ".py"
  },
  "kernelspec": {
   "name": "python3",
   "display_name": "Python 3.8.10 64-bit (windows store)"
  },
  "interpreter": {
   "hash": "6b31b91393804ba8dc9c9bfc0276b237c748fbfc9d237f295d2f8dc3a0ae1c04"
  }
 },
 "nbformat": 4,
 "nbformat_minor": 2
}